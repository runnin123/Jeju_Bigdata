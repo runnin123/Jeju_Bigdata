{
  "nbformat": 4,
  "nbformat_minor": 0,
  "metadata": {
    "colab": {
      "name": "Jeju_bigdata_class.ipynb",
      "provenance": [],
      "collapsed_sections": [],
      "machine_shape": "hm",
      "include_colab_link": true
    },
    "kernelspec": {
      "name": "python3",
      "display_name": "Python 3"
    },
    "accelerator": "GPU"
  },
  "cells": [
    {
      "cell_type": "markdown",
      "metadata": {
        "id": "view-in-github",
        "colab_type": "text"
      },
      "source": [
        "<a href=\"https://colab.research.google.com/github/runnin123/Jeju_Bigdata/blob/master/Jeju_bigdata_class.ipynb\" target=\"_parent\"><img src=\"https://colab.research.google.com/assets/colab-badge.svg\" alt=\"Open In Colab\"/></a>"
      ]
    },
    {
      "cell_type": "code",
      "metadata": {
        "id": "okwo2GM9u4Yp",
        "colab_type": "code",
        "colab": {
          "base_uri": "https://localhost:8080/",
          "height": 125
        },
        "outputId": "94a0dc75-2b08-4917-baec-a6e2a56edd03"
      },
      "source": [
        "from google.colab import drive\n",
        "drive.mount('/content/drive')"
      ],
      "execution_count": 1,
      "outputs": [
        {
          "output_type": "stream",
          "text": [
            "Go to this URL in a browser: https://accounts.google.com/o/oauth2/auth?client_id=947318989803-6bn6qk8qdgf4n4g3pfee6491hc0brc4i.apps.googleusercontent.com&redirect_uri=urn%3aietf%3awg%3aoauth%3a2.0%3aoob&response_type=code&scope=email%20https%3a%2f%2fwww.googleapis.com%2fauth%2fdocs.test%20https%3a%2f%2fwww.googleapis.com%2fauth%2fdrive%20https%3a%2f%2fwww.googleapis.com%2fauth%2fdrive.photos.readonly%20https%3a%2f%2fwww.googleapis.com%2fauth%2fpeopleapi.readonly\n",
            "\n",
            "Enter your authorization code:\n",
            "··········\n",
            "Mounted at /content/drive\n"
          ],
          "name": "stdout"
        }
      ]
    },
    {
      "cell_type": "code",
      "metadata": {
        "id": "7o-t__8yi21c",
        "colab_type": "code",
        "colab": {}
      },
      "source": [
        "from google.colab import auth\n",
        "auth.authenticate_user()"
      ],
      "execution_count": 2,
      "outputs": []
    },
    {
      "cell_type": "code",
      "metadata": {
        "id": "_UIq_EXMkFpU",
        "colab_type": "code",
        "colab": {}
      },
      "source": [
        "from google.cloud import bigquery\n",
        "from tabulate import tabulate\n",
        "import pandas as pd\n",
        "import numpy as np\n",
        "import sklearn\n",
        "from sklearn.preprocessing import LabelEncoder\n",
        "from xgboost import XGBRegressor\n",
        "from lightgbm import LGBMRegressor\n",
        "from sklearn.ensemble import GradientBoostingRegressor\n",
        "from sklearn.linear_model import LinearRegression\n",
        "\n",
        "from itertools import product\n",
        "\n",
        "# 평가 메트릭\n",
        "from sklearn.metrics import mean_squared_error, mean_absolute_error\n",
        "\n",
        "# 통계\n",
        "from scipy import stats\n",
        "from scipy.stats import norm, skew #for some statistics\n",
        "\n",
        "from sklearn.base import BaseEstimator, TransformerMixin, RegressorMixin, clone\n",
        "from sklearn.model_selection import KFold, cross_val_score, train_test_split, GridSearchCV\n",
        "from sklearn.metrics import mean_squared_error"
      ],
      "execution_count": 3,
      "outputs": []
    },
    {
      "cell_type": "code",
      "metadata": {
        "id": "ITVMC5JCkUoM",
        "colab_type": "code",
        "colab": {}
      },
      "source": [
        "# %cd /content/drive/My\\ Drive/Colab\\ Notebooks\n",
        "# !ls"
      ],
      "execution_count": 3,
      "outputs": []
    },
    {
      "cell_type": "code",
      "metadata": {
        "id": "j_YNjGuIkWxd",
        "colab_type": "code",
        "colab": {}
      },
      "source": [
        "# from jeju_class import *"
      ],
      "execution_count": 4,
      "outputs": []
    },
    {
      "cell_type": "code",
      "metadata": {
        "id": "zjUaxNOhmxnc",
        "colab_type": "code",
        "colab": {}
      },
      "source": [
        "class Model:\n",
        "    def __init__(self, data, num):\n",
        "        self.X_train = data[0]\n",
        "        self.X_test = data[1]\n",
        "        self.y_train = data[2]\n",
        "        self.y_test = data[3]\n",
        "        self.encoding_data = num\n",
        "\n",
        "    def rmsle(self, y, pred): \n",
        "        log_y = np.log1p(y)\n",
        "        log_pred = np.log1p(pred)\n",
        "        squared_error = (log_y - log_pred)**2\n",
        "        rmsle = np.sqrt(np.mean(squared_error))\n",
        "        print(round(rmsle, 3))\n",
        "\n",
        "        return round(rmsle, 3)\n",
        "\n",
        "    def best_params_model(self, model, params):\n",
        "        cv_model = GridSearchCV(model, param_grid=params, scoring=\"neg_mean_squared_error\", cv = 5)\n",
        "        cv_model.fit(self.X_train, self.y_train)\n",
        "        eval_pred = cv_model.predict(self.X_test)\n",
        "        eval_pred = np.expm1(eval_pred)\n",
        "        rmsle_ = self.rmsle(self.y_test, eval_pred)\n",
        "\n",
        "        return  cv_model.best_estimator_, rmsle_\n",
        "\n",
        "    def get_model(self):\n",
        "        xgb = XGBRegressor(random_state=0)\n",
        "        gbm = GradientBoostingRegressor(random_state=0)\n",
        "        lgb = LGBMRegressor(random_state=0)\n",
        "\n",
        "        params = {'n_estimators': [1000, 2000]}\n",
        "\n",
        "        models = [xgb, gbm, lgb]\n",
        "        best_models = []\n",
        "        rmsles = []\n",
        "        \n",
        "        for model in models:\n",
        "            new_model = self.best_params_model(model, params)[0]\n",
        "            new_rmsle = self.best_params_model(model, params)[1]\n",
        "            best_models.append(new_model)\n",
        "            rmsles.append(new_rmsle)\n",
        "\n",
        "        self.xgb_reg = best_models[0]\n",
        "        self.gbm_reg = best_models[1]\n",
        "        self.lgb_reg = best_models[2]\n",
        "\n",
        "        self.xgb_rmsle = rmsles[0]\n",
        "        self.gbm_rmsle = rmsles[1]\n",
        "        self.lgb_rmsle = rmsles[2]\n",
        "\n",
        "    def final(self):\n",
        "\n",
        "        xgb_pred = self.xgb_reg.predict(self.X_test)\n",
        "        xgb_pred = np.expm1(xgb_pred)\n",
        "\n",
        "        gbm_pred = self.gbm_reg.predict(self.X_test)\n",
        "        gbm_pred = np.expm1(gbm_pred)\n",
        "\n",
        "        lgb_pred = self.lgb_reg.predict(self.X_test)\n",
        "        lgb_pred = np.expm1(lgb_pred)\n",
        "\n",
        "        pred = np.array([xgb_pred, gbm_pred, lgb_pred])\n",
        "        pred = np.transpose(pred)\n",
        "\n",
        "        rmsle_sum = self.xgb_rmsle + self.gbm_rmsle + self.lgb_rmsle\n",
        "\n",
        "        self.xgb_per = self.xgb_rmsle / rmsle_sum\n",
        "        self.gbm_per = self.gbm_rmsle / rmsle_sum\n",
        "        self.lgb_per = self.lgb_rmsle / rmsle_sum\n",
        "        \n",
        "        final = xgb_pred*self.xgb_per + gbm_pred*self.gbm_per + lgb_pred*self.lgb_per\n",
        "        self.rmsle(self.y_test, final)\n",
        "\n",
        "    def make_temp(self):\n",
        "        CARD_SIDO_NMs = self.encoding_data['CARD_SIDO_NM'].unique()\n",
        "        STD_CLSS_NMs  = self.encoding_data['STD_CLSS_NM'].unique()\n",
        "        HOM_SIDO_NMs  = self.encoding_data['HOM_SIDO_NM'].unique()\n",
        "        AGEs          = self.encoding_data['AGE'].unique()\n",
        "        SEX_CTGO_CDs  = self.encoding_data['SEX_CTGO_CD'].unique()\n",
        "        FLCs          = self.encoding_data['FLC'].unique()\n",
        "        years         = [2020]\n",
        "        months        = [4, 7]\n",
        "\n",
        "        comb_list = [CARD_SIDO_NMs, STD_CLSS_NMs,HOM_SIDO_NMs, AGEs, SEX_CTGO_CDs, FLCs, years, months]\n",
        "        temp = np.array(list(product(*comb_list)))\n",
        "\n",
        "        train_features = self.encoding_data.drop(['CSTMR_CNT', 'AMT', 'CNT'], axis=1)\n",
        "        tmp = pd.DataFrame(data=temp, columns=train_features.columns)\n",
        "\n",
        "        return tmp\n",
        "\n",
        "    def make_sub(self, temp):\n",
        "        xgb_pred = self.xgb_reg.predict(temp)\n",
        "        xgb_pred = np.expm1(xgb_pred)\n",
        "\n",
        "        gbm_pred = self.gbm_reg.predict(temp)\n",
        "        gbm_pred = np.expm1(gbm_pred)\n",
        "\n",
        "        lgb_pred = self.lgb_reg.predict(temp)\n",
        "        lgb_pred = np.expm1(lgb_pred)\n",
        "\n",
        "        final_rmsle = xgb_pred*self.xgb_per + gbm_pred*self.gbm_per + lgb_pred*self.lgb_per\n",
        "\n",
        "        temp['AMT'] = np.round(final_rmsle, 0)\n",
        "        temp['REG_YYMM'] = temp['year']*100 + temp['month']\n",
        "        temp = temp[['REG_YYMM', 'CARD_SIDO_NM', 'STD_CLSS_NM', 'AMT']]\n",
        "        temp = temp.groupby(['REG_YYMM', 'CARD_SIDO_NM', 'STD_CLSS_NM']).sum().reset_index(drop = False)\n",
        "\n",
        "        temp['CARD_SIDO_NM'] = encoders['CARD_SIDO_NM'].inverse_transform(temp['CARD_SIDO_NM'])\n",
        "        temp['STD_CLSS_NM'] = encoders['STD_CLSS_NM'].inverse_transform(temp['STD_CLSS_NM'])\n",
        "\n",
        "        return temp"
      ],
      "execution_count": 4,
      "outputs": []
    },
    {
      "cell_type": "code",
      "metadata": {
        "id": "cfk8Ys2qlaI7",
        "colab_type": "code",
        "colab": {}
      },
      "source": [
        "def sampling():\n",
        "    project_id = 'jeju-bigquery-282708'\n",
        "    client = bigquery.Client(project=project_id)\n",
        "\n",
        "    train = client.query('''\n",
        "    SELECT \n",
        "        * \n",
        "    FROM `jeju-bigquery-282708.jeju_bigdata.201901_202003_train`\n",
        "    ''').to_dataframe()\n",
        "\n",
        "    return train"
      ],
      "execution_count": 5,
      "outputs": []
    },
    {
      "cell_type": "code",
      "metadata": {
        "id": "QDqMTHEzlg-v",
        "colab_type": "code",
        "colab": {}
      },
      "source": [
        "def grap_year(data):\n",
        "    data = str(data)\n",
        "    return int(data[:4])\n",
        "\n",
        "def grap_month(data):\n",
        "    data = str(data)\n",
        "    return int(data[4:])"
      ],
      "execution_count": 6,
      "outputs": []
    },
    {
      "cell_type": "code",
      "metadata": {
        "id": "H0Gjic9UliBs",
        "colab_type": "code",
        "colab": {}
      },
      "source": [
        "def data_pre(data):\n",
        "    data = data.fillna('')\n",
        "    data['year'] = data['REG_YYMM'].apply(lambda x: grap_year(x))\n",
        "    data['month'] = data['REG_YYMM'].apply(lambda x: grap_month(x))\n",
        "    data = data.drop(['REG_YYMM'], axis = 1)\n",
        "\n",
        "    return data"
      ],
      "execution_count": 7,
      "outputs": []
    },
    {
      "cell_type": "code",
      "metadata": {
        "id": "HzKGMQGfljxv",
        "colab_type": "code",
        "colab": {}
      },
      "source": [
        "def cate(data):\n",
        "    local = data[data['CARD_CCG_NM'] == data['HOM_CCG_NM']].reset_index(drop = True)\n",
        "    tourist = data[data['CARD_CCG_NM'] != data['HOM_CCG_NM']].reset_index(drop = True)\n",
        "\n",
        "    local, tourist = local.drop(['CARD_CCG_NM', 'HOM_CCG_NM'], axis=1), tourist.drop(['CARD_CCG_NM', 'HOM_CCG_NM'], axis=1)\n",
        "    columns = ['CARD_SIDO_NM', 'STD_CLSS_NM', 'HOM_SIDO_NM', 'AGE', 'SEX_CTGO_CD', 'FLC', 'year', 'month']\n",
        "    local, tourist = local.groupby(columns).sum().reset_index(drop=False), tourist.groupby(columns).sum().reset_index(drop=False)\n",
        "\n",
        "    return local, tourist"
      ],
      "execution_count": 8,
      "outputs": []
    },
    {
      "cell_type": "code",
      "metadata": {
        "id": "NJH_4q4XllK8",
        "colab_type": "code",
        "colab": {}
      },
      "source": [
        "def encoding(cate):\n",
        "\n",
        "    global encoders\n",
        "    dtypes_cate = cate.dtypes\n",
        "    encoders = {}\n",
        "    for column in cate.columns:\n",
        "        if str(dtypes_cate[column]) == 'object':\n",
        "            encoder = LabelEncoder()\n",
        "            encoder.fit(cate[column])\n",
        "            encoders[column] = encoder\n",
        "\n",
        "    cate_num = cate.copy()\n",
        "\n",
        "    for column in encoders.keys():\n",
        "        encoder = encoders[column]\n",
        "        cate_num[column] = encoder.transform(cate[column])\n",
        "\n",
        "    return cate_num"
      ],
      "execution_count": 9,
      "outputs": []
    },
    {
      "cell_type": "code",
      "metadata": {
        "id": "2iUA0Ao0lmDH",
        "colab_type": "code",
        "colab": {}
      },
      "source": [
        "def split(cate_num):\n",
        "    split_data = []\n",
        "\n",
        "    X_data, y_data = cate_num.loc[:, cate_num.columns != 'AMT'], cate_num['AMT']\n",
        "    X_data = X_data.drop(['CSTMR_CNT', 'CNT'], axis=1)\n",
        "    X_train, X_test, y_train, y_test = train_test_split(X_data, y_data, test_size=0.2, random_state=126, shuffle=True)\n",
        "    y_train = np.log1p(y_train)\n",
        "    \n",
        "    return X_train, X_test, y_train, y_test"
      ],
      "execution_count": 10,
      "outputs": []
    },
    {
      "cell_type": "code",
      "metadata": {
        "id": "d8O7koOgugvU",
        "colab_type": "code",
        "colab": {}
      },
      "source": [
        "train = pd.read_csv('/content/drive/My Drive/Colab Notebooks/jeju/201901-202003.csv')"
      ],
      "execution_count": 11,
      "outputs": []
    },
    {
      "cell_type": "code",
      "metadata": {
        "id": "X2q9O-4uQ393",
        "colab_type": "code",
        "colab": {}
      },
      "source": [
        "train = train[(train['REG_YYMM'] == 202002) | (train['REG_YYMM'] == 202003)].reset_index(drop = False)"
      ],
      "execution_count": 12,
      "outputs": []
    },
    {
      "cell_type": "code",
      "metadata": {
        "id": "9B7EZ3JYAp7J",
        "colab_type": "code",
        "colab": {
          "base_uri": "https://localhost:8080/",
          "height": 299
        },
        "outputId": "7909fbf2-612e-4899-91e0-94bad0fa8227"
      },
      "source": [
        "del train['index']\n",
        "train.head()"
      ],
      "execution_count": 13,
      "outputs": [
        {
          "output_type": "execute_result",
          "data": {
            "text/html": [
              "<div>\n",
              "<style scoped>\n",
              "    .dataframe tbody tr th:only-of-type {\n",
              "        vertical-align: middle;\n",
              "    }\n",
              "\n",
              "    .dataframe tbody tr th {\n",
              "        vertical-align: top;\n",
              "    }\n",
              "\n",
              "    .dataframe thead th {\n",
              "        text-align: right;\n",
              "    }\n",
              "</style>\n",
              "<table border=\"1\" class=\"dataframe\">\n",
              "  <thead>\n",
              "    <tr style=\"text-align: right;\">\n",
              "      <th></th>\n",
              "      <th>REG_YYMM</th>\n",
              "      <th>CARD_SIDO_NM</th>\n",
              "      <th>CARD_CCG_NM</th>\n",
              "      <th>STD_CLSS_NM</th>\n",
              "      <th>HOM_SIDO_NM</th>\n",
              "      <th>HOM_CCG_NM</th>\n",
              "      <th>AGE</th>\n",
              "      <th>SEX_CTGO_CD</th>\n",
              "      <th>FLC</th>\n",
              "      <th>CSTMR_CNT</th>\n",
              "      <th>AMT</th>\n",
              "      <th>CNT</th>\n",
              "    </tr>\n",
              "  </thead>\n",
              "  <tbody>\n",
              "    <tr>\n",
              "      <th>0</th>\n",
              "      <td>202002</td>\n",
              "      <td>강원</td>\n",
              "      <td>강릉시</td>\n",
              "      <td>건강보조식품 소매업</td>\n",
              "      <td>강원</td>\n",
              "      <td>강릉시</td>\n",
              "      <td>30s</td>\n",
              "      <td>1</td>\n",
              "      <td>2</td>\n",
              "      <td>3</td>\n",
              "      <td>335000</td>\n",
              "      <td>3</td>\n",
              "    </tr>\n",
              "    <tr>\n",
              "      <th>1</th>\n",
              "      <td>202002</td>\n",
              "      <td>강원</td>\n",
              "      <td>강릉시</td>\n",
              "      <td>건강보조식품 소매업</td>\n",
              "      <td>강원</td>\n",
              "      <td>강릉시</td>\n",
              "      <td>40s</td>\n",
              "      <td>1</td>\n",
              "      <td>3</td>\n",
              "      <td>3</td>\n",
              "      <td>149000</td>\n",
              "      <td>3</td>\n",
              "    </tr>\n",
              "    <tr>\n",
              "      <th>2</th>\n",
              "      <td>202002</td>\n",
              "      <td>강원</td>\n",
              "      <td>강릉시</td>\n",
              "      <td>건강보조식품 소매업</td>\n",
              "      <td>강원</td>\n",
              "      <td>강릉시</td>\n",
              "      <td>40s</td>\n",
              "      <td>2</td>\n",
              "      <td>3</td>\n",
              "      <td>6</td>\n",
              "      <td>502200</td>\n",
              "      <td>6</td>\n",
              "    </tr>\n",
              "    <tr>\n",
              "      <th>3</th>\n",
              "      <td>202002</td>\n",
              "      <td>강원</td>\n",
              "      <td>강릉시</td>\n",
              "      <td>건강보조식품 소매업</td>\n",
              "      <td>강원</td>\n",
              "      <td>강릉시</td>\n",
              "      <td>50s</td>\n",
              "      <td>1</td>\n",
              "      <td>4</td>\n",
              "      <td>22</td>\n",
              "      <td>4973500</td>\n",
              "      <td>23</td>\n",
              "    </tr>\n",
              "    <tr>\n",
              "      <th>4</th>\n",
              "      <td>202002</td>\n",
              "      <td>강원</td>\n",
              "      <td>강릉시</td>\n",
              "      <td>건강보조식품 소매업</td>\n",
              "      <td>강원</td>\n",
              "      <td>강릉시</td>\n",
              "      <td>50s</td>\n",
              "      <td>2</td>\n",
              "      <td>4</td>\n",
              "      <td>16</td>\n",
              "      <td>2489494</td>\n",
              "      <td>14</td>\n",
              "    </tr>\n",
              "  </tbody>\n",
              "</table>\n",
              "</div>"
            ],
            "text/plain": [
              "   REG_YYMM CARD_SIDO_NM CARD_CCG_NM STD_CLSS_NM  ... FLC CSTMR_CNT      AMT  CNT\n",
              "0    202002           강원         강릉시  건강보조식품 소매업  ...   2         3   335000    3\n",
              "1    202002           강원         강릉시  건강보조식품 소매업  ...   3         3   149000    3\n",
              "2    202002           강원         강릉시  건강보조식품 소매업  ...   3         6   502200    6\n",
              "3    202002           강원         강릉시  건강보조식품 소매업  ...   4        22  4973500   23\n",
              "4    202002           강원         강릉시  건강보조식품 소매업  ...   4        16  2489494   14\n",
              "\n",
              "[5 rows x 12 columns]"
            ]
          },
          "metadata": {
            "tags": []
          },
          "execution_count": 13
        }
      ]
    },
    {
      "cell_type": "code",
      "metadata": {
        "id": "gOXzMN3BROZ1",
        "colab_type": "code",
        "colab": {}
      },
      "source": [
        "data = data_pre(train)"
      ],
      "execution_count": 14,
      "outputs": []
    },
    {
      "cell_type": "code",
      "metadata": {
        "id": "YaaVADIlRcPs",
        "colab_type": "code",
        "colab": {}
      },
      "source": [
        "local, tourist = cate(data)"
      ],
      "execution_count": 15,
      "outputs": []
    },
    {
      "cell_type": "code",
      "metadata": {
        "id": "lqh8-aWIRoP0",
        "colab_type": "code",
        "colab": {}
      },
      "source": [
        "lcl_num, trst_num = encoding(local), encoding(tourist)"
      ],
      "execution_count": 16,
      "outputs": []
    },
    {
      "cell_type": "code",
      "metadata": {
        "id": "je_vE-j7VlJY",
        "colab_type": "code",
        "colab": {}
      },
      "source": [
        "lcl_data, trst_data = split(lcl_num), split(trst_num)"
      ],
      "execution_count": 17,
      "outputs": []
    },
    {
      "cell_type": "code",
      "metadata": {
        "id": "JrTgMasgRqB1",
        "colab_type": "code",
        "colab": {}
      },
      "source": [
        "lcl = Model(lcl_data, lcl_num)"
      ],
      "execution_count": 18,
      "outputs": []
    },
    {
      "cell_type": "code",
      "metadata": {
        "id": "Vpt5owyaVmZx",
        "colab_type": "code",
        "colab": {}
      },
      "source": [
        "trst = Model(trst_data, trst_num)"
      ],
      "execution_count": 19,
      "outputs": []
    },
    {
      "cell_type": "code",
      "metadata": {
        "id": "L-AHybawRwMV",
        "colab_type": "code",
        "colab": {
          "base_uri": "https://localhost:8080/",
          "height": 530
        },
        "outputId": "cab35824-4523-4f85-fead-bb8c6c71f3d2"
      },
      "source": [
        "lcl.get_model()"
      ],
      "execution_count": 20,
      "outputs": [
        {
          "output_type": "stream",
          "text": [
            "[10:35:17] WARNING: /workspace/src/objective/regression_obj.cu:152: reg:linear is now deprecated in favor of reg:squarederror.\n",
            "[10:35:23] WARNING: /workspace/src/objective/regression_obj.cu:152: reg:linear is now deprecated in favor of reg:squarederror.\n",
            "[10:35:28] WARNING: /workspace/src/objective/regression_obj.cu:152: reg:linear is now deprecated in favor of reg:squarederror.\n",
            "[10:35:33] WARNING: /workspace/src/objective/regression_obj.cu:152: reg:linear is now deprecated in favor of reg:squarederror.\n",
            "[10:35:39] WARNING: /workspace/src/objective/regression_obj.cu:152: reg:linear is now deprecated in favor of reg:squarederror.\n",
            "[10:35:44] WARNING: /workspace/src/objective/regression_obj.cu:152: reg:linear is now deprecated in favor of reg:squarederror.\n",
            "[10:35:55] WARNING: /workspace/src/objective/regression_obj.cu:152: reg:linear is now deprecated in favor of reg:squarederror.\n",
            "[10:36:06] WARNING: /workspace/src/objective/regression_obj.cu:152: reg:linear is now deprecated in favor of reg:squarederror.\n",
            "[10:36:17] WARNING: /workspace/src/objective/regression_obj.cu:152: reg:linear is now deprecated in favor of reg:squarederror.\n",
            "[10:36:29] WARNING: /workspace/src/objective/regression_obj.cu:152: reg:linear is now deprecated in favor of reg:squarederror.\n",
            "[10:36:40] WARNING: /workspace/src/objective/regression_obj.cu:152: reg:linear is now deprecated in favor of reg:squarederror.\n",
            "0.961\n",
            "[10:36:54] WARNING: /workspace/src/objective/regression_obj.cu:152: reg:linear is now deprecated in favor of reg:squarederror.\n",
            "[10:36:59] WARNING: /workspace/src/objective/regression_obj.cu:152: reg:linear is now deprecated in favor of reg:squarederror.\n",
            "[10:37:05] WARNING: /workspace/src/objective/regression_obj.cu:152: reg:linear is now deprecated in favor of reg:squarederror.\n",
            "[10:37:10] WARNING: /workspace/src/objective/regression_obj.cu:152: reg:linear is now deprecated in favor of reg:squarederror.\n",
            "[10:37:16] WARNING: /workspace/src/objective/regression_obj.cu:152: reg:linear is now deprecated in favor of reg:squarederror.\n",
            "[10:37:21] WARNING: /workspace/src/objective/regression_obj.cu:152: reg:linear is now deprecated in favor of reg:squarederror.\n",
            "[10:37:32] WARNING: /workspace/src/objective/regression_obj.cu:152: reg:linear is now deprecated in favor of reg:squarederror.\n",
            "[10:37:43] WARNING: /workspace/src/objective/regression_obj.cu:152: reg:linear is now deprecated in favor of reg:squarederror.\n",
            "[10:37:54] WARNING: /workspace/src/objective/regression_obj.cu:152: reg:linear is now deprecated in favor of reg:squarederror.\n",
            "[10:38:05] WARNING: /workspace/src/objective/regression_obj.cu:152: reg:linear is now deprecated in favor of reg:squarederror.\n",
            "[10:38:17] WARNING: /workspace/src/objective/regression_obj.cu:152: reg:linear is now deprecated in favor of reg:squarederror.\n",
            "0.961\n",
            "0.956\n",
            "0.956\n",
            "0.632\n",
            "0.632\n"
          ],
          "name": "stdout"
        }
      ]
    },
    {
      "cell_type": "code",
      "metadata": {
        "id": "wVyhXzVDVoax",
        "colab_type": "code",
        "colab": {
          "base_uri": "https://localhost:8080/",
          "height": 530
        },
        "outputId": "ff476e8b-9b87-4bc8-b2a0-00b67a7d494a"
      },
      "source": [
        "trst.get_model()"
      ],
      "execution_count": 21,
      "outputs": [
        {
          "output_type": "stream",
          "text": [
            "[10:44:58] WARNING: /workspace/src/objective/regression_obj.cu:152: reg:linear is now deprecated in favor of reg:squarederror.\n",
            "[10:45:21] WARNING: /workspace/src/objective/regression_obj.cu:152: reg:linear is now deprecated in favor of reg:squarederror.\n",
            "[10:45:44] WARNING: /workspace/src/objective/regression_obj.cu:152: reg:linear is now deprecated in favor of reg:squarederror.\n",
            "[10:46:06] WARNING: /workspace/src/objective/regression_obj.cu:152: reg:linear is now deprecated in favor of reg:squarederror.\n",
            "[10:46:29] WARNING: /workspace/src/objective/regression_obj.cu:152: reg:linear is now deprecated in favor of reg:squarederror.\n",
            "[10:46:51] WARNING: /workspace/src/objective/regression_obj.cu:152: reg:linear is now deprecated in favor of reg:squarederror.\n",
            "[10:47:36] WARNING: /workspace/src/objective/regression_obj.cu:152: reg:linear is now deprecated in favor of reg:squarederror.\n",
            "[10:48:21] WARNING: /workspace/src/objective/regression_obj.cu:152: reg:linear is now deprecated in favor of reg:squarederror.\n",
            "[10:49:06] WARNING: /workspace/src/objective/regression_obj.cu:152: reg:linear is now deprecated in favor of reg:squarederror.\n",
            "[10:49:51] WARNING: /workspace/src/objective/regression_obj.cu:152: reg:linear is now deprecated in favor of reg:squarederror.\n",
            "[10:50:35] WARNING: /workspace/src/objective/regression_obj.cu:152: reg:linear is now deprecated in favor of reg:squarederror.\n",
            "1.468\n",
            "[10:51:31] WARNING: /workspace/src/objective/regression_obj.cu:152: reg:linear is now deprecated in favor of reg:squarederror.\n",
            "[10:51:54] WARNING: /workspace/src/objective/regression_obj.cu:152: reg:linear is now deprecated in favor of reg:squarederror.\n",
            "[10:52:17] WARNING: /workspace/src/objective/regression_obj.cu:152: reg:linear is now deprecated in favor of reg:squarederror.\n",
            "[10:52:39] WARNING: /workspace/src/objective/regression_obj.cu:152: reg:linear is now deprecated in favor of reg:squarederror.\n",
            "[10:53:02] WARNING: /workspace/src/objective/regression_obj.cu:152: reg:linear is now deprecated in favor of reg:squarederror.\n",
            "[10:53:24] WARNING: /workspace/src/objective/regression_obj.cu:152: reg:linear is now deprecated in favor of reg:squarederror.\n",
            "[10:54:09] WARNING: /workspace/src/objective/regression_obj.cu:152: reg:linear is now deprecated in favor of reg:squarederror.\n",
            "[10:54:55] WARNING: /workspace/src/objective/regression_obj.cu:152: reg:linear is now deprecated in favor of reg:squarederror.\n",
            "[10:55:40] WARNING: /workspace/src/objective/regression_obj.cu:152: reg:linear is now deprecated in favor of reg:squarederror.\n",
            "[10:56:25] WARNING: /workspace/src/objective/regression_obj.cu:152: reg:linear is now deprecated in favor of reg:squarederror.\n",
            "[10:57:09] WARNING: /workspace/src/objective/regression_obj.cu:152: reg:linear is now deprecated in favor of reg:squarederror.\n",
            "1.468\n",
            "1.459\n",
            "1.459\n",
            "0.873\n",
            "0.873\n"
          ],
          "name": "stdout"
        }
      ]
    },
    {
      "cell_type": "code",
      "metadata": {
        "id": "25tPU_IlR03l",
        "colab_type": "code",
        "colab": {
          "base_uri": "https://localhost:8080/",
          "height": 34
        },
        "outputId": "6fb6888c-98bd-477c-a6eb-ec7a0cf14495"
      },
      "source": [
        "lcl.final()"
      ],
      "execution_count": 22,
      "outputs": [
        {
          "output_type": "stream",
          "text": [
            "0.846\n"
          ],
          "name": "stdout"
        }
      ]
    },
    {
      "cell_type": "code",
      "metadata": {
        "id": "EGK7FpVcVpYp",
        "colab_type": "code",
        "colab": {
          "base_uri": "https://localhost:8080/",
          "height": 34
        },
        "outputId": "259050c9-cc91-45dc-b1f7-8c54dbbef236"
      },
      "source": [
        "trst.final()"
      ],
      "execution_count": 23,
      "outputs": [
        {
          "output_type": "stream",
          "text": [
            "1.263\n"
          ],
          "name": "stdout"
        }
      ]
    },
    {
      "cell_type": "code",
      "metadata": {
        "id": "Xcfd-_GSSA3c",
        "colab_type": "code",
        "colab": {}
      },
      "source": [
        "lcl_temp = lcl.make_temp()"
      ],
      "execution_count": 24,
      "outputs": []
    },
    {
      "cell_type": "code",
      "metadata": {
        "id": "2Y43oapwVq4N",
        "colab_type": "code",
        "colab": {}
      },
      "source": [
        "trst_temp = trst.make_temp()"
      ],
      "execution_count": 25,
      "outputs": []
    },
    {
      "cell_type": "code",
      "metadata": {
        "id": "SvIcClWLXwPy",
        "colab_type": "code",
        "colab": {}
      },
      "source": [
        "lcl_sub = lcl.make_sub(lcl_temp)"
      ],
      "execution_count": 26,
      "outputs": []
    },
    {
      "cell_type": "code",
      "metadata": {
        "id": "p5d7YTA9X5lW",
        "colab_type": "code",
        "colab": {}
      },
      "source": [
        "trst_sub = trst.make_sub(trst_temp)"
      ],
      "execution_count": 27,
      "outputs": []
    },
    {
      "cell_type": "code",
      "metadata": {
        "id": "7PFON4cxb1U-",
        "colab_type": "code",
        "colab": {
          "base_uri": "https://localhost:8080/",
          "height": 195
        },
        "outputId": "850f28be-f4e3-4d28-e163-ef78ca3e6d9f"
      },
      "source": [
        "lcl_sub.head()"
      ],
      "execution_count": 29,
      "outputs": [
        {
          "output_type": "execute_result",
          "data": {
            "text/html": [
              "<div>\n",
              "<style scoped>\n",
              "    .dataframe tbody tr th:only-of-type {\n",
              "        vertical-align: middle;\n",
              "    }\n",
              "\n",
              "    .dataframe tbody tr th {\n",
              "        vertical-align: top;\n",
              "    }\n",
              "\n",
              "    .dataframe thead th {\n",
              "        text-align: right;\n",
              "    }\n",
              "</style>\n",
              "<table border=\"1\" class=\"dataframe\">\n",
              "  <thead>\n",
              "    <tr style=\"text-align: right;\">\n",
              "      <th></th>\n",
              "      <th>REG_YYMM</th>\n",
              "      <th>CARD_SIDO_NM</th>\n",
              "      <th>STD_CLSS_NM</th>\n",
              "      <th>AMT</th>\n",
              "    </tr>\n",
              "  </thead>\n",
              "  <tbody>\n",
              "    <tr>\n",
              "      <th>0</th>\n",
              "      <td>202004</td>\n",
              "      <td>강원</td>\n",
              "      <td>건강보조식품 소매업</td>\n",
              "      <td>1.470111e+09</td>\n",
              "    </tr>\n",
              "    <tr>\n",
              "      <th>1</th>\n",
              "      <td>202004</td>\n",
              "      <td>강원</td>\n",
              "      <td>골프장 운영업</td>\n",
              "      <td>2.409006e+09</td>\n",
              "    </tr>\n",
              "    <tr>\n",
              "      <th>2</th>\n",
              "      <td>202004</td>\n",
              "      <td>강원</td>\n",
              "      <td>과실 및 채소 소매업</td>\n",
              "      <td>1.027530e+10</td>\n",
              "    </tr>\n",
              "    <tr>\n",
              "      <th>3</th>\n",
              "      <td>202004</td>\n",
              "      <td>강원</td>\n",
              "      <td>관광 민예품 및 선물용품 소매업</td>\n",
              "      <td>9.938087e+07</td>\n",
              "    </tr>\n",
              "    <tr>\n",
              "      <th>4</th>\n",
              "      <td>202004</td>\n",
              "      <td>강원</td>\n",
              "      <td>그외 기타 분류안된 오락관련 서비스업</td>\n",
              "      <td>3.804889e+07</td>\n",
              "    </tr>\n",
              "  </tbody>\n",
              "</table>\n",
              "</div>"
            ],
            "text/plain": [
              "   REG_YYMM CARD_SIDO_NM           STD_CLSS_NM           AMT\n",
              "0    202004           강원            건강보조식품 소매업  1.470111e+09\n",
              "1    202004           강원               골프장 운영업  2.409006e+09\n",
              "2    202004           강원           과실 및 채소 소매업  1.027530e+10\n",
              "3    202004           강원     관광 민예품 및 선물용품 소매업  9.938087e+07\n",
              "4    202004           강원  그외 기타 분류안된 오락관련 서비스업  3.804889e+07"
            ]
          },
          "metadata": {
            "tags": []
          },
          "execution_count": 29
        }
      ]
    },
    {
      "cell_type": "code",
      "metadata": {
        "id": "rJDkmZINb4JA",
        "colab_type": "code",
        "colab": {
          "base_uri": "https://localhost:8080/",
          "height": 195
        },
        "outputId": "37cee507-6bfb-4cac-ae66-243f59c5872c"
      },
      "source": [
        "trst_sub.head()"
      ],
      "execution_count": 30,
      "outputs": [
        {
          "output_type": "execute_result",
          "data": {
            "text/html": [
              "<div>\n",
              "<style scoped>\n",
              "    .dataframe tbody tr th:only-of-type {\n",
              "        vertical-align: middle;\n",
              "    }\n",
              "\n",
              "    .dataframe tbody tr th {\n",
              "        vertical-align: top;\n",
              "    }\n",
              "\n",
              "    .dataframe thead th {\n",
              "        text-align: right;\n",
              "    }\n",
              "</style>\n",
              "<table border=\"1\" class=\"dataframe\">\n",
              "  <thead>\n",
              "    <tr style=\"text-align: right;\">\n",
              "      <th></th>\n",
              "      <th>REG_YYMM</th>\n",
              "      <th>CARD_SIDO_NM</th>\n",
              "      <th>STD_CLSS_NM</th>\n",
              "      <th>AMT</th>\n",
              "    </tr>\n",
              "  </thead>\n",
              "  <tbody>\n",
              "    <tr>\n",
              "      <th>0</th>\n",
              "      <td>202004</td>\n",
              "      <td>강원</td>\n",
              "      <td>건강보조식품 소매업</td>\n",
              "      <td>7.363817e+07</td>\n",
              "    </tr>\n",
              "    <tr>\n",
              "      <th>1</th>\n",
              "      <td>202004</td>\n",
              "      <td>강원</td>\n",
              "      <td>골프장 운영업</td>\n",
              "      <td>1.337808e+09</td>\n",
              "    </tr>\n",
              "    <tr>\n",
              "      <th>2</th>\n",
              "      <td>202004</td>\n",
              "      <td>강원</td>\n",
              "      <td>과실 및 채소 소매업</td>\n",
              "      <td>2.870077e+08</td>\n",
              "    </tr>\n",
              "    <tr>\n",
              "      <th>3</th>\n",
              "      <td>202004</td>\n",
              "      <td>강원</td>\n",
              "      <td>관광 민예품 및 선물용품 소매업</td>\n",
              "      <td>1.384359e+07</td>\n",
              "    </tr>\n",
              "    <tr>\n",
              "      <th>4</th>\n",
              "      <td>202004</td>\n",
              "      <td>강원</td>\n",
              "      <td>그외 기타 분류안된 오락관련 서비스업</td>\n",
              "      <td>5.872713e+06</td>\n",
              "    </tr>\n",
              "  </tbody>\n",
              "</table>\n",
              "</div>"
            ],
            "text/plain": [
              "   REG_YYMM CARD_SIDO_NM           STD_CLSS_NM           AMT\n",
              "0    202004           강원            건강보조식품 소매업  7.363817e+07\n",
              "1    202004           강원               골프장 운영업  1.337808e+09\n",
              "2    202004           강원           과실 및 채소 소매업  2.870077e+08\n",
              "3    202004           강원     관광 민예품 및 선물용품 소매업  1.384359e+07\n",
              "4    202004           강원  그외 기타 분류안된 오락관련 서비스업  5.872713e+06"
            ]
          },
          "metadata": {
            "tags": []
          },
          "execution_count": 30
        }
      ]
    },
    {
      "cell_type": "code",
      "metadata": {
        "id": "gL59PEjYb7qz",
        "colab_type": "code",
        "colab": {
          "base_uri": "https://localhost:8080/",
          "height": 195
        },
        "outputId": "e8d1a30a-0689-4318-d2bc-1c6e19ff3bba"
      },
      "source": [
        "sub = lcl_sub[['REG_YYMM', 'CARD_SIDO_NM', 'STD_CLSS_NM']]\n",
        "\n",
        "sub.head()"
      ],
      "execution_count": 31,
      "outputs": [
        {
          "output_type": "execute_result",
          "data": {
            "text/html": [
              "<div>\n",
              "<style scoped>\n",
              "    .dataframe tbody tr th:only-of-type {\n",
              "        vertical-align: middle;\n",
              "    }\n",
              "\n",
              "    .dataframe tbody tr th {\n",
              "        vertical-align: top;\n",
              "    }\n",
              "\n",
              "    .dataframe thead th {\n",
              "        text-align: right;\n",
              "    }\n",
              "</style>\n",
              "<table border=\"1\" class=\"dataframe\">\n",
              "  <thead>\n",
              "    <tr style=\"text-align: right;\">\n",
              "      <th></th>\n",
              "      <th>REG_YYMM</th>\n",
              "      <th>CARD_SIDO_NM</th>\n",
              "      <th>STD_CLSS_NM</th>\n",
              "    </tr>\n",
              "  </thead>\n",
              "  <tbody>\n",
              "    <tr>\n",
              "      <th>0</th>\n",
              "      <td>202004</td>\n",
              "      <td>강원</td>\n",
              "      <td>건강보조식품 소매업</td>\n",
              "    </tr>\n",
              "    <tr>\n",
              "      <th>1</th>\n",
              "      <td>202004</td>\n",
              "      <td>강원</td>\n",
              "      <td>골프장 운영업</td>\n",
              "    </tr>\n",
              "    <tr>\n",
              "      <th>2</th>\n",
              "      <td>202004</td>\n",
              "      <td>강원</td>\n",
              "      <td>과실 및 채소 소매업</td>\n",
              "    </tr>\n",
              "    <tr>\n",
              "      <th>3</th>\n",
              "      <td>202004</td>\n",
              "      <td>강원</td>\n",
              "      <td>관광 민예품 및 선물용품 소매업</td>\n",
              "    </tr>\n",
              "    <tr>\n",
              "      <th>4</th>\n",
              "      <td>202004</td>\n",
              "      <td>강원</td>\n",
              "      <td>그외 기타 분류안된 오락관련 서비스업</td>\n",
              "    </tr>\n",
              "  </tbody>\n",
              "</table>\n",
              "</div>"
            ],
            "text/plain": [
              "   REG_YYMM CARD_SIDO_NM           STD_CLSS_NM\n",
              "0    202004           강원            건강보조식품 소매업\n",
              "1    202004           강원               골프장 운영업\n",
              "2    202004           강원           과실 및 채소 소매업\n",
              "3    202004           강원     관광 민예품 및 선물용품 소매업\n",
              "4    202004           강원  그외 기타 분류안된 오락관련 서비스업"
            ]
          },
          "metadata": {
            "tags": []
          },
          "execution_count": 31
        }
      ]
    },
    {
      "cell_type": "code",
      "metadata": {
        "id": "vs_1O4v_cDdx",
        "colab_type": "code",
        "colab": {
          "base_uri": "https://localhost:8080/",
          "height": 195
        },
        "outputId": "b9365889-45a0-4c8c-aecd-3b5774db3872"
      },
      "source": [
        "sub['AMT'] = lcl_sub['AMT'] + trst_sub['AMT']\n",
        "\n",
        "sub.head()"
      ],
      "execution_count": 32,
      "outputs": [
        {
          "output_type": "execute_result",
          "data": {
            "text/html": [
              "<div>\n",
              "<style scoped>\n",
              "    .dataframe tbody tr th:only-of-type {\n",
              "        vertical-align: middle;\n",
              "    }\n",
              "\n",
              "    .dataframe tbody tr th {\n",
              "        vertical-align: top;\n",
              "    }\n",
              "\n",
              "    .dataframe thead th {\n",
              "        text-align: right;\n",
              "    }\n",
              "</style>\n",
              "<table border=\"1\" class=\"dataframe\">\n",
              "  <thead>\n",
              "    <tr style=\"text-align: right;\">\n",
              "      <th></th>\n",
              "      <th>REG_YYMM</th>\n",
              "      <th>CARD_SIDO_NM</th>\n",
              "      <th>STD_CLSS_NM</th>\n",
              "      <th>AMT</th>\n",
              "    </tr>\n",
              "  </thead>\n",
              "  <tbody>\n",
              "    <tr>\n",
              "      <th>0</th>\n",
              "      <td>202004</td>\n",
              "      <td>강원</td>\n",
              "      <td>건강보조식품 소매업</td>\n",
              "      <td>1.543749e+09</td>\n",
              "    </tr>\n",
              "    <tr>\n",
              "      <th>1</th>\n",
              "      <td>202004</td>\n",
              "      <td>강원</td>\n",
              "      <td>골프장 운영업</td>\n",
              "      <td>3.746814e+09</td>\n",
              "    </tr>\n",
              "    <tr>\n",
              "      <th>2</th>\n",
              "      <td>202004</td>\n",
              "      <td>강원</td>\n",
              "      <td>과실 및 채소 소매업</td>\n",
              "      <td>1.056230e+10</td>\n",
              "    </tr>\n",
              "    <tr>\n",
              "      <th>3</th>\n",
              "      <td>202004</td>\n",
              "      <td>강원</td>\n",
              "      <td>관광 민예품 및 선물용품 소매업</td>\n",
              "      <td>1.132245e+08</td>\n",
              "    </tr>\n",
              "    <tr>\n",
              "      <th>4</th>\n",
              "      <td>202004</td>\n",
              "      <td>강원</td>\n",
              "      <td>그외 기타 분류안된 오락관련 서비스업</td>\n",
              "      <td>4.392161e+07</td>\n",
              "    </tr>\n",
              "  </tbody>\n",
              "</table>\n",
              "</div>"
            ],
            "text/plain": [
              "   REG_YYMM CARD_SIDO_NM           STD_CLSS_NM           AMT\n",
              "0    202004           강원            건강보조식품 소매업  1.543749e+09\n",
              "1    202004           강원               골프장 운영업  3.746814e+09\n",
              "2    202004           강원           과실 및 채소 소매업  1.056230e+10\n",
              "3    202004           강원     관광 민예품 및 선물용품 소매업  1.132245e+08\n",
              "4    202004           강원  그외 기타 분류안된 오락관련 서비스업  4.392161e+07"
            ]
          },
          "metadata": {
            "tags": []
          },
          "execution_count": 32
        }
      ]
    },
    {
      "cell_type": "code",
      "metadata": {
        "id": "Vx14vXt1cQkc",
        "colab_type": "code",
        "colab": {}
      },
      "source": [
        "project_id = 'jeju-bigquery-282708'\n",
        "client = bigquery.Client(project=project_id)"
      ],
      "execution_count": 34,
      "outputs": []
    },
    {
      "cell_type": "code",
      "metadata": {
        "id": "rpM2xPKjcKGO",
        "colab_type": "code",
        "colab": {}
      },
      "source": [
        "# Submission 파일 작업 및 내보내기\n",
        "submission = client.query('''\n",
        "  SELECT \n",
        "    * \n",
        "  FROM `jeju-bigquery-282708.jeju_bigdata.submission` \n",
        "  ''').to_dataframe()"
      ],
      "execution_count": 35,
      "outputs": []
    },
    {
      "cell_type": "code",
      "metadata": {
        "id": "nALyhdoKcVGq",
        "colab_type": "code",
        "colab": {
          "base_uri": "https://localhost:8080/",
          "height": 195
        },
        "outputId": "ebb16e3a-bec3-4ebf-8e9a-e9e8dab7c374"
      },
      "source": [
        "submission = submission.drop(['AMT'], axis=1)\n",
        "submission = submission.merge(sub, left_on=['REG_YYMM', 'CARD_SIDO_NM', 'STD_CLSS_NM'], right_on=['REG_YYMM', 'CARD_SIDO_NM', 'STD_CLSS_NM'], how='left')\n",
        "submission['AMT'] = submission['AMT'].fillna(0)\n",
        "\n",
        "submission.head()"
      ],
      "execution_count": 36,
      "outputs": [
        {
          "output_type": "execute_result",
          "data": {
            "text/html": [
              "<div>\n",
              "<style scoped>\n",
              "    .dataframe tbody tr th:only-of-type {\n",
              "        vertical-align: middle;\n",
              "    }\n",
              "\n",
              "    .dataframe tbody tr th {\n",
              "        vertical-align: top;\n",
              "    }\n",
              "\n",
              "    .dataframe thead th {\n",
              "        text-align: right;\n",
              "    }\n",
              "</style>\n",
              "<table border=\"1\" class=\"dataframe\">\n",
              "  <thead>\n",
              "    <tr style=\"text-align: right;\">\n",
              "      <th></th>\n",
              "      <th>id</th>\n",
              "      <th>REG_YYMM</th>\n",
              "      <th>CARD_SIDO_NM</th>\n",
              "      <th>STD_CLSS_NM</th>\n",
              "      <th>AMT</th>\n",
              "    </tr>\n",
              "  </thead>\n",
              "  <tbody>\n",
              "    <tr>\n",
              "      <th>0</th>\n",
              "      <td>0</td>\n",
              "      <td>202004</td>\n",
              "      <td>강원</td>\n",
              "      <td>건강보조식품 소매업</td>\n",
              "      <td>1.543749e+09</td>\n",
              "    </tr>\n",
              "    <tr>\n",
              "      <th>1</th>\n",
              "      <td>1</td>\n",
              "      <td>202004</td>\n",
              "      <td>강원</td>\n",
              "      <td>골프장 운영업</td>\n",
              "      <td>3.746814e+09</td>\n",
              "    </tr>\n",
              "    <tr>\n",
              "      <th>2</th>\n",
              "      <td>2</td>\n",
              "      <td>202004</td>\n",
              "      <td>강원</td>\n",
              "      <td>과실 및 채소 소매업</td>\n",
              "      <td>1.056230e+10</td>\n",
              "    </tr>\n",
              "    <tr>\n",
              "      <th>3</th>\n",
              "      <td>3</td>\n",
              "      <td>202004</td>\n",
              "      <td>강원</td>\n",
              "      <td>관광 민예품 및 선물용품 소매업</td>\n",
              "      <td>1.132245e+08</td>\n",
              "    </tr>\n",
              "    <tr>\n",
              "      <th>4</th>\n",
              "      <td>4</td>\n",
              "      <td>202004</td>\n",
              "      <td>강원</td>\n",
              "      <td>그외 기타 분류안된 오락관련 서비스업</td>\n",
              "      <td>4.392161e+07</td>\n",
              "    </tr>\n",
              "  </tbody>\n",
              "</table>\n",
              "</div>"
            ],
            "text/plain": [
              "   id  REG_YYMM CARD_SIDO_NM           STD_CLSS_NM           AMT\n",
              "0   0    202004           강원            건강보조식품 소매업  1.543749e+09\n",
              "1   1    202004           강원               골프장 운영업  3.746814e+09\n",
              "2   2    202004           강원           과실 및 채소 소매업  1.056230e+10\n",
              "3   3    202004           강원     관광 민예품 및 선물용품 소매업  1.132245e+08\n",
              "4   4    202004           강원  그외 기타 분류안된 오락관련 서비스업  4.392161e+07"
            ]
          },
          "metadata": {
            "tags": []
          },
          "execution_count": 36
        }
      ]
    },
    {
      "cell_type": "code",
      "metadata": {
        "id": "X_ZkupxDcYJw",
        "colab_type": "code",
        "colab": {}
      },
      "source": [
        "submission.to_csv('/content/drive/My Drive/Colab Notebooks/jeju/submission_class.csv', encoding='utf-8-sig', index=False)"
      ],
      "execution_count": 37,
      "outputs": []
    }
  ]
}