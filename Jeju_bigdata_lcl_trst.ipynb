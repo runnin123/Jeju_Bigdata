{
  "nbformat": 4,
  "nbformat_minor": 0,
  "metadata": {
    "colab": {
      "name": "Jeju_bigdata_lcl_trst.ipynb",
      "provenance": [],
      "machine_shape": "hm",
      "mount_file_id": "1tIESEX0APS03YxajutxLVd6R7BaIgngk",
      "authorship_tag": "ABX9TyOVm+NV17qm7R9Lz6W1UAbG",
      "include_colab_link": true
    },
    "kernelspec": {
      "name": "python3",
      "display_name": "Python 3"
    },
    "accelerator": "GPU"
  },
  "cells": [
    {
      "cell_type": "markdown",
      "metadata": {
        "id": "view-in-github",
        "colab_type": "text"
      },
      "source": [
        "<a href=\"https://colab.research.google.com/github/runnin123/Jeju_Bigdata/blob/master/Jeju_bigdata_lcl_trst.ipynb\" target=\"_parent\"><img src=\"https://colab.research.google.com/assets/colab-badge.svg\" alt=\"Open In Colab\"/></a>"
      ]
    },
    {
      "cell_type": "code",
      "metadata": {
        "id": "3WA9F5DoHpk8",
        "colab_type": "code",
        "colab": {}
      },
      "source": [
        "from google.colab import auth\n",
        "auth.authenticate_user()"
      ],
      "execution_count": 1,
      "outputs": []
    },
    {
      "cell_type": "code",
      "metadata": {
        "id": "T6s0_2D_KxXl",
        "colab_type": "code",
        "colab": {
          "base_uri": "https://localhost:8080/",
          "height": 52
        },
        "outputId": "d5b7cf51-c70b-4ea7-ac5d-3dd6a38d7220"
      },
      "source": [
        "from google.cloud import bigquery\n",
        "\n",
        "import pandas as pd\n",
        "import numpy as np\n",
        "import sklearn\n",
        "from sklearn.ensemble import GradientBoostingRegressor\n",
        "from sklearn.preprocessing import LabelEncoder\n",
        "\n",
        "# 평가 메트릭\n",
        "from sklearn.metrics import mean_squared_error, mean_absolute_error\n",
        "\n",
        "# 시각화\n",
        "import seaborn as sns\n",
        "color = sns.color_palette()\n",
        "sns.set_style('darkgrid')\n",
        "%matplotlib inline\n",
        "import matplotlib\n",
        "import matplotlib.pyplot as plt  # Matlab-style plotting\n",
        "\n",
        "# 통계\n",
        "from scipy import stats\n",
        "from scipy.stats import norm, skew #for some statistics\n",
        "\n",
        "from sklearn.base import BaseEstimator, TransformerMixin, RegressorMixin, clone\n",
        "from sklearn.model_selection import KFold, cross_val_score, train_test_split, GridSearchCV\n",
        "from sklearn.metrics import mean_squared_error"
      ],
      "execution_count": 2,
      "outputs": [
        {
          "output_type": "stream",
          "text": [
            "/usr/local/lib/python3.6/dist-packages/statsmodels/tools/_testing.py:19: FutureWarning: pandas.util.testing is deprecated. Use the functions in the public API at pandas.testing instead.\n",
            "  import pandas.util.testing as tm\n"
          ],
          "name": "stderr"
        }
      ]
    },
    {
      "cell_type": "code",
      "metadata": {
        "id": "TMTdKpBhR6l7",
        "colab_type": "code",
        "colab": {}
      },
      "source": [
        "from google.cloud import bigquery\n",
        "from tabulate import tabulate\n",
        "import pandas as pd"
      ],
      "execution_count": 3,
      "outputs": []
    },
    {
      "cell_type": "code",
      "metadata": {
        "id": "QKOzs3XbR8JK",
        "colab_type": "code",
        "colab": {}
      },
      "source": [
        "project_id = 'jeju-bigquery-282708'\n",
        "client = bigquery.Client(project=project_id)\n",
        "\n",
        "train = client.query('''\n",
        "  SELECT \n",
        "      * \n",
        "  FROM `jeju-bigquery-282708.jeju_bigdata.201901_202003_train` \n",
        "  WHERE RAND() < 100000 / (SELECT COUNT(*) FROM `jeju-bigquery-282708.jeju_bigdata.201901_202003_train`)\n",
        "  ''').to_dataframe()"
      ],
      "execution_count": 4,
      "outputs": []
    },
    {
      "cell_type": "code",
      "metadata": {
        "id": "76FcakEPSSCc",
        "colab_type": "code",
        "colab": {}
      },
      "source": [
        "def grap_year(data):\n",
        "    data = str(data)\n",
        "    return int(data[:4])\n",
        "\n",
        "def grap_month(data):\n",
        "    data = str(data)\n",
        "    return int(data[4:])"
      ],
      "execution_count": 5,
      "outputs": []
    },
    {
      "cell_type": "code",
      "metadata": {
        "id": "VwWTDbLhS301",
        "colab_type": "code",
        "colab": {
          "base_uri": "https://localhost:8080/",
          "height": 122
        },
        "outputId": "8fb24cc8-9007-42a7-981a-bd9dc98e750e"
      },
      "source": [
        "# 날짜 처리\n",
        "data = train.copy()\n",
        "data = data.fillna('')\n",
        "data['REG_YYMM'].head()"
      ],
      "execution_count": 6,
      "outputs": [
        {
          "output_type": "execute_result",
          "data": {
            "text/plain": [
              "0    201901\n",
              "1    201901\n",
              "2    201903\n",
              "3    201902\n",
              "4    201904\n",
              "Name: REG_YYMM, dtype: int64"
            ]
          },
          "metadata": {
            "tags": []
          },
          "execution_count": 6
        }
      ]
    },
    {
      "cell_type": "code",
      "metadata": {
        "id": "GjGT-U0ZTpsN",
        "colab_type": "code",
        "colab": {
          "base_uri": "https://localhost:8080/",
          "height": 195
        },
        "outputId": "3b7f1301-ce78-4fac-c57e-d0a06aa3aed0"
      },
      "source": [
        "data['year'] = data['REG_YYMM'].apply(lambda x: grap_year(x))\n",
        "data['month'] = data['REG_YYMM'].apply(lambda x: grap_month(x))\n",
        "data = data.drop(['REG_YYMM'], axis=1)\n",
        "data.head()"
      ],
      "execution_count": 7,
      "outputs": [
        {
          "output_type": "execute_result",
          "data": {
            "text/html": [
              "<div>\n",
              "<style scoped>\n",
              "    .dataframe tbody tr th:only-of-type {\n",
              "        vertical-align: middle;\n",
              "    }\n",
              "\n",
              "    .dataframe tbody tr th {\n",
              "        vertical-align: top;\n",
              "    }\n",
              "\n",
              "    .dataframe thead th {\n",
              "        text-align: right;\n",
              "    }\n",
              "</style>\n",
              "<table border=\"1\" class=\"dataframe\">\n",
              "  <thead>\n",
              "    <tr style=\"text-align: right;\">\n",
              "      <th></th>\n",
              "      <th>CARD_SIDO_NM</th>\n",
              "      <th>CARD_CCG_NM</th>\n",
              "      <th>STD_CLSS_NM</th>\n",
              "      <th>HOM_SIDO_NM</th>\n",
              "      <th>HOM_CCG_NM</th>\n",
              "      <th>AGE</th>\n",
              "      <th>SEX_CTGO_CD</th>\n",
              "      <th>FLC</th>\n",
              "      <th>CSTMR_CNT</th>\n",
              "      <th>AMT</th>\n",
              "      <th>CNT</th>\n",
              "      <th>year</th>\n",
              "      <th>month</th>\n",
              "    </tr>\n",
              "  </thead>\n",
              "  <tbody>\n",
              "    <tr>\n",
              "      <th>0</th>\n",
              "      <td>강원</td>\n",
              "      <td>강릉시</td>\n",
              "      <td>피자 햄버거 샌드위치 및 유사 음식점업</td>\n",
              "      <td>강원</td>\n",
              "      <td>강릉시</td>\n",
              "      <td>10s</td>\n",
              "      <td>1</td>\n",
              "      <td>1</td>\n",
              "      <td>59</td>\n",
              "      <td>666700</td>\n",
              "      <td>107</td>\n",
              "      <td>2019</td>\n",
              "      <td>1</td>\n",
              "    </tr>\n",
              "    <tr>\n",
              "      <th>1</th>\n",
              "      <td>서울</td>\n",
              "      <td>강북구</td>\n",
              "      <td>한식 음식점업</td>\n",
              "      <td>강원</td>\n",
              "      <td>강릉시</td>\n",
              "      <td>20s</td>\n",
              "      <td>2</td>\n",
              "      <td>1</td>\n",
              "      <td>6</td>\n",
              "      <td>112300</td>\n",
              "      <td>7</td>\n",
              "      <td>2019</td>\n",
              "      <td>1</td>\n",
              "    </tr>\n",
              "    <tr>\n",
              "      <th>2</th>\n",
              "      <td>강원</td>\n",
              "      <td>강릉시</td>\n",
              "      <td>피자 햄버거 샌드위치 및 유사 음식점업</td>\n",
              "      <td>강원</td>\n",
              "      <td>강릉시</td>\n",
              "      <td>20s</td>\n",
              "      <td>1</td>\n",
              "      <td>2</td>\n",
              "      <td>146</td>\n",
              "      <td>2128810</td>\n",
              "      <td>205</td>\n",
              "      <td>2019</td>\n",
              "      <td>3</td>\n",
              "    </tr>\n",
              "    <tr>\n",
              "      <th>3</th>\n",
              "      <td>울산</td>\n",
              "      <td>남구</td>\n",
              "      <td>피자 햄버거 샌드위치 및 유사 음식점업</td>\n",
              "      <td>강원</td>\n",
              "      <td>원주시</td>\n",
              "      <td>20s</td>\n",
              "      <td>1</td>\n",
              "      <td>1</td>\n",
              "      <td>3</td>\n",
              "      <td>31900</td>\n",
              "      <td>3</td>\n",
              "      <td>2019</td>\n",
              "      <td>2</td>\n",
              "    </tr>\n",
              "    <tr>\n",
              "      <th>4</th>\n",
              "      <td>강원</td>\n",
              "      <td>고성군</td>\n",
              "      <td>비알콜 음료점업</td>\n",
              "      <td>강원</td>\n",
              "      <td>고성군</td>\n",
              "      <td>20s</td>\n",
              "      <td>2</td>\n",
              "      <td>1</td>\n",
              "      <td>15</td>\n",
              "      <td>138840</td>\n",
              "      <td>22</td>\n",
              "      <td>2019</td>\n",
              "      <td>4</td>\n",
              "    </tr>\n",
              "  </tbody>\n",
              "</table>\n",
              "</div>"
            ],
            "text/plain": [
              "  CARD_SIDO_NM CARD_CCG_NM            STD_CLSS_NM  ...  CNT  year month\n",
              "0           강원         강릉시  피자 햄버거 샌드위치 및 유사 음식점업  ...  107  2019     1\n",
              "1           서울         강북구                한식 음식점업  ...    7  2019     1\n",
              "2           강원         강릉시  피자 햄버거 샌드위치 및 유사 음식점업  ...  205  2019     3\n",
              "3           울산          남구  피자 햄버거 샌드위치 및 유사 음식점업  ...    3  2019     2\n",
              "4           강원         고성군               비알콜 음료점업  ...   22  2019     4\n",
              "\n",
              "[5 rows x 13 columns]"
            ]
          },
          "metadata": {
            "tags": []
          },
          "execution_count": 7
        }
      ]
    },
    {
      "cell_type": "code",
      "metadata": {
        "id": "KSqlfYGETsCJ",
        "colab_type": "code",
        "colab": {}
      },
      "source": [
        "local = data[data['CARD_CCG_NM']==data['HOM_CCG_NM']].reset_index(drop=True)\n",
        "tourist = data[data['CARD_CCG_NM']!=data['HOM_CCG_NM']].reset_index(drop=True)"
      ],
      "execution_count": 8,
      "outputs": []
    },
    {
      "cell_type": "code",
      "metadata": {
        "id": "-HmMsHYXTyyo",
        "colab_type": "code",
        "colab": {}
      },
      "source": [
        "# 데이터 정제\n",
        "local = local.drop(['CARD_CCG_NM', 'HOM_CCG_NM'], axis=1)\n",
        "columns = ['CARD_SIDO_NM', 'STD_CLSS_NM', 'HOM_SIDO_NM', 'AGE', 'SEX_CTGO_CD', 'FLC', 'year', 'month']\n",
        "local = local.groupby(columns).sum().reset_index(drop=False)"
      ],
      "execution_count": 9,
      "outputs": []
    },
    {
      "cell_type": "code",
      "metadata": {
        "id": "s9k-D32yT2FL",
        "colab_type": "code",
        "colab": {}
      },
      "source": [
        "# 데이터 정제\n",
        "tourist = tourist.drop(['CARD_CCG_NM', 'HOM_CCG_NM'], axis=1)\n",
        "columns = ['CARD_SIDO_NM', 'STD_CLSS_NM', 'HOM_SIDO_NM', 'AGE', 'SEX_CTGO_CD', 'FLC', 'year', 'month']\n",
        "tourist = tourist.groupby(columns).sum().reset_index(drop=False)"
      ],
      "execution_count": 10,
      "outputs": []
    },
    {
      "cell_type": "code",
      "metadata": {
        "id": "wg5eMLkcT3AY",
        "colab_type": "code",
        "colab": {}
      },
      "source": [
        "# 인코딩\n",
        "dtypes_lcl = local.dtypes\n",
        "encoders = {}\n",
        "for column in local.columns:\n",
        "    if str(dtypes_lcl[column]) == 'object':\n",
        "        encoder = LabelEncoder()\n",
        "        encoder.fit(local[column])\n",
        "        encoders[column] = encoder\n",
        "        \n",
        "lcl_num = local.copy()        \n",
        "for column in encoders.keys():\n",
        "    encoder = encoders[column]\n",
        "    lcl_num[column] = encoder.transform(local[column])"
      ],
      "execution_count": 11,
      "outputs": []
    },
    {
      "cell_type": "code",
      "metadata": {
        "id": "zjkYbpxyT6lS",
        "colab_type": "code",
        "colab": {}
      },
      "source": [
        "# 인코딩\n",
        "dtypes_trst = tourist.dtypes\n",
        "encoders = {}\n",
        "for column in tourist.columns:\n",
        "    if str(dtypes_lcl[column]) == 'object':\n",
        "        encoder = LabelEncoder()\n",
        "        encoder.fit(tourist[column])\n",
        "        encoders[column] = encoder\n",
        "        \n",
        "trst_num = tourist.copy()        \n",
        "for column in encoders.keys():\n",
        "    encoder = encoders[column]\n",
        "    trst_num[column] = encoder.transform(tourist[column])"
      ],
      "execution_count": 12,
      "outputs": []
    },
    {
      "cell_type": "code",
      "metadata": {
        "id": "9mL0mkYBT8ia",
        "colab_type": "code",
        "colab": {
          "base_uri": "https://localhost:8080/",
          "height": 34
        },
        "outputId": "3c11b9ae-8caf-4ad3-f667-2389d461da0c"
      },
      "source": [
        "from sklearn.model_selection import train_test_split\n",
        "\n",
        "X_lcl, y_lcl = lcl_num.loc[:, lcl_num.columns != 'AMT'], lcl_num['AMT']\n",
        "X_lcl  = X_lcl.drop(['CSTMR_CNT', 'CNT'], axis=1)\n",
        "X_train_lcl, X_test_lcl, y_train_lcl, y_test_lcl = train_test_split(X_lcl, y_lcl, test_size=0.3, random_state=126, shuffle=True)\n",
        "X_train_lcl.shape, y_train_lcl.shape, X_test_lcl.shape, y_test_lcl.shape"
      ],
      "execution_count": 13,
      "outputs": [
        {
          "output_type": "execute_result",
          "data": {
            "text/plain": [
              "((4999, 8), (4999,), (2143, 8), (2143,))"
            ]
          },
          "metadata": {
            "tags": []
          },
          "execution_count": 13
        }
      ]
    },
    {
      "cell_type": "code",
      "metadata": {
        "id": "-ugGHyUNVALg",
        "colab_type": "code",
        "colab": {
          "base_uri": "https://localhost:8080/",
          "height": 34
        },
        "outputId": "2f483997-082b-4e65-a51e-522eafec0468"
      },
      "source": [
        "X_trst, y_trst = trst_num.loc[:, trst_num.columns != 'AMT'], trst_num['AMT']\n",
        "X_trst = X_trst.drop(['CSTMR_CNT', 'CNT'], axis=1)\n",
        "X_train_trst, X_test_trst, y_train_trst, y_test_trst = train_test_split(X_trst, y_trst, test_size=0.3, random_state=126, shuffle=True)\n",
        "X_train_trst.shape, y_train_trst.shape, X_test_trst.shape, y_test_trst.shape"
      ],
      "execution_count": 14,
      "outputs": [
        {
          "output_type": "execute_result",
          "data": {
            "text/plain": [
              "((47692, 8), (47692,), (20440, 8), (20440,))"
            ]
          },
          "metadata": {
            "tags": []
          },
          "execution_count": 14
        }
      ]
    },
    {
      "cell_type": "code",
      "metadata": {
        "id": "OSdXObu2WAUg",
        "colab_type": "code",
        "colab": {}
      },
      "source": [
        "y_train_lcl, y_train_trst = np.log1p(y_train_lcl), np.log1p(y_train_trst)"
      ],
      "execution_count": 15,
      "outputs": []
    },
    {
      "cell_type": "code",
      "metadata": {
        "id": "9RSjoy9MWlnN",
        "colab_type": "code",
        "colab": {
          "base_uri": "https://localhost:8080/",
          "height": 626
        },
        "outputId": "2d7f07d8-15a8-48b2-de2d-d0bf132c13a8"
      },
      "source": [
        "sns.distplot(y_train_lcl, fit=norm);\n",
        "(mu, sigma) = norm.fit(y_train_lcl)\n",
        "print( '\\n mu = {:.2f} and sigma = {:.2f}\\n'.format(mu, sigma))\n",
        "plt.legend(['Normal dist. ($\\mu=$ {:.2f} and $\\sigma=$ {:.2f} )'.format(mu, sigma)],\n",
        "            loc='best')\n",
        "plt.ylabel('Frequency')\n",
        "plt.title('AMT distribution of the local')\n",
        "\n",
        "fig = plt.figure()\n",
        "res = stats.probplot(y_train_lcl, plot=plt)\n",
        "plt.show()"
      ],
      "execution_count": 16,
      "outputs": [
        {
          "output_type": "stream",
          "text": [
            "\n",
            " mu = 14.68 and sigma = 2.07\n",
            "\n"
          ],
          "name": "stdout"
        },
        {
          "output_type": "display_data",
          "data": {
            "image/png": "[encoded data removed]",
            "text/plain": [
              "<Figure size 432x288 with 1 Axes>"
            ]
          },
          "metadata": {
            "tags": [],
            "needs_background": "light"
          }
        },
        {
          "output_type": "display_data",
          "data": {
            "image/png": "[encoded data removed]",
            "text/plain": [
              "<Figure size 432x288 with 1 Axes>"
            ]
          },
          "metadata": {
            "tags": [],
            "needs_background": "light"
          }
        }
      ]
    },
    {
      "cell_type": "code",
      "metadata": {
        "id": "6JKd04VbWqTI",
        "colab_type": "code",
        "colab": {
          "base_uri": "https://localhost:8080/",
          "height": 626
        },
        "outputId": "84983cba-b0a5-4762-9ba0-419f32f81191"
      },
      "source": [
        "sns.distplot(y_train_trst, fit=norm);\n",
        "(mu, sigma) = norm.fit(y_train_trst)\n",
        "print( '\\n mu = {:.2f} and sigma = {:.2f}\\n'.format(mu, sigma))\n",
        "plt.legend(['Normal dist. ($\\mu=$ {:.2f} and $\\sigma=$ {:.2f} )'.format(mu, sigma)],\n",
        "            loc='best')\n",
        "plt.ylabel('Frequency')\n",
        "plt.title('AMT distribution of the tourist')\n",
        "\n",
        "fig = plt.figure()\n",
        "res = stats.probplot(y_train_trst, plot=plt)\n",
        "plt.show()"
      ],
      "execution_count": 17,
      "outputs": [
        {
          "output_type": "stream",
          "text": [
            "\n",
            " mu = 12.64 and sigma = 1.66\n",
            "\n"
          ],
          "name": "stdout"
        },
        {
          "output_type": "display_data",
          "data": {
            "image/png": "[encoded data removed]",
            "text/plain": [
              "<Figure size 432x288 with 1 Axes>"
            ]
          },
          "metadata": {
            "tags": [],
            "needs_background": "light"
          }
        },
        {
          "output_type": "display_data",
          "data": {
            "image/png": "[encoded data removed]",
            "text/plain": [
              "<Figure size 432x288 with 1 Axes>"
            ]
          },
          "metadata": {
            "tags": [],
            "needs_background": "light"
          }
        }
      ]
    },
    {
      "cell_type": "code",
      "metadata": {
        "id": "OkdPQ1PSW9bY",
        "colab_type": "code",
        "colab": {}
      },
      "source": [
        "def rmsle(y, pred): \n",
        "  log_y = np.log1p(y)\n",
        "  log_pred = np.log1p(pred)\n",
        "  squared_error = (log_y - log_pred)**2\n",
        "  rmsle = np.sqrt(np.mean(squared_error))\n",
        "  return print('Test Data RMSLE: {0:.3f}'.format(rmsle))"
      ],
      "execution_count": 18,
      "outputs": []
    },
    {
      "cell_type": "code",
      "metadata": {
        "id": "cfzUALP9XAJO",
        "colab_type": "code",
        "colab": {}
      },
      "source": [
        "from xgboost import XGBRegressor\n",
        "from lightgbm import LGBMRegressor"
      ],
      "execution_count": 19,
      "outputs": []
    },
    {
      "cell_type": "code",
      "metadata": {
        "id": "qC3Efl9QXBkR",
        "colab_type": "code",
        "colab": {}
      },
      "source": [
        "# 교차검증 수행\n",
        "def lcl_best_params_model(model, params):\n",
        "  cv_model = GridSearchCV(model, param_grid=params, scoring=\"neg_mean_squared_error\", cv = 5)\n",
        "  cv_model.fit(X_train_lcl, y_train_lcl)\n",
        "  print(\"----\", model.__class__.__name__, \"----\")\n",
        "  print(\"GridSearchCV 최적 하이퍼 파라미터 :\", cv_model.best_params_)\n",
        "\n",
        "  rmse = np.sqrt(-1*cv_model.best_score_)\n",
        "  print(\"GridSearchCV 최적 평균 RMSE값 :\", np.round(rmse, 3))\n",
        "\n",
        "  eval_pred = cv_model.predict(X_test_lcl)\n",
        "  eval_pred = np.expm1(eval_pred)\n",
        "  rmsle(y_test_lcl, eval_pred)\n",
        "  \n",
        "  return cv_model.best_estimator_"
      ],
      "execution_count": 20,
      "outputs": []
    },
    {
      "cell_type": "code",
      "metadata": {
        "id": "aGv_Ha-GXJ1L",
        "colab_type": "code",
        "colab": {}
      },
      "source": [
        "# 교차검증 수행\n",
        "def trst_best_params_model(model, params):\n",
        "  cv_model = GridSearchCV(model, param_grid=params, scoring=\"neg_mean_squared_error\", cv = 5)\n",
        "  cv_model.fit(X_train_trst, y_train_trst)\n",
        "  print(\"----\", model.__class__.__name__, \"----\")\n",
        "  print(\"GridSearchCV 최적 하이퍼 파라미터 :\", cv_model.best_params_)\n",
        "\n",
        "  rmse = np.sqrt(-1*cv_model.best_score_)\n",
        "  print(\"GridSearchCV 최적 평균 RMSE값 :\", np.round(rmse, 3))\n",
        "\n",
        "  eval_pred = cv_model.predict(X_test_trst)\n",
        "  eval_pred = np.expm1(eval_pred)\n",
        "  rmsle(y_test_trst, eval_pred)\n",
        "  \n",
        "  return cv_model.best_estimator_"
      ],
      "execution_count": 21,
      "outputs": []
    },
    {
      "cell_type": "code",
      "metadata": {
        "id": "Fgax6GILXWhh",
        "colab_type": "code",
        "colab": {
          "base_uri": "https://localhost:8080/",
          "height": 442
        },
        "outputId": "76ce5161-4099-46bd-94a3-a8d08eff4c38"
      },
      "source": [
        "from sklearn.linear_model import LinearRegression\n",
        "\n",
        "# 4개의 모델 선언\n",
        "# random_state = 0 <- 이 숫자는 아무거나 적어도 상관 X\n",
        "# xgb gbm lgb 모두 'random_state=0' <- 모두 같은 데이터로 모델링\n",
        "xgb = XGBRegressor(random_state=0)\n",
        "gbm = GradientBoostingRegressor(random_state=0)\n",
        "lgb = LGBMRegressor(random_state=0)  \n",
        "\n",
        "params = {'n_estimators': [1000, 2000]}\n",
        "\n",
        "models = [xgb, gbm, lgb] # 모형 하나 추가 함\n",
        "best_models_lcl = []\n",
        "for model in models:\n",
        "  new_model = lcl_best_params_model(model=model, params=params)\n",
        "  best_models_lcl.append(new_model)"
      ],
      "execution_count": 22,
      "outputs": [
        {
          "output_type": "stream",
          "text": [
            "[04:43:50] WARNING: /workspace/src/objective/regression_obj.cu:152: reg:linear is now deprecated in favor of reg:squarederror.\n",
            "[04:43:52] WARNING: /workspace/src/objective/regression_obj.cu:152: reg:linear is now deprecated in favor of reg:squarederror.\n",
            "[04:43:53] WARNING: /workspace/src/objective/regression_obj.cu:152: reg:linear is now deprecated in favor of reg:squarederror.\n",
            "[04:43:54] WARNING: /workspace/src/objective/regression_obj.cu:152: reg:linear is now deprecated in favor of reg:squarederror.\n",
            "[04:43:55] WARNING: /workspace/src/objective/regression_obj.cu:152: reg:linear is now deprecated in favor of reg:squarederror.\n",
            "[04:43:57] WARNING: /workspace/src/objective/regression_obj.cu:152: reg:linear is now deprecated in favor of reg:squarederror.\n",
            "[04:43:59] WARNING: /workspace/src/objective/regression_obj.cu:152: reg:linear is now deprecated in favor of reg:squarederror.\n",
            "[04:44:02] WARNING: /workspace/src/objective/regression_obj.cu:152: reg:linear is now deprecated in favor of reg:squarederror.\n",
            "[04:44:04] WARNING: /workspace/src/objective/regression_obj.cu:152: reg:linear is now deprecated in favor of reg:squarederror.\n",
            "[04:44:06] WARNING: /workspace/src/objective/regression_obj.cu:152: reg:linear is now deprecated in favor of reg:squarederror.\n",
            "[04:44:09] WARNING: /workspace/src/objective/regression_obj.cu:152: reg:linear is now deprecated in favor of reg:squarederror.\n",
            "---- XGBRegressor ----\n",
            "GridSearchCV 최적 하이퍼 파라미터 : {'n_estimators': 2000}\n",
            "GridSearchCV 최적 평균 RMSE값 : 1.383\n",
            "Test Data RMSLE: 1.309\n",
            "---- GradientBoostingRegressor ----\n",
            "GridSearchCV 최적 하이퍼 파라미터 : {'n_estimators': 1000}\n",
            "GridSearchCV 최적 평균 RMSE값 : 1.391\n",
            "Test Data RMSLE: 1.314\n",
            "---- LGBMRegressor ----\n",
            "GridSearchCV 최적 하이퍼 파라미터 : {'n_estimators': 1000}\n",
            "GridSearchCV 최적 평균 RMSE값 : 1.505\n",
            "Test Data RMSLE: 1.413\n"
          ],
          "name": "stdout"
        }
      ]
    },
    {
      "cell_type": "code",
      "metadata": {
        "id": "BQoC_57Kbaa9",
        "colab_type": "code",
        "colab": {
          "base_uri": "https://localhost:8080/",
          "height": 442
        },
        "outputId": "ce18c96b-95f4-4a61-e14f-1d43600afbd2"
      },
      "source": [
        "from sklearn.linear_model import LinearRegression\n",
        "\n",
        "# 4개의 모델 선언\n",
        "# random_state = 0 <- 이 숫자는 아무거나 적어도 상관 X\n",
        "# xgb gbm lgb 모두 'random_state=0' <- 모두 같은 데이터로 모델링\n",
        "xgb = XGBRegressor(random_state=0)\n",
        "gbm = GradientBoostingRegressor(random_state=0)\n",
        "lgb = LGBMRegressor(random_state=0)  \n",
        "\n",
        "params = {'n_estimators': [1000, 2000]}\n",
        "\n",
        "models = [xgb, gbm, lgb] # 모형 하나 추가 함\n",
        "best_models_trst = []\n",
        "for model in models:\n",
        "  new_model = trst_best_params_model(model=model, params=params)\n",
        "  best_models_trst.append(new_model)"
      ],
      "execution_count": 23,
      "outputs": [
        {
          "output_type": "stream",
          "text": [
            "[04:44:59] WARNING: /workspace/src/objective/regression_obj.cu:152: reg:linear is now deprecated in favor of reg:squarederror.\n",
            "[04:45:09] WARNING: /workspace/src/objective/regression_obj.cu:152: reg:linear is now deprecated in favor of reg:squarederror.\n",
            "[04:45:19] WARNING: /workspace/src/objective/regression_obj.cu:152: reg:linear is now deprecated in favor of reg:squarederror.\n",
            "[04:45:29] WARNING: /workspace/src/objective/regression_obj.cu:152: reg:linear is now deprecated in favor of reg:squarederror.\n",
            "[04:45:39] WARNING: /workspace/src/objective/regression_obj.cu:152: reg:linear is now deprecated in favor of reg:squarederror.\n",
            "[04:45:49] WARNING: /workspace/src/objective/regression_obj.cu:152: reg:linear is now deprecated in favor of reg:squarederror.\n",
            "[04:46:09] WARNING: /workspace/src/objective/regression_obj.cu:152: reg:linear is now deprecated in favor of reg:squarederror.\n",
            "[04:46:29] WARNING: /workspace/src/objective/regression_obj.cu:152: reg:linear is now deprecated in favor of reg:squarederror.\n",
            "[04:46:50] WARNING: /workspace/src/objective/regression_obj.cu:152: reg:linear is now deprecated in favor of reg:squarederror.\n",
            "[04:47:10] WARNING: /workspace/src/objective/regression_obj.cu:152: reg:linear is now deprecated in favor of reg:squarederror.\n",
            "[04:47:30] WARNING: /workspace/src/objective/regression_obj.cu:152: reg:linear is now deprecated in favor of reg:squarederror.\n",
            "---- XGBRegressor ----\n",
            "GridSearchCV 최적 하이퍼 파라미터 : {'n_estimators': 2000}\n",
            "GridSearchCV 최적 평균 RMSE값 : 1.296\n",
            "Test Data RMSLE: 1.299\n",
            "---- GradientBoostingRegressor ----\n",
            "GridSearchCV 최적 하이퍼 파라미터 : {'n_estimators': 2000}\n",
            "GridSearchCV 최적 평균 RMSE값 : 1.295\n",
            "Test Data RMSLE: 1.300\n",
            "---- LGBMRegressor ----\n",
            "GridSearchCV 최적 하이퍼 파라미터 : {'n_estimators': 1000}\n",
            "GridSearchCV 최적 평균 RMSE값 : 1.252\n",
            "Test Data RMSLE: 1.241\n"
          ],
          "name": "stdout"
        }
      ]
    },
    {
      "cell_type": "code",
      "metadata": {
        "id": "_OK7ZJnjnDCX",
        "colab_type": "code",
        "colab": {
          "base_uri": "https://localhost:8080/",
          "height": 52
        },
        "outputId": "b9e9f6ca-5cdd-4e53-b623-f1a9b24533c9"
      },
      "source": [
        "# lcl 모형 불러오기\n",
        "xgb_reg_lcl = best_models_lcl[0]\n",
        "gbm_reg_lcl = best_models_lcl[1]\n",
        "lgb_reg_lcl = best_models_lcl[2]\n",
        "\n",
        "# 예측 데이터 세트\n",
        "xgb_pred_lcl = xgb_reg_lcl.predict(X_test_lcl)\n",
        "xgb_pred_lcl = np.expm1(xgb_pred_lcl)\n",
        "\n",
        "gbm_pred_lcl = gbm_reg_lcl.predict(X_test_lcl)\n",
        "gbm_pred_lcl = np.expm1(gbm_pred_lcl)\n",
        "\n",
        "lgb_pred_lcl = lgb_reg_lcl.predict(X_test_lcl)\n",
        "lgb_pred_lcl = np.expm1(lgb_pred_lcl)\n",
        "\n",
        "pred_lcl = np.array([xgb_pred_lcl, gbm_pred_lcl, lgb_pred_lcl])\n",
        "print(pred_lcl.shape)\n",
        "\n",
        "# transpose를 이용해 행과 열의 위치 교환\n",
        "pred_lcl = np.transpose(pred_lcl)\n",
        "print(pred_lcl.shape)"
      ],
      "execution_count": 24,
      "outputs": [
        {
          "output_type": "stream",
          "text": [
            "(3, 2143)\n",
            "(2143, 3)\n"
          ],
          "name": "stdout"
        }
      ]
    },
    {
      "cell_type": "code",
      "metadata": {
        "id": "O3R9nhZNtTgt",
        "colab_type": "code",
        "colab": {
          "base_uri": "https://localhost:8080/",
          "height": 34
        },
        "outputId": "ee6bd324-02e0-4bbb-aeb0-e5c84ed0fd9f"
      },
      "source": [
        "final_lcl = xgb_pred_lcl*0.60 + gbm_pred_lcl*0.20 + lgb_pred_lcl*0.20\n",
        "rmsle(y_test_lcl, final_lcl)"
      ],
      "execution_count": 51,
      "outputs": [
        {
          "output_type": "stream",
          "text": [
            "Test Data RMSLE: 1.309\n"
          ],
          "name": "stdout"
        }
      ]
    },
    {
      "cell_type": "code",
      "metadata": {
        "id": "Pv_ErNOTtZe_",
        "colab_type": "code",
        "colab": {
          "base_uri": "https://localhost:8080/",
          "height": 52
        },
        "outputId": "8217f734-ee03-456b-e578-b3ba45eeec16"
      },
      "source": [
        "# trst 모형 불러오기\n",
        "xgb_reg_trst = best_models_trst[0]\n",
        "gbm_reg_trst = best_models_trst[1]\n",
        "lgb_reg_trst = best_models_trst[2]\n",
        "\n",
        "# 예측 데이터 세트\n",
        "xgb_pred_trst = xgb_reg_trst.predict(X_test_trst)\n",
        "xgb_pred_trst = np.expm1(xgb_pred_trst)\n",
        "\n",
        "gbm_pred_trst = gbm_reg_trst.predict(X_test_trst)\n",
        "gbm_pred_trst = np.expm1(gbm_pred_trst)\n",
        "\n",
        "lgb_pred_trst = lgb_reg_trst.predict(X_test_trst)\n",
        "lgb_pred_trst = np.expm1(lgb_pred_trst)\n",
        "\n",
        "pred_trst = np.array([xgb_pred_trst, gbm_pred_trst, lgb_pred_trst])\n",
        "print(pred_trst.shape)\n",
        "\n",
        "# transpose를 이용해 행과 열의 위치 교환\n",
        "pred_trst = np.transpose(pred_trst)\n",
        "print(pred_trst.shape)"
      ],
      "execution_count": 39,
      "outputs": [
        {
          "output_type": "stream",
          "text": [
            "(3, 20440)\n",
            "(20440, 3)\n"
          ],
          "name": "stdout"
        }
      ]
    },
    {
      "cell_type": "code",
      "metadata": {
        "id": "CNkgO7ViuVaY",
        "colab_type": "code",
        "colab": {
          "base_uri": "https://localhost:8080/",
          "height": 34
        },
        "outputId": "98a7d7a0-ec5c-4c7d-cb19-83ad05ae18f7"
      },
      "source": [
        "final_trst = xgb_pred_trst*0.30 + gbm_pred_trst*0.20 + lgb_pred_trst*0.50\n",
        "rmsle(y_test_trst, final_trst)"
      ],
      "execution_count": 44,
      "outputs": [
        {
          "output_type": "stream",
          "text": [
            "Test Data RMSLE: 1.255\n"
          ],
          "name": "stdout"
        }
      ]
    },
    {
      "cell_type": "code",
      "metadata": {
        "id": "hAzTd10Auc6b",
        "colab_type": "code",
        "colab": {}
      },
      "source": [
        "from itertools import product\n",
        "\n",
        "# lcl 예측 템플릿 만들기\n",
        "CARD_SIDO_NMs = lcl_num['CARD_SIDO_NM'].unique()\n",
        "STD_CLSS_NMs  = lcl_num['STD_CLSS_NM'].unique()\n",
        "HOM_SIDO_NMs  = lcl_num['HOM_SIDO_NM'].unique()\n",
        "AGEs          = lcl_num['AGE'].unique()\n",
        "SEX_CTGO_CDs  = lcl_num['SEX_CTGO_CD'].unique()\n",
        "FLCs          = lcl_num['FLC'].unique()\n",
        "years         = [2020]\n",
        "months        = [4, 7]\n",
        "\n",
        "comb_list = [CARD_SIDO_NMs, STD_CLSS_NMs,HOM_SIDO_NMs, AGEs, SEX_CTGO_CDs, FLCs, years, months]\n",
        "temp = np.array(list(product(*comb_list)))\n",
        "\n",
        "train_features = lcl_num.drop(['CSTMR_CNT', 'AMT', 'CNT'], axis=1)\n",
        "temp_lcl = pd.DataFrame(data=temp, columns=train_features.columns)"
      ],
      "execution_count": 52,
      "outputs": []
    },
    {
      "cell_type": "code",
      "metadata": {
        "id": "g9Z9FUSmvJ5C",
        "colab_type": "code",
        "colab": {}
      },
      "source": [
        "# lcl 예측 데이터 세트\n",
        "xgb_pred_lcl = xgb_reg_lcl.predict(temp_lcl)\n",
        "xgb_pred_lcl = np.expm1(xgb_pred_lcl)\n",
        "\n",
        "gbm_pred_lcl = gbm_reg_lcl.predict(temp_lcl)\n",
        "gbm_pred_lcl = np.expm1(gbm_pred_lcl)\n",
        "\n",
        "lgb_pred_lcl = lgb_reg_lcl.predict(temp_lcl)\n",
        "lgb_pred_lcl = np.expm1(lgb_pred_lcl)"
      ],
      "execution_count": 53,
      "outputs": []
    },
    {
      "cell_type": "code",
      "metadata": {
        "id": "PgDdwN9CvVoQ",
        "colab_type": "code",
        "colab": {}
      },
      "source": [
        "final_lcl = xgb_pred_lcl*0.60 + gbm_pred_lcl*0.20 + lgb_pred_lcl*0.20\n",
        "\n",
        "temp_lcl['AMT'] = np.round(final_lcl, 0)\n",
        "temp_lcl['REG_YYMM'] = temp_lcl['year']*100 + temp_lcl['month']\n",
        "temp_lcl = temp_lcl[['REG_YYMM', 'CARD_SIDO_NM', 'STD_CLSS_NM', 'AMT']]\n",
        "temp_lcl = temp_lcl.groupby(['REG_YYMM', 'CARD_SIDO_NM', 'STD_CLSS_NM']).sum().reset_index(drop=False)"
      ],
      "execution_count": 55,
      "outputs": []
    },
    {
      "cell_type": "code",
      "metadata": {
        "id": "WnBLMaxbwfNn",
        "colab_type": "code",
        "colab": {
          "base_uri": "https://localhost:8080/",
          "height": 195
        },
        "outputId": "c8657ad9-d44e-48e0-a6ed-f17907e1bb54"
      },
      "source": [
        "# 디코딩 \n",
        "temp_lcl['CARD_SIDO_NM'] = encoders['CARD_SIDO_NM'].inverse_transform(temp_lcl['CARD_SIDO_NM'])\n",
        "temp_lcl['STD_CLSS_NM'] = encoders['STD_CLSS_NM'].inverse_transform(temp_lcl['STD_CLSS_NM'])\n",
        "\n",
        "temp_lcl.head()"
      ],
      "execution_count": 56,
      "outputs": [
        {
          "output_type": "execute_result",
          "data": {
            "text/html": [
              "<div>\n",
              "<style scoped>\n",
              "    .dataframe tbody tr th:only-of-type {\n",
              "        vertical-align: middle;\n",
              "    }\n",
              "\n",
              "    .dataframe tbody tr th {\n",
              "        vertical-align: top;\n",
              "    }\n",
              "\n",
              "    .dataframe thead th {\n",
              "        text-align: right;\n",
              "    }\n",
              "</style>\n",
              "<table border=\"1\" class=\"dataframe\">\n",
              "  <thead>\n",
              "    <tr style=\"text-align: right;\">\n",
              "      <th></th>\n",
              "      <th>REG_YYMM</th>\n",
              "      <th>CARD_SIDO_NM</th>\n",
              "      <th>STD_CLSS_NM</th>\n",
              "      <th>AMT</th>\n",
              "    </tr>\n",
              "  </thead>\n",
              "  <tbody>\n",
              "    <tr>\n",
              "      <th>0</th>\n",
              "      <td>202004</td>\n",
              "      <td>강원</td>\n",
              "      <td>건강보조식품 소매업</td>\n",
              "      <td>148372004.0</td>\n",
              "    </tr>\n",
              "    <tr>\n",
              "      <th>1</th>\n",
              "      <td>202004</td>\n",
              "      <td>강원</td>\n",
              "      <td>골프장 운영업</td>\n",
              "      <td>214317081.0</td>\n",
              "    </tr>\n",
              "    <tr>\n",
              "      <th>2</th>\n",
              "      <td>202004</td>\n",
              "      <td>강원</td>\n",
              "      <td>과실 및 채소 소매업</td>\n",
              "      <td>170860276.0</td>\n",
              "    </tr>\n",
              "    <tr>\n",
              "      <th>3</th>\n",
              "      <td>202004</td>\n",
              "      <td>강원</td>\n",
              "      <td>관광 민예품 및 선물용품 소매업</td>\n",
              "      <td>7739481.0</td>\n",
              "    </tr>\n",
              "    <tr>\n",
              "      <th>4</th>\n",
              "      <td>202004</td>\n",
              "      <td>강원</td>\n",
              "      <td>그외 기타 스포츠시설 운영업</td>\n",
              "      <td>9573331.0</td>\n",
              "    </tr>\n",
              "  </tbody>\n",
              "</table>\n",
              "</div>"
            ],
            "text/plain": [
              "   REG_YYMM CARD_SIDO_NM        STD_CLSS_NM          AMT\n",
              "0    202004           강원         건강보조식품 소매업  148372004.0\n",
              "1    202004           강원            골프장 운영업  214317081.0\n",
              "2    202004           강원        과실 및 채소 소매업  170860276.0\n",
              "3    202004           강원  관광 민예품 및 선물용품 소매업    7739481.0\n",
              "4    202004           강원    그외 기타 스포츠시설 운영업    9573331.0"
            ]
          },
          "metadata": {
            "tags": []
          },
          "execution_count": 56
        }
      ]
    },
    {
      "cell_type": "code",
      "metadata": {
        "id": "FLK1mkXHwlu5",
        "colab_type": "code",
        "colab": {}
      },
      "source": [
        "from itertools import product\n",
        "\n",
        "# trst 예측 템플릿 만들기\n",
        "CARD_SIDO_NMs = trst_num['CARD_SIDO_NM'].unique()\n",
        "STD_CLSS_NMs  = trst_num['STD_CLSS_NM'].unique()\n",
        "HOM_SIDO_NMs  = trst_num['HOM_SIDO_NM'].unique()\n",
        "AGEs          = trst_num['AGE'].unique()\n",
        "SEX_CTGO_CDs  = trst_num['SEX_CTGO_CD'].unique()\n",
        "FLCs          = trst_num['FLC'].unique()\n",
        "years         = [2020]\n",
        "months        = [4, 7]\n",
        "\n",
        "comb_list = [CARD_SIDO_NMs, STD_CLSS_NMs,HOM_SIDO_NMs, AGEs, SEX_CTGO_CDs, FLCs, years, months]\n",
        "temp = np.array(list(product(*comb_list)))\n",
        "\n",
        "train_features = lcl_num.drop(['CSTMR_CNT', 'AMT', 'CNT'], axis=1)\n",
        "temp_trst = pd.DataFrame(data=temp, columns=train_features.columns)"
      ],
      "execution_count": 57,
      "outputs": []
    },
    {
      "cell_type": "code",
      "metadata": {
        "id": "2_PSmPhWxTO2",
        "colab_type": "code",
        "colab": {}
      },
      "source": [
        "# trst 예측 데이터 세트\n",
        "xgb_pred_trst = xgb_reg_trst.predict(temp_trst)\n",
        "xgb_pred_trst = np.expm1(xgb_pred_trst)\n",
        "\n",
        "gbm_pred_trst = gbm_reg_trst.predict(temp_trst)\n",
        "gbm_pred_trst = np.expm1(gbm_pred_trst)\n",
        "\n",
        "lgb_pred_trst = lgb_reg_trst.predict(temp_trst)\n",
        "lgb_pred_trst = np.expm1(lgb_pred_trst)"
      ],
      "execution_count": 58,
      "outputs": []
    },
    {
      "cell_type": "code",
      "metadata": {
        "id": "A9mcjkYExeg7",
        "colab_type": "code",
        "colab": {}
      },
      "source": [
        "final_trst = xgb_pred_trst*0.30 + gbm_pred_trst*0.20 + lgb_pred_trst*0.50\n",
        "\n",
        "temp_trst['AMT'] = np.round(final_trst, 0)\n",
        "temp_trst['REG_YYMM'] = temp_trst['year']*100 + temp_trst['month']\n",
        "temp_trst = temp_trst[['REG_YYMM', 'CARD_SIDO_NM', 'STD_CLSS_NM', 'AMT']]\n",
        "temp_trst = temp_trst.groupby(['REG_YYMM', 'CARD_SIDO_NM', 'STD_CLSS_NM']).sum().reset_index(drop=False)"
      ],
      "execution_count": 59,
      "outputs": []
    },
    {
      "cell_type": "code",
      "metadata": {
        "id": "4gtP90qFydgl",
        "colab_type": "code",
        "colab": {
          "base_uri": "https://localhost:8080/",
          "height": 195
        },
        "outputId": "9b5837fc-c1e4-477d-8d8b-87729ee0f859"
      },
      "source": [
        "# 디코딩 \n",
        "temp_trst['CARD_SIDO_NM'] = encoders['CARD_SIDO_NM'].inverse_transform(temp_trst['CARD_SIDO_NM'])\n",
        "temp_trst['STD_CLSS_NM'] = encoders['STD_CLSS_NM'].inverse_transform(temp_trst['STD_CLSS_NM'])\n",
        "\n",
        "temp_trst.head()"
      ],
      "execution_count": 61,
      "outputs": [
        {
          "output_type": "execute_result",
          "data": {
            "text/html": [
              "<div>\n",
              "<style scoped>\n",
              "    .dataframe tbody tr th:only-of-type {\n",
              "        vertical-align: middle;\n",
              "    }\n",
              "\n",
              "    .dataframe tbody tr th {\n",
              "        vertical-align: top;\n",
              "    }\n",
              "\n",
              "    .dataframe thead th {\n",
              "        text-align: right;\n",
              "    }\n",
              "</style>\n",
              "<table border=\"1\" class=\"dataframe\">\n",
              "  <thead>\n",
              "    <tr style=\"text-align: right;\">\n",
              "      <th></th>\n",
              "      <th>REG_YYMM</th>\n",
              "      <th>CARD_SIDO_NM</th>\n",
              "      <th>STD_CLSS_NM</th>\n",
              "      <th>AMT</th>\n",
              "    </tr>\n",
              "  </thead>\n",
              "  <tbody>\n",
              "    <tr>\n",
              "      <th>0</th>\n",
              "      <td>202004</td>\n",
              "      <td>강원</td>\n",
              "      <td>건강보조식품 소매업</td>\n",
              "      <td>60755538.0</td>\n",
              "    </tr>\n",
              "    <tr>\n",
              "      <th>1</th>\n",
              "      <td>202004</td>\n",
              "      <td>강원</td>\n",
              "      <td>골프장 운영업</td>\n",
              "      <td>200059455.0</td>\n",
              "    </tr>\n",
              "    <tr>\n",
              "      <th>2</th>\n",
              "      <td>202004</td>\n",
              "      <td>강원</td>\n",
              "      <td>과실 및 채소 소매업</td>\n",
              "      <td>45172959.0</td>\n",
              "    </tr>\n",
              "    <tr>\n",
              "      <th>3</th>\n",
              "      <td>202004</td>\n",
              "      <td>강원</td>\n",
              "      <td>관광 민예품 및 선물용품 소매업</td>\n",
              "      <td>23066033.0</td>\n",
              "    </tr>\n",
              "    <tr>\n",
              "      <th>4</th>\n",
              "      <td>202004</td>\n",
              "      <td>강원</td>\n",
              "      <td>그외 기타 스포츠시설 운영업</td>\n",
              "      <td>20624665.0</td>\n",
              "    </tr>\n",
              "  </tbody>\n",
              "</table>\n",
              "</div>"
            ],
            "text/plain": [
              "   REG_YYMM CARD_SIDO_NM        STD_CLSS_NM          AMT\n",
              "0    202004           강원         건강보조식품 소매업   60755538.0\n",
              "1    202004           강원            골프장 운영업  200059455.0\n",
              "2    202004           강원        과실 및 채소 소매업   45172959.0\n",
              "3    202004           강원  관광 민예품 및 선물용품 소매업   23066033.0\n",
              "4    202004           강원    그외 기타 스포츠시설 운영업   20624665.0"
            ]
          },
          "metadata": {
            "tags": []
          },
          "execution_count": 61
        }
      ]
    },
    {
      "cell_type": "code",
      "metadata": {
        "id": "sl4SxVCp05hk",
        "colab_type": "code",
        "colab": {}
      },
      "source": [
        "temp_lcl.head(50)"
      ],
      "execution_count": null,
      "outputs": []
    },
    {
      "cell_type": "code",
      "metadata": {
        "id": "Tq_-fh2T08Ng",
        "colab_type": "code",
        "colab": {}
      },
      "source": [
        "temp_trst.head(50)"
      ],
      "execution_count": null,
      "outputs": []
    },
    {
      "cell_type": "code",
      "metadata": {
        "id": "EOfiWWPKypoa",
        "colab_type": "code",
        "colab": {
          "base_uri": "https://localhost:8080/",
          "height": 195
        },
        "outputId": "3d118d8b-c779-411b-ab2f-acc93b2e57a2"
      },
      "source": [
        "sub = temp_lcl[['REG_YYMM', 'CARD_SIDO_NM', 'STD_CLSS_NM']]\n",
        "\n",
        "sub.head()"
      ],
      "execution_count": 62,
      "outputs": [
        {
          "output_type": "execute_result",
          "data": {
            "text/html": [
              "<div>\n",
              "<style scoped>\n",
              "    .dataframe tbody tr th:only-of-type {\n",
              "        vertical-align: middle;\n",
              "    }\n",
              "\n",
              "    .dataframe tbody tr th {\n",
              "        vertical-align: top;\n",
              "    }\n",
              "\n",
              "    .dataframe thead th {\n",
              "        text-align: right;\n",
              "    }\n",
              "</style>\n",
              "<table border=\"1\" class=\"dataframe\">\n",
              "  <thead>\n",
              "    <tr style=\"text-align: right;\">\n",
              "      <th></th>\n",
              "      <th>REG_YYMM</th>\n",
              "      <th>CARD_SIDO_NM</th>\n",
              "      <th>STD_CLSS_NM</th>\n",
              "    </tr>\n",
              "  </thead>\n",
              "  <tbody>\n",
              "    <tr>\n",
              "      <th>0</th>\n",
              "      <td>202004</td>\n",
              "      <td>강원</td>\n",
              "      <td>건강보조식품 소매업</td>\n",
              "    </tr>\n",
              "    <tr>\n",
              "      <th>1</th>\n",
              "      <td>202004</td>\n",
              "      <td>강원</td>\n",
              "      <td>골프장 운영업</td>\n",
              "    </tr>\n",
              "    <tr>\n",
              "      <th>2</th>\n",
              "      <td>202004</td>\n",
              "      <td>강원</td>\n",
              "      <td>과실 및 채소 소매업</td>\n",
              "    </tr>\n",
              "    <tr>\n",
              "      <th>3</th>\n",
              "      <td>202004</td>\n",
              "      <td>강원</td>\n",
              "      <td>관광 민예품 및 선물용품 소매업</td>\n",
              "    </tr>\n",
              "    <tr>\n",
              "      <th>4</th>\n",
              "      <td>202004</td>\n",
              "      <td>강원</td>\n",
              "      <td>그외 기타 스포츠시설 운영업</td>\n",
              "    </tr>\n",
              "  </tbody>\n",
              "</table>\n",
              "</div>"
            ],
            "text/plain": [
              "   REG_YYMM CARD_SIDO_NM        STD_CLSS_NM\n",
              "0    202004           강원         건강보조식품 소매업\n",
              "1    202004           강원            골프장 운영업\n",
              "2    202004           강원        과실 및 채소 소매업\n",
              "3    202004           강원  관광 민예품 및 선물용품 소매업\n",
              "4    202004           강원    그외 기타 스포츠시설 운영업"
            ]
          },
          "metadata": {
            "tags": []
          },
          "execution_count": 62
        }
      ]
    },
    {
      "cell_type": "code",
      "metadata": {
        "id": "jIAVKGx62eWt",
        "colab_type": "code",
        "colab": {
          "base_uri": "https://localhost:8080/",
          "height": 195
        },
        "outputId": "755d8a21-2d60-4168-bb2c-ee997df15094"
      },
      "source": [
        "temp_lcl.head()"
      ],
      "execution_count": 67,
      "outputs": [
        {
          "output_type": "execute_result",
          "data": {
            "text/html": [
              "<div>\n",
              "<style scoped>\n",
              "    .dataframe tbody tr th:only-of-type {\n",
              "        vertical-align: middle;\n",
              "    }\n",
              "\n",
              "    .dataframe tbody tr th {\n",
              "        vertical-align: top;\n",
              "    }\n",
              "\n",
              "    .dataframe thead th {\n",
              "        text-align: right;\n",
              "    }\n",
              "</style>\n",
              "<table border=\"1\" class=\"dataframe\">\n",
              "  <thead>\n",
              "    <tr style=\"text-align: right;\">\n",
              "      <th></th>\n",
              "      <th>REG_YYMM</th>\n",
              "      <th>CARD_SIDO_NM</th>\n",
              "      <th>STD_CLSS_NM</th>\n",
              "      <th>AMT</th>\n",
              "    </tr>\n",
              "  </thead>\n",
              "  <tbody>\n",
              "    <tr>\n",
              "      <th>0</th>\n",
              "      <td>202004</td>\n",
              "      <td>강원</td>\n",
              "      <td>건강보조식품 소매업</td>\n",
              "      <td>148372004.0</td>\n",
              "    </tr>\n",
              "    <tr>\n",
              "      <th>1</th>\n",
              "      <td>202004</td>\n",
              "      <td>강원</td>\n",
              "      <td>골프장 운영업</td>\n",
              "      <td>214317081.0</td>\n",
              "    </tr>\n",
              "    <tr>\n",
              "      <th>2</th>\n",
              "      <td>202004</td>\n",
              "      <td>강원</td>\n",
              "      <td>과실 및 채소 소매업</td>\n",
              "      <td>170860276.0</td>\n",
              "    </tr>\n",
              "    <tr>\n",
              "      <th>3</th>\n",
              "      <td>202004</td>\n",
              "      <td>강원</td>\n",
              "      <td>관광 민예품 및 선물용품 소매업</td>\n",
              "      <td>7739481.0</td>\n",
              "    </tr>\n",
              "    <tr>\n",
              "      <th>4</th>\n",
              "      <td>202004</td>\n",
              "      <td>강원</td>\n",
              "      <td>그외 기타 스포츠시설 운영업</td>\n",
              "      <td>9573331.0</td>\n",
              "    </tr>\n",
              "  </tbody>\n",
              "</table>\n",
              "</div>"
            ],
            "text/plain": [
              "   REG_YYMM CARD_SIDO_NM        STD_CLSS_NM          AMT\n",
              "0    202004           강원         건강보조식품 소매업  148372004.0\n",
              "1    202004           강원            골프장 운영업  214317081.0\n",
              "2    202004           강원        과실 및 채소 소매업  170860276.0\n",
              "3    202004           강원  관광 민예품 및 선물용품 소매업    7739481.0\n",
              "4    202004           강원    그외 기타 스포츠시설 운영업    9573331.0"
            ]
          },
          "metadata": {
            "tags": []
          },
          "execution_count": 67
        }
      ]
    },
    {
      "cell_type": "code",
      "metadata": {
        "id": "uO8L9JT32iXG",
        "colab_type": "code",
        "colab": {
          "base_uri": "https://localhost:8080/",
          "height": 195
        },
        "outputId": "c5aee497-6fc9-44bf-fdc5-e50beeef133c"
      },
      "source": [
        "temp_trst.head()"
      ],
      "execution_count": 69,
      "outputs": [
        {
          "output_type": "execute_result",
          "data": {
            "text/html": [
              "<div>\n",
              "<style scoped>\n",
              "    .dataframe tbody tr th:only-of-type {\n",
              "        vertical-align: middle;\n",
              "    }\n",
              "\n",
              "    .dataframe tbody tr th {\n",
              "        vertical-align: top;\n",
              "    }\n",
              "\n",
              "    .dataframe thead th {\n",
              "        text-align: right;\n",
              "    }\n",
              "</style>\n",
              "<table border=\"1\" class=\"dataframe\">\n",
              "  <thead>\n",
              "    <tr style=\"text-align: right;\">\n",
              "      <th></th>\n",
              "      <th>REG_YYMM</th>\n",
              "      <th>CARD_SIDO_NM</th>\n",
              "      <th>STD_CLSS_NM</th>\n",
              "      <th>AMT</th>\n",
              "    </tr>\n",
              "  </thead>\n",
              "  <tbody>\n",
              "    <tr>\n",
              "      <th>0</th>\n",
              "      <td>202004</td>\n",
              "      <td>강원</td>\n",
              "      <td>건강보조식품 소매업</td>\n",
              "      <td>60755538.0</td>\n",
              "    </tr>\n",
              "    <tr>\n",
              "      <th>1</th>\n",
              "      <td>202004</td>\n",
              "      <td>강원</td>\n",
              "      <td>골프장 운영업</td>\n",
              "      <td>200059455.0</td>\n",
              "    </tr>\n",
              "    <tr>\n",
              "      <th>2</th>\n",
              "      <td>202004</td>\n",
              "      <td>강원</td>\n",
              "      <td>과실 및 채소 소매업</td>\n",
              "      <td>45172959.0</td>\n",
              "    </tr>\n",
              "    <tr>\n",
              "      <th>3</th>\n",
              "      <td>202004</td>\n",
              "      <td>강원</td>\n",
              "      <td>관광 민예품 및 선물용품 소매업</td>\n",
              "      <td>23066033.0</td>\n",
              "    </tr>\n",
              "    <tr>\n",
              "      <th>4</th>\n",
              "      <td>202004</td>\n",
              "      <td>강원</td>\n",
              "      <td>그외 기타 스포츠시설 운영업</td>\n",
              "      <td>20624665.0</td>\n",
              "    </tr>\n",
              "  </tbody>\n",
              "</table>\n",
              "</div>"
            ],
            "text/plain": [
              "   REG_YYMM CARD_SIDO_NM        STD_CLSS_NM          AMT\n",
              "0    202004           강원         건강보조식품 소매업   60755538.0\n",
              "1    202004           강원            골프장 운영업  200059455.0\n",
              "2    202004           강원        과실 및 채소 소매업   45172959.0\n",
              "3    202004           강원  관광 민예품 및 선물용품 소매업   23066033.0\n",
              "4    202004           강원    그외 기타 스포츠시설 운영업   20624665.0"
            ]
          },
          "metadata": {
            "tags": []
          },
          "execution_count": 69
        }
      ]
    },
    {
      "cell_type": "code",
      "metadata": {
        "id": "srdRA4D9zTph",
        "colab_type": "code",
        "colab": {
          "base_uri": "https://localhost:8080/",
          "height": 402
        },
        "outputId": "b9ec8451-94dc-47e5-faf4-8932e0d3ee29"
      },
      "source": [
        "sub['AMT'] = temp_lcl['AMT'] + temp_trst['AMT']\n",
        "\n",
        "sub"
      ],
      "execution_count": 63,
      "outputs": [
        {
          "output_type": "execute_result",
          "data": {
            "text/html": [
              "<div>\n",
              "<style scoped>\n",
              "    .dataframe tbody tr th:only-of-type {\n",
              "        vertical-align: middle;\n",
              "    }\n",
              "\n",
              "    .dataframe tbody tr th {\n",
              "        vertical-align: top;\n",
              "    }\n",
              "\n",
              "    .dataframe thead th {\n",
              "        text-align: right;\n",
              "    }\n",
              "</style>\n",
              "<table border=\"1\" class=\"dataframe\">\n",
              "  <thead>\n",
              "    <tr style=\"text-align: right;\">\n",
              "      <th></th>\n",
              "      <th>REG_YYMM</th>\n",
              "      <th>CARD_SIDO_NM</th>\n",
              "      <th>STD_CLSS_NM</th>\n",
              "      <th>AMT</th>\n",
              "    </tr>\n",
              "  </thead>\n",
              "  <tbody>\n",
              "    <tr>\n",
              "      <th>0</th>\n",
              "      <td>202004</td>\n",
              "      <td>강원</td>\n",
              "      <td>건강보조식품 소매업</td>\n",
              "      <td>2.091275e+08</td>\n",
              "    </tr>\n",
              "    <tr>\n",
              "      <th>1</th>\n",
              "      <td>202004</td>\n",
              "      <td>강원</td>\n",
              "      <td>골프장 운영업</td>\n",
              "      <td>4.143765e+08</td>\n",
              "    </tr>\n",
              "    <tr>\n",
              "      <th>2</th>\n",
              "      <td>202004</td>\n",
              "      <td>강원</td>\n",
              "      <td>과실 및 채소 소매업</td>\n",
              "      <td>2.160332e+08</td>\n",
              "    </tr>\n",
              "    <tr>\n",
              "      <th>3</th>\n",
              "      <td>202004</td>\n",
              "      <td>강원</td>\n",
              "      <td>관광 민예품 및 선물용품 소매업</td>\n",
              "      <td>3.080551e+07</td>\n",
              "    </tr>\n",
              "    <tr>\n",
              "      <th>4</th>\n",
              "      <td>202004</td>\n",
              "      <td>강원</td>\n",
              "      <td>그외 기타 스포츠시설 운영업</td>\n",
              "      <td>3.019800e+07</td>\n",
              "    </tr>\n",
              "    <tr>\n",
              "      <th>...</th>\n",
              "      <td>...</td>\n",
              "      <td>...</td>\n",
              "      <td>...</td>\n",
              "      <td>...</td>\n",
              "    </tr>\n",
              "    <tr>\n",
              "      <th>1355</th>\n",
              "      <td>202007</td>\n",
              "      <td>충북</td>\n",
              "      <td>피자 햄버거 샌드위치 및 유사 음식점업</td>\n",
              "      <td>7.890357e+08</td>\n",
              "    </tr>\n",
              "    <tr>\n",
              "      <th>1356</th>\n",
              "      <td>202007</td>\n",
              "      <td>충북</td>\n",
              "      <td>한식 음식점업</td>\n",
              "      <td>7.970505e+09</td>\n",
              "    </tr>\n",
              "    <tr>\n",
              "      <th>1357</th>\n",
              "      <td>202007</td>\n",
              "      <td>충북</td>\n",
              "      <td>호텔업</td>\n",
              "      <td>3.685792e+08</td>\n",
              "    </tr>\n",
              "    <tr>\n",
              "      <th>1358</th>\n",
              "      <td>202007</td>\n",
              "      <td>충북</td>\n",
              "      <td>화장품 및 방향제 소매업</td>\n",
              "      <td>5.244824e+08</td>\n",
              "    </tr>\n",
              "    <tr>\n",
              "      <th>1359</th>\n",
              "      <td>202007</td>\n",
              "      <td>충북</td>\n",
              "      <td>휴양콘도 운영업</td>\n",
              "      <td>2.475311e+08</td>\n",
              "    </tr>\n",
              "  </tbody>\n",
              "</table>\n",
              "<p>1360 rows × 4 columns</p>\n",
              "</div>"
            ],
            "text/plain": [
              "      REG_YYMM CARD_SIDO_NM            STD_CLSS_NM           AMT\n",
              "0       202004           강원             건강보조식품 소매업  2.091275e+08\n",
              "1       202004           강원                골프장 운영업  4.143765e+08\n",
              "2       202004           강원            과실 및 채소 소매업  2.160332e+08\n",
              "3       202004           강원      관광 민예품 및 선물용품 소매업  3.080551e+07\n",
              "4       202004           강원        그외 기타 스포츠시설 운영업  3.019800e+07\n",
              "...        ...          ...                    ...           ...\n",
              "1355    202007           충북  피자 햄버거 샌드위치 및 유사 음식점업  7.890357e+08\n",
              "1356    202007           충북                한식 음식점업  7.970505e+09\n",
              "1357    202007           충북                    호텔업  3.685792e+08\n",
              "1358    202007           충북          화장품 및 방향제 소매업  5.244824e+08\n",
              "1359    202007           충북               휴양콘도 운영업  2.475311e+08\n",
              "\n",
              "[1360 rows x 4 columns]"
            ]
          },
          "metadata": {
            "tags": []
          },
          "execution_count": 63
        }
      ]
    },
    {
      "cell_type": "code",
      "metadata": {
        "id": "BBYiqDV5zaeL",
        "colab_type": "code",
        "colab": {}
      },
      "source": [
        "# Submission 파일 작업 및 내보내기\n",
        "submission = client.query('''\n",
        "  SELECT \n",
        "    * \n",
        "  FROM `jeju-bigquery-282708.jeju_bigdata.submission` \n",
        "  ''').to_dataframe()"
      ],
      "execution_count": 70,
      "outputs": []
    },
    {
      "cell_type": "code",
      "metadata": {
        "id": "RQe98ZUR4G_h",
        "colab_type": "code",
        "colab": {
          "base_uri": "https://localhost:8080/",
          "height": 195
        },
        "outputId": "cb1898ee-2506-4dec-ec4d-ef1953b9510d"
      },
      "source": [
        "submission = submission.drop(['AMT'], axis=1)\n",
        "submission = submission.merge(sub, left_on=['REG_YYMM', 'CARD_SIDO_NM', 'STD_CLSS_NM'], right_on=['REG_YYMM', 'CARD_SIDO_NM', 'STD_CLSS_NM'], how='left')\n",
        "submission['AMT'] = submission['AMT'].fillna(0)\n",
        "\n",
        "submission.head()"
      ],
      "execution_count": 71,
      "outputs": [
        {
          "output_type": "execute_result",
          "data": {
            "text/html": [
              "<div>\n",
              "<style scoped>\n",
              "    .dataframe tbody tr th:only-of-type {\n",
              "        vertical-align: middle;\n",
              "    }\n",
              "\n",
              "    .dataframe tbody tr th {\n",
              "        vertical-align: top;\n",
              "    }\n",
              "\n",
              "    .dataframe thead th {\n",
              "        text-align: right;\n",
              "    }\n",
              "</style>\n",
              "<table border=\"1\" class=\"dataframe\">\n",
              "  <thead>\n",
              "    <tr style=\"text-align: right;\">\n",
              "      <th></th>\n",
              "      <th>id</th>\n",
              "      <th>REG_YYMM</th>\n",
              "      <th>CARD_SIDO_NM</th>\n",
              "      <th>STD_CLSS_NM</th>\n",
              "      <th>AMT</th>\n",
              "    </tr>\n",
              "  </thead>\n",
              "  <tbody>\n",
              "    <tr>\n",
              "      <th>0</th>\n",
              "      <td>0</td>\n",
              "      <td>202004</td>\n",
              "      <td>강원</td>\n",
              "      <td>건강보조식품 소매업</td>\n",
              "      <td>209127542.0</td>\n",
              "    </tr>\n",
              "    <tr>\n",
              "      <th>1</th>\n",
              "      <td>1</td>\n",
              "      <td>202004</td>\n",
              "      <td>강원</td>\n",
              "      <td>골프장 운영업</td>\n",
              "      <td>414376536.0</td>\n",
              "    </tr>\n",
              "    <tr>\n",
              "      <th>2</th>\n",
              "      <td>2</td>\n",
              "      <td>202004</td>\n",
              "      <td>강원</td>\n",
              "      <td>과실 및 채소 소매업</td>\n",
              "      <td>216033235.0</td>\n",
              "    </tr>\n",
              "    <tr>\n",
              "      <th>3</th>\n",
              "      <td>3</td>\n",
              "      <td>202004</td>\n",
              "      <td>강원</td>\n",
              "      <td>관광 민예품 및 선물용품 소매업</td>\n",
              "      <td>30805514.0</td>\n",
              "    </tr>\n",
              "    <tr>\n",
              "      <th>4</th>\n",
              "      <td>4</td>\n",
              "      <td>202004</td>\n",
              "      <td>강원</td>\n",
              "      <td>그외 기타 분류안된 오락관련 서비스업</td>\n",
              "      <td>0.0</td>\n",
              "    </tr>\n",
              "  </tbody>\n",
              "</table>\n",
              "</div>"
            ],
            "text/plain": [
              "   id  REG_YYMM CARD_SIDO_NM           STD_CLSS_NM          AMT\n",
              "0   0    202004           강원            건강보조식품 소매업  209127542.0\n",
              "1   1    202004           강원               골프장 운영업  414376536.0\n",
              "2   2    202004           강원           과실 및 채소 소매업  216033235.0\n",
              "3   3    202004           강원     관광 민예품 및 선물용품 소매업   30805514.0\n",
              "4   4    202004           강원  그외 기타 분류안된 오락관련 서비스업          0.0"
            ]
          },
          "metadata": {
            "tags": []
          },
          "execution_count": 71
        }
      ]
    },
    {
      "cell_type": "code",
      "metadata": {
        "id": "UtU74Hl24Uej",
        "colab_type": "code",
        "colab": {
          "base_uri": "https://localhost:8080/",
          "height": 1000
        },
        "outputId": "51af8c57-1c94-4766-a616-2deab70621da"
      },
      "source": [
        "temp_lcl.head(50)"
      ],
      "execution_count": 73,
      "outputs": [
        {
          "output_type": "execute_result",
          "data": {
            "text/html": [
              "<div>\n",
              "<style scoped>\n",
              "    .dataframe tbody tr th:only-of-type {\n",
              "        vertical-align: middle;\n",
              "    }\n",
              "\n",
              "    .dataframe tbody tr th {\n",
              "        vertical-align: top;\n",
              "    }\n",
              "\n",
              "    .dataframe thead th {\n",
              "        text-align: right;\n",
              "    }\n",
              "</style>\n",
              "<table border=\"1\" class=\"dataframe\">\n",
              "  <thead>\n",
              "    <tr style=\"text-align: right;\">\n",
              "      <th></th>\n",
              "      <th>REG_YYMM</th>\n",
              "      <th>CARD_SIDO_NM</th>\n",
              "      <th>STD_CLSS_NM</th>\n",
              "      <th>AMT</th>\n",
              "    </tr>\n",
              "  </thead>\n",
              "  <tbody>\n",
              "    <tr>\n",
              "      <th>0</th>\n",
              "      <td>202004</td>\n",
              "      <td>강원</td>\n",
              "      <td>건강보조식품 소매업</td>\n",
              "      <td>1.483720e+08</td>\n",
              "    </tr>\n",
              "    <tr>\n",
              "      <th>1</th>\n",
              "      <td>202004</td>\n",
              "      <td>강원</td>\n",
              "      <td>골프장 운영업</td>\n",
              "      <td>2.143171e+08</td>\n",
              "    </tr>\n",
              "    <tr>\n",
              "      <th>2</th>\n",
              "      <td>202004</td>\n",
              "      <td>강원</td>\n",
              "      <td>과실 및 채소 소매업</td>\n",
              "      <td>1.708603e+08</td>\n",
              "    </tr>\n",
              "    <tr>\n",
              "      <th>3</th>\n",
              "      <td>202004</td>\n",
              "      <td>강원</td>\n",
              "      <td>관광 민예품 및 선물용품 소매업</td>\n",
              "      <td>7.739481e+06</td>\n",
              "    </tr>\n",
              "    <tr>\n",
              "      <th>4</th>\n",
              "      <td>202004</td>\n",
              "      <td>강원</td>\n",
              "      <td>그외 기타 스포츠시설 운영업</td>\n",
              "      <td>9.573331e+06</td>\n",
              "    </tr>\n",
              "    <tr>\n",
              "      <th>5</th>\n",
              "      <td>202004</td>\n",
              "      <td>강원</td>\n",
              "      <td>그외 기타 종합 소매업</td>\n",
              "      <td>1.019621e+08</td>\n",
              "    </tr>\n",
              "    <tr>\n",
              "      <th>6</th>\n",
              "      <td>202004</td>\n",
              "      <td>강원</td>\n",
              "      <td>기타 대형 종합 소매업</td>\n",
              "      <td>7.958741e+08</td>\n",
              "    </tr>\n",
              "    <tr>\n",
              "      <th>7</th>\n",
              "      <td>202004</td>\n",
              "      <td>강원</td>\n",
              "      <td>기타 수상오락 서비스업</td>\n",
              "      <td>2.377913e+07</td>\n",
              "    </tr>\n",
              "    <tr>\n",
              "      <th>8</th>\n",
              "      <td>202004</td>\n",
              "      <td>강원</td>\n",
              "      <td>기타 외국식 음식점업</td>\n",
              "      <td>3.044751e+08</td>\n",
              "    </tr>\n",
              "    <tr>\n",
              "      <th>9</th>\n",
              "      <td>202004</td>\n",
              "      <td>강원</td>\n",
              "      <td>기타 주점업</td>\n",
              "      <td>1.589767e+08</td>\n",
              "    </tr>\n",
              "    <tr>\n",
              "      <th>10</th>\n",
              "      <td>202004</td>\n",
              "      <td>강원</td>\n",
              "      <td>기타음식료품위주종합소매업</td>\n",
              "      <td>1.015172e+09</td>\n",
              "    </tr>\n",
              "    <tr>\n",
              "      <th>11</th>\n",
              "      <td>202004</td>\n",
              "      <td>강원</td>\n",
              "      <td>내항 여객 운송업</td>\n",
              "      <td>6.198983e+07</td>\n",
              "    </tr>\n",
              "    <tr>\n",
              "      <th>12</th>\n",
              "      <td>202004</td>\n",
              "      <td>강원</td>\n",
              "      <td>마사지업</td>\n",
              "      <td>4.738622e+07</td>\n",
              "    </tr>\n",
              "    <tr>\n",
              "      <th>13</th>\n",
              "      <td>202004</td>\n",
              "      <td>강원</td>\n",
              "      <td>면세점</td>\n",
              "      <td>1.614057e+08</td>\n",
              "    </tr>\n",
              "    <tr>\n",
              "      <th>14</th>\n",
              "      <td>202004</td>\n",
              "      <td>강원</td>\n",
              "      <td>버스 운송업</td>\n",
              "      <td>5.671446e+07</td>\n",
              "    </tr>\n",
              "    <tr>\n",
              "      <th>15</th>\n",
              "      <td>202004</td>\n",
              "      <td>강원</td>\n",
              "      <td>비알콜 음료점업</td>\n",
              "      <td>1.176587e+08</td>\n",
              "    </tr>\n",
              "    <tr>\n",
              "      <th>16</th>\n",
              "      <td>202004</td>\n",
              "      <td>강원</td>\n",
              "      <td>빵 및 과자류 소매업</td>\n",
              "      <td>1.888713e+08</td>\n",
              "    </tr>\n",
              "    <tr>\n",
              "      <th>17</th>\n",
              "      <td>202004</td>\n",
              "      <td>강원</td>\n",
              "      <td>서양식 음식점업</td>\n",
              "      <td>2.011129e+08</td>\n",
              "    </tr>\n",
              "    <tr>\n",
              "      <th>18</th>\n",
              "      <td>202004</td>\n",
              "      <td>강원</td>\n",
              "      <td>수산물 소매업</td>\n",
              "      <td>4.589842e+07</td>\n",
              "    </tr>\n",
              "    <tr>\n",
              "      <th>19</th>\n",
              "      <td>202004</td>\n",
              "      <td>강원</td>\n",
              "      <td>슈퍼마켓</td>\n",
              "      <td>1.880125e+09</td>\n",
              "    </tr>\n",
              "    <tr>\n",
              "      <th>20</th>\n",
              "      <td>202004</td>\n",
              "      <td>강원</td>\n",
              "      <td>스포츠 및 레크레이션 용품 임대업</td>\n",
              "      <td>3.734040e+08</td>\n",
              "    </tr>\n",
              "    <tr>\n",
              "      <th>21</th>\n",
              "      <td>202004</td>\n",
              "      <td>강원</td>\n",
              "      <td>여관업</td>\n",
              "      <td>7.609706e+07</td>\n",
              "    </tr>\n",
              "    <tr>\n",
              "      <th>22</th>\n",
              "      <td>202004</td>\n",
              "      <td>강원</td>\n",
              "      <td>여행사업</td>\n",
              "      <td>4.332088e+07</td>\n",
              "    </tr>\n",
              "    <tr>\n",
              "      <th>23</th>\n",
              "      <td>202004</td>\n",
              "      <td>강원</td>\n",
              "      <td>욕탕업</td>\n",
              "      <td>7.344106e+07</td>\n",
              "    </tr>\n",
              "    <tr>\n",
              "      <th>24</th>\n",
              "      <td>202004</td>\n",
              "      <td>강원</td>\n",
              "      <td>육류 소매업</td>\n",
              "      <td>5.616042e+08</td>\n",
              "    </tr>\n",
              "    <tr>\n",
              "      <th>25</th>\n",
              "      <td>202004</td>\n",
              "      <td>강원</td>\n",
              "      <td>일반유흥 주점업</td>\n",
              "      <td>3.491262e+08</td>\n",
              "    </tr>\n",
              "    <tr>\n",
              "      <th>26</th>\n",
              "      <td>202004</td>\n",
              "      <td>강원</td>\n",
              "      <td>일식 음식점업</td>\n",
              "      <td>3.851571e+08</td>\n",
              "    </tr>\n",
              "    <tr>\n",
              "      <th>27</th>\n",
              "      <td>202004</td>\n",
              "      <td>강원</td>\n",
              "      <td>자동차 임대업</td>\n",
              "      <td>3.115580e+07</td>\n",
              "    </tr>\n",
              "    <tr>\n",
              "      <th>28</th>\n",
              "      <td>202004</td>\n",
              "      <td>강원</td>\n",
              "      <td>전시 및 행사 대행업</td>\n",
              "      <td>3.066258e+07</td>\n",
              "    </tr>\n",
              "    <tr>\n",
              "      <th>29</th>\n",
              "      <td>202004</td>\n",
              "      <td>강원</td>\n",
              "      <td>정기 항공 운송업</td>\n",
              "      <td>2.442159e+08</td>\n",
              "    </tr>\n",
              "    <tr>\n",
              "      <th>30</th>\n",
              "      <td>202004</td>\n",
              "      <td>강원</td>\n",
              "      <td>중식 음식점업</td>\n",
              "      <td>4.671152e+08</td>\n",
              "    </tr>\n",
              "    <tr>\n",
              "      <th>31</th>\n",
              "      <td>202004</td>\n",
              "      <td>강원</td>\n",
              "      <td>차량용 가스 충전업</td>\n",
              "      <td>1.728402e+08</td>\n",
              "    </tr>\n",
              "    <tr>\n",
              "      <th>32</th>\n",
              "      <td>202004</td>\n",
              "      <td>강원</td>\n",
              "      <td>차량용 주유소 운영업</td>\n",
              "      <td>2.633084e+09</td>\n",
              "    </tr>\n",
              "    <tr>\n",
              "      <th>33</th>\n",
              "      <td>202004</td>\n",
              "      <td>강원</td>\n",
              "      <td>체인화 편의점</td>\n",
              "      <td>1.368054e+09</td>\n",
              "    </tr>\n",
              "    <tr>\n",
              "      <th>34</th>\n",
              "      <td>202004</td>\n",
              "      <td>강원</td>\n",
              "      <td>택시 운송업</td>\n",
              "      <td>3.961326e+07</td>\n",
              "    </tr>\n",
              "    <tr>\n",
              "      <th>35</th>\n",
              "      <td>202004</td>\n",
              "      <td>강원</td>\n",
              "      <td>피자 햄버거 샌드위치 및 유사 음식점업</td>\n",
              "      <td>3.105767e+08</td>\n",
              "    </tr>\n",
              "    <tr>\n",
              "      <th>36</th>\n",
              "      <td>202004</td>\n",
              "      <td>강원</td>\n",
              "      <td>한식 음식점업</td>\n",
              "      <td>2.269232e+09</td>\n",
              "    </tr>\n",
              "    <tr>\n",
              "      <th>37</th>\n",
              "      <td>202004</td>\n",
              "      <td>강원</td>\n",
              "      <td>호텔업</td>\n",
              "      <td>9.451619e+07</td>\n",
              "    </tr>\n",
              "    <tr>\n",
              "      <th>38</th>\n",
              "      <td>202004</td>\n",
              "      <td>강원</td>\n",
              "      <td>화장품 및 방향제 소매업</td>\n",
              "      <td>1.639663e+08</td>\n",
              "    </tr>\n",
              "    <tr>\n",
              "      <th>39</th>\n",
              "      <td>202004</td>\n",
              "      <td>강원</td>\n",
              "      <td>휴양콘도 운영업</td>\n",
              "      <td>3.035728e+07</td>\n",
              "    </tr>\n",
              "    <tr>\n",
              "      <th>40</th>\n",
              "      <td>202004</td>\n",
              "      <td>경기</td>\n",
              "      <td>건강보조식품 소매업</td>\n",
              "      <td>2.882906e+08</td>\n",
              "    </tr>\n",
              "    <tr>\n",
              "      <th>41</th>\n",
              "      <td>202004</td>\n",
              "      <td>경기</td>\n",
              "      <td>골프장 운영업</td>\n",
              "      <td>3.799624e+08</td>\n",
              "    </tr>\n",
              "    <tr>\n",
              "      <th>42</th>\n",
              "      <td>202004</td>\n",
              "      <td>경기</td>\n",
              "      <td>과실 및 채소 소매업</td>\n",
              "      <td>7.249685e+08</td>\n",
              "    </tr>\n",
              "    <tr>\n",
              "      <th>43</th>\n",
              "      <td>202004</td>\n",
              "      <td>경기</td>\n",
              "      <td>관광 민예품 및 선물용품 소매업</td>\n",
              "      <td>2.767112e+07</td>\n",
              "    </tr>\n",
              "    <tr>\n",
              "      <th>44</th>\n",
              "      <td>202004</td>\n",
              "      <td>경기</td>\n",
              "      <td>그외 기타 스포츠시설 운영업</td>\n",
              "      <td>3.411960e+07</td>\n",
              "    </tr>\n",
              "    <tr>\n",
              "      <th>45</th>\n",
              "      <td>202004</td>\n",
              "      <td>경기</td>\n",
              "      <td>그외 기타 종합 소매업</td>\n",
              "      <td>4.090036e+08</td>\n",
              "    </tr>\n",
              "    <tr>\n",
              "      <th>46</th>\n",
              "      <td>202004</td>\n",
              "      <td>경기</td>\n",
              "      <td>기타 대형 종합 소매업</td>\n",
              "      <td>6.611702e+09</td>\n",
              "    </tr>\n",
              "    <tr>\n",
              "      <th>47</th>\n",
              "      <td>202004</td>\n",
              "      <td>경기</td>\n",
              "      <td>기타 수상오락 서비스업</td>\n",
              "      <td>8.567775e+07</td>\n",
              "    </tr>\n",
              "    <tr>\n",
              "      <th>48</th>\n",
              "      <td>202004</td>\n",
              "      <td>경기</td>\n",
              "      <td>기타 외국식 음식점업</td>\n",
              "      <td>1.023876e+09</td>\n",
              "    </tr>\n",
              "    <tr>\n",
              "      <th>49</th>\n",
              "      <td>202004</td>\n",
              "      <td>경기</td>\n",
              "      <td>기타 주점업</td>\n",
              "      <td>3.693249e+08</td>\n",
              "    </tr>\n",
              "  </tbody>\n",
              "</table>\n",
              "</div>"
            ],
            "text/plain": [
              "    REG_YYMM CARD_SIDO_NM            STD_CLSS_NM           AMT\n",
              "0     202004           강원             건강보조식품 소매업  1.483720e+08\n",
              "1     202004           강원                골프장 운영업  2.143171e+08\n",
              "2     202004           강원            과실 및 채소 소매업  1.708603e+08\n",
              "3     202004           강원      관광 민예품 및 선물용품 소매업  7.739481e+06\n",
              "4     202004           강원        그외 기타 스포츠시설 운영업  9.573331e+06\n",
              "5     202004           강원           그외 기타 종합 소매업  1.019621e+08\n",
              "6     202004           강원           기타 대형 종합 소매업  7.958741e+08\n",
              "7     202004           강원           기타 수상오락 서비스업  2.377913e+07\n",
              "8     202004           강원            기타 외국식 음식점업  3.044751e+08\n",
              "9     202004           강원                 기타 주점업  1.589767e+08\n",
              "10    202004           강원          기타음식료품위주종합소매업  1.015172e+09\n",
              "11    202004           강원              내항 여객 운송업  6.198983e+07\n",
              "12    202004           강원                   마사지업  4.738622e+07\n",
              "13    202004           강원                    면세점  1.614057e+08\n",
              "14    202004           강원                 버스 운송업  5.671446e+07\n",
              "15    202004           강원               비알콜 음료점업  1.176587e+08\n",
              "16    202004           강원            빵 및 과자류 소매업  1.888713e+08\n",
              "17    202004           강원               서양식 음식점업  2.011129e+08\n",
              "18    202004           강원                수산물 소매업  4.589842e+07\n",
              "19    202004           강원                   슈퍼마켓  1.880125e+09\n",
              "20    202004           강원     스포츠 및 레크레이션 용품 임대업  3.734040e+08\n",
              "21    202004           강원                    여관업  7.609706e+07\n",
              "22    202004           강원                   여행사업  4.332088e+07\n",
              "23    202004           강원                    욕탕업  7.344106e+07\n",
              "24    202004           강원                 육류 소매업  5.616042e+08\n",
              "25    202004           강원               일반유흥 주점업  3.491262e+08\n",
              "26    202004           강원                일식 음식점업  3.851571e+08\n",
              "27    202004           강원                자동차 임대업  3.115580e+07\n",
              "28    202004           강원            전시 및 행사 대행업  3.066258e+07\n",
              "29    202004           강원              정기 항공 운송업  2.442159e+08\n",
              "30    202004           강원                중식 음식점업  4.671152e+08\n",
              "31    202004           강원             차량용 가스 충전업  1.728402e+08\n",
              "32    202004           강원            차량용 주유소 운영업  2.633084e+09\n",
              "33    202004           강원                체인화 편의점  1.368054e+09\n",
              "34    202004           강원                 택시 운송업  3.961326e+07\n",
              "35    202004           강원  피자 햄버거 샌드위치 및 유사 음식점업  3.105767e+08\n",
              "36    202004           강원                한식 음식점업  2.269232e+09\n",
              "37    202004           강원                    호텔업  9.451619e+07\n",
              "38    202004           강원          화장품 및 방향제 소매업  1.639663e+08\n",
              "39    202004           강원               휴양콘도 운영업  3.035728e+07\n",
              "40    202004           경기             건강보조식품 소매업  2.882906e+08\n",
              "41    202004           경기                골프장 운영업  3.799624e+08\n",
              "42    202004           경기            과실 및 채소 소매업  7.249685e+08\n",
              "43    202004           경기      관광 민예품 및 선물용품 소매업  2.767112e+07\n",
              "44    202004           경기        그외 기타 스포츠시설 운영업  3.411960e+07\n",
              "45    202004           경기           그외 기타 종합 소매업  4.090036e+08\n",
              "46    202004           경기           기타 대형 종합 소매업  6.611702e+09\n",
              "47    202004           경기           기타 수상오락 서비스업  8.567775e+07\n",
              "48    202004           경기            기타 외국식 음식점업  1.023876e+09\n",
              "49    202004           경기                 기타 주점업  3.693249e+08"
            ]
          },
          "metadata": {
            "tags": []
          },
          "execution_count": 73
        }
      ]
    },
    {
      "cell_type": "code",
      "metadata": {
        "id": "1_Tlw2534Mrc",
        "colab_type": "code",
        "colab": {
          "base_uri": "https://localhost:8080/",
          "height": 195
        },
        "outputId": "0a65df01-e3c5-4343-85db-1efcd62685cb"
      },
      "source": [
        "submission.head()"
      ],
      "execution_count": 76,
      "outputs": [
        {
          "output_type": "execute_result",
          "data": {
            "text/html": [
              "<div>\n",
              "<style scoped>\n",
              "    .dataframe tbody tr th:only-of-type {\n",
              "        vertical-align: middle;\n",
              "    }\n",
              "\n",
              "    .dataframe tbody tr th {\n",
              "        vertical-align: top;\n",
              "    }\n",
              "\n",
              "    .dataframe thead th {\n",
              "        text-align: right;\n",
              "    }\n",
              "</style>\n",
              "<table border=\"1\" class=\"dataframe\">\n",
              "  <thead>\n",
              "    <tr style=\"text-align: right;\">\n",
              "      <th></th>\n",
              "      <th>id</th>\n",
              "      <th>REG_YYMM</th>\n",
              "      <th>CARD_SIDO_NM</th>\n",
              "      <th>STD_CLSS_NM</th>\n",
              "      <th>AMT</th>\n",
              "    </tr>\n",
              "  </thead>\n",
              "  <tbody>\n",
              "    <tr>\n",
              "      <th>0</th>\n",
              "      <td>0</td>\n",
              "      <td>202004</td>\n",
              "      <td>강원</td>\n",
              "      <td>건강보조식품 소매업</td>\n",
              "      <td>209127542.0</td>\n",
              "    </tr>\n",
              "    <tr>\n",
              "      <th>1</th>\n",
              "      <td>1</td>\n",
              "      <td>202004</td>\n",
              "      <td>강원</td>\n",
              "      <td>골프장 운영업</td>\n",
              "      <td>414376536.0</td>\n",
              "    </tr>\n",
              "    <tr>\n",
              "      <th>2</th>\n",
              "      <td>2</td>\n",
              "      <td>202004</td>\n",
              "      <td>강원</td>\n",
              "      <td>과실 및 채소 소매업</td>\n",
              "      <td>216033235.0</td>\n",
              "    </tr>\n",
              "    <tr>\n",
              "      <th>3</th>\n",
              "      <td>3</td>\n",
              "      <td>202004</td>\n",
              "      <td>강원</td>\n",
              "      <td>관광 민예품 및 선물용품 소매업</td>\n",
              "      <td>30805514.0</td>\n",
              "    </tr>\n",
              "    <tr>\n",
              "      <th>4</th>\n",
              "      <td>4</td>\n",
              "      <td>202004</td>\n",
              "      <td>강원</td>\n",
              "      <td>그외 기타 분류안된 오락관련 서비스업</td>\n",
              "      <td>0.0</td>\n",
              "    </tr>\n",
              "  </tbody>\n",
              "</table>\n",
              "</div>"
            ],
            "text/plain": [
              "   id  REG_YYMM CARD_SIDO_NM           STD_CLSS_NM          AMT\n",
              "0   0    202004           강원            건강보조식품 소매업  209127542.0\n",
              "1   1    202004           강원               골프장 운영업  414376536.0\n",
              "2   2    202004           강원           과실 및 채소 소매업  216033235.0\n",
              "3   3    202004           강원     관광 민예품 및 선물용품 소매업   30805514.0\n",
              "4   4    202004           강원  그외 기타 분류안된 오락관련 서비스업          0.0"
            ]
          },
          "metadata": {
            "tags": []
          },
          "execution_count": 76
        }
      ]
    },
    {
      "cell_type": "code",
      "metadata": {
        "id": "1gE1XxtW4TFb",
        "colab_type": "code",
        "colab": {}
      },
      "source": [
        "submission.to_csv('/content/drive/My Drive/Colab Notebooks/jeju/submission10.csv', encoding='utf-8-sig', index=False)"
      ],
      "execution_count": 77,
      "outputs": []
    }
  ]
}