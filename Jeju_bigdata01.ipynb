{
  "nbformat": 4,
  "nbformat_minor": 0,
  "metadata": {
    "colab": {
      "name": "Jeju_bigdata01.ipynb",
      "provenance": [],
      "authorship_tag": "ABX9TyNTt79RH5A7tj0FTTFg+NsW",
      "include_colab_link": true
    },
    "kernelspec": {
      "name": "python3",
      "display_name": "Python 3"
    }
  },
  "cells": [
    {
      "cell_type": "markdown",
      "metadata": {
        "id": "view-in-github",
        "colab_type": "text"
      },
      "source": [
        "<a href=\"https://colab.research.google.com/github/runnin123/Jeju_Bigdata/blob/master/Jeju_bigdata01.ipynb\" target=\"_parent\"><img src=\"https://colab.research.google.com/assets/colab-badge.svg\" alt=\"Open In Colab\"/></a>"
      ]
    },
    {
      "cell_type": "markdown",
      "metadata": {
        "id": "XYl5YRUOq3Ca",
        "colab_type": "text"
      },
      "source": [
        "###Google Colab 마운트"
      ]
    },
    {
      "cell_type": "code",
      "metadata": {
        "id": "vDeosUGUaJzx",
        "colab_type": "code",
        "colab": {
          "base_uri": "https://localhost:8080/",
          "height": 125
        },
        "outputId": "29043dfb-1f05-4798-c371-27ae730b09d1"
      },
      "source": [
        "from google.colab import drive\n",
        "ROOT = '/content/drive'\n",
        "drive.mount(ROOT)"
      ],
      "execution_count": 1,
      "outputs": [
        {
          "output_type": "stream",
          "text": [
            "Go to this URL in a browser: https://accounts.google.com/o/oauth2/auth?client_id=947318989803-6bn6qk8qdgf4n4g3pfee6491hc0brc4i.apps.googleusercontent.com&redirect_uri=urn%3aietf%3awg%3aoauth%3a2.0%3aoob&response_type=code&scope=email%20https%3a%2f%2fwww.googleapis.com%2fauth%2fdocs.test%20https%3a%2f%2fwww.googleapis.com%2fauth%2fdrive%20https%3a%2f%2fwww.googleapis.com%2fauth%2fdrive.photos.readonly%20https%3a%2f%2fwww.googleapis.com%2fauth%2fpeopleapi.readonly\n",
            "\n",
            "Enter your authorization code:\n",
            "··········\n",
            "Mounted at /content/drive\n"
          ],
          "name": "stdout"
        }
      ]
    },
    {
      "cell_type": "code",
      "metadata": {
        "id": "tbqrOf4faLUv",
        "colab_type": "code",
        "colab": {
          "base_uri": "https://localhost:8080/",
          "height": 34
        },
        "outputId": "e64c5252-279f-4a89-aeb6-54b3cd0b25a8"
      },
      "source": [
        "# 프로젝트 폴더(jeju) 연결\n",
        "from os.path import join  \n",
        "\n",
        "MY_GOOGLE_DRIVE_PATH = 'My Drive/Colab Notebooks/jeju'\n",
        "PROJECT_PATH = join(ROOT, MY_GOOGLE_DRIVE_PATH)\n",
        "print(PROJECT_PATH)"
      ],
      "execution_count": 2,
      "outputs": [
        {
          "output_type": "stream",
          "text": [
            "/content/drive/My Drive/Colab Notebooks/jeju\n"
          ],
          "name": "stdout"
        }
      ]
    },
    {
      "cell_type": "markdown",
      "metadata": {
        "id": "vVmU_meuq88e",
        "colab_type": "text"
      },
      "source": [
        "###빅쿼리에 파일 업로드"
      ]
    },
    {
      "cell_type": "code",
      "metadata": {
        "id": "aWHVfpdxaQQV",
        "colab_type": "code",
        "colab": {
          "base_uri": "https://localhost:8080/",
          "height": 34
        },
        "outputId": "2f1cece5-7f60-4e9b-c7e2-a72be8943665"
      },
      "source": [
        "# pandas, gbq 임포트\n",
        "import pandas as pd\n",
        "from pandas.io import gbq\n",
        "\n",
        "# submission 파일 불러오기\n",
        "submission = pd.read_csv('/content/drive/My Drive/Colab Notebooks/jeju/submission.csv')\n",
        "\n",
        "# 빅쿼리에 파일(submission.csv) 업로드\n",
        "submission.to_gbq(destination_table='jeju_bigdata.submission', \n",
        "                  project_id='jeju-bigquery-282708',\n",
        "                  if_exists = 'replace')"
      ],
      "execution_count": 5,
      "outputs": [
        {
          "output_type": "stream",
          "text": [
            "1it [00:03,  3.84s/it]\n"
          ],
          "name": "stderr"
        }
      ]
    },
    {
      "cell_type": "code",
      "metadata": {
        "id": "sVJXr47ydONA",
        "colab_type": "code",
        "colab": {
          "base_uri": "https://localhost:8080/",
          "height": 34
        },
        "outputId": "aa3391c1-9002-43cf-a4ac-df602b38b8f0"
      },
      "source": [
        "# train 파일 불러오기\n",
        "train = pd.read_csv('/content/drive/My Drive/Colab Notebooks/jeju/201901-202003.csv')\n",
        "\n",
        "# 빅쿼리에 파일(201901-202003.csv) 업로드\n",
        "train.to_gbq(destination_table = 'jeju_bigdata.201901_202003_train',\n",
        "             project_id = 'jeju-bigquery-282708',\n",
        "             if_exists = 'replace')"
      ],
      "execution_count": 7,
      "outputs": [
        {
          "output_type": "stream",
          "text": [
            "1it [09:35, 575.50s/it]\n"
          ],
          "name": "stderr"
        }
      ]
    },
    {
      "cell_type": "code",
      "metadata": {
        "id": "d309jpr9nTgu",
        "colab_type": "code",
        "colab": {}
      },
      "source": [
        ""
      ],
      "execution_count": null,
      "outputs": []
    }
  ]
}