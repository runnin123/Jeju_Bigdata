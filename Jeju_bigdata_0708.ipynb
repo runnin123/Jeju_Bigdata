{
  "nbformat": 4,
  "nbformat_minor": 0,
  "metadata": {
    "colab": {
      "name": "Jeju_bigdata_0708.ipynb",
      "provenance": [],
      "machine_shape": "hm",
      "mount_file_id": "18Ydp0YdqqRo2980eJQs2xNw_SmtuwFsk",
      "authorship_tag": "ABX9TyN60q00h5z1H7KmN/XEWovY",
      "include_colab_link": true
    },
    "kernelspec": {
      "name": "python3",
      "display_name": "Python 3"
    },
    "accelerator": "GPU"
  },
  "cells": [
    {
      "cell_type": "markdown",
      "metadata": {
        "id": "view-in-github",
        "colab_type": "text"
      },
      "source": [
        "<a href=\"https://colab.research.google.com/github/runnin123/Jeju_Bigdata/blob/master/Jeju_bigdata_0708.ipynb\" target=\"_parent\"><img src=\"https://colab.research.google.com/assets/colab-badge.svg\" alt=\"Open In Colab\"/></a>"
      ]
    },
    {
      "cell_type": "code",
      "metadata": {
        "id": "tCBMNqr5kvIo",
        "colab_type": "code",
        "colab": {
          "base_uri": "https://localhost:8080/",
          "height": 34
        },
        "outputId": "b59c6c09-0cc1-4811-b882-2b45fb682d47"
      },
      "source": [
        "from google.colab import auth\n",
        "auth.authenticate_user()\n",
        "print('Authenticated')"
      ],
      "execution_count": null,
      "outputs": [
        {
          "output_type": "stream",
          "text": [
            "Authenticated\n"
          ],
          "name": "stdout"
        }
      ]
    },
    {
      "cell_type": "code",
      "metadata": {
        "id": "_xB2omizk5Rk",
        "colab_type": "code",
        "colab": {}
      },
      "source": [
        "from google.cloud import bigquery\n",
        "from tabulate import tabulate\n",
        "import pandas as pd\n",
        "\n",
        "project_id = 'jeju-bigquery-282708'\n",
        "client = bigquery.Client(project=project_id)\n",
        "\n",
        "train = client.query('''\n",
        "  SELECT \n",
        "      * \n",
        "  FROM `jeju-bigquery-282708.jeju_bigdata.201901_202003_train` \n",
        "  WHERE RAND() < 1000 / (SELECT COUNT(*) FROM `jeju-bigquery-282708.jeju_bigdata.201901_202003_train`)\n",
        "  ''').to_dataframe()"
      ],
      "execution_count": null,
      "outputs": []
    },
    {
      "cell_type": "code",
      "metadata": {
        "id": "pYUuI1aKlKby",
        "colab_type": "code",
        "colab": {}
      },
      "source": [
        "import pandas as pd\n",
        "import numpy as np\n",
        "import sklearn\n",
        "from sklearn.ensemble import GradientBoostingRegressor\n",
        "from sklearn.preprocessing import LabelEncoder\n",
        "\n",
        "# 03 Chapter에서 추가\n",
        "# 평가 메트릭\n",
        "from sklearn.metrics import mean_squared_error, mean_absolute_error\n",
        "\n",
        "# 시각화\n",
        "import seaborn as sns\n",
        "color = sns.color_palette()\n",
        "sns.set_style('darkgrid')\n",
        "%matplotlib inline\n",
        "import matplotlib\n",
        "import matplotlib.pyplot as plt  # Matlab-style plotting\n",
        "\n",
        "# 통계\n",
        "from scipy import stats\n",
        "from scipy.stats import norm, skew #for some statistics\n",
        "\n",
        "# 06 Chapter 추가\n",
        "from sklearn.base import BaseEstimator, TransformerMixin, RegressorMixin, clone\n",
        "from sklearn.model_selection import KFold, cross_val_score, train_test_split, GridSearchCV\n",
        "from sklearn.metrics import mean_squared_error"
      ],
      "execution_count": null,
      "outputs": []
    },
    {
      "cell_type": "code",
      "metadata": {
        "id": "QzAMtZ6OlP0H",
        "colab_type": "code",
        "colab": {
          "base_uri": "https://localhost:8080/",
          "height": 122
        },
        "outputId": "92ff0c50-e061-4809-a294-a8851537038e"
      },
      "source": [
        "print('Pandas : %s'%(pd.__version__))\n",
        "print('Numpy : %s'%(np.__version__))\n",
        "print('Scikit-Learn : %s'%(sklearn.__version__))\n",
        "print('seaborn : %s'%(sns.__version__))\n",
        "print('matplotlib : %s'%(matplotlib.__version__))\n",
        "!python --version"
      ],
      "execution_count": null,
      "outputs": [
        {
          "output_type": "stream",
          "text": [
            "Pandas : 1.0.5\n",
            "Numpy : 1.18.5\n",
            "Scikit-Learn : 0.22.2.post1\n",
            "seaborn : 0.10.1\n",
            "matplotlib : 3.2.2\n",
            "Python 3.6.9\n"
          ],
          "name": "stdout"
        }
      ]
    },
    {
      "cell_type": "code",
      "metadata": {
        "id": "M57U_XFdlRC6",
        "colab_type": "code",
        "colab": {}
      },
      "source": [
        "def grap_year(data):\n",
        "    data = str(data)\n",
        "    return int(data[:4])\n",
        "\n",
        "def grap_month(data):\n",
        "    data = str(data)\n",
        "    return int(data[4:])"
      ],
      "execution_count": null,
      "outputs": []
    },
    {
      "cell_type": "code",
      "metadata": {
        "id": "fV8ZMHMYlSEI",
        "colab_type": "code",
        "colab": {
          "base_uri": "https://localhost:8080/",
          "height": 122
        },
        "outputId": "664e59c1-52f2-4900-98f8-d7b83d402cb0"
      },
      "source": [
        "# 날짜 처리\n",
        "data = train.copy()\n",
        "data = data.fillna('')\n",
        "print(data['REG_YYMM'].head())"
      ],
      "execution_count": null,
      "outputs": [
        {
          "output_type": "stream",
          "text": [
            "0    202003\n",
            "1    201903\n",
            "2    201905\n",
            "3    201906\n",
            "4    202003\n",
            "Name: REG_YYMM, dtype: int64\n"
          ],
          "name": "stdout"
        }
      ]
    },
    {
      "cell_type": "code",
      "metadata": {
        "id": "XKSzk5KelS4k",
        "colab_type": "code",
        "colab": {
          "base_uri": "https://localhost:8080/",
          "height": 316
        },
        "outputId": "4a1e0b3e-0c62-4cfd-b778-4de595095ea8"
      },
      "source": [
        "data['year'] = data['REG_YYMM'].apply(lambda x: grap_year(x))\n",
        "data['month'] = data['REG_YYMM'].apply(lambda x: grap_month(x))\n",
        "data = data.drop(['REG_YYMM'], axis=1)\n",
        "data.head()"
      ],
      "execution_count": null,
      "outputs": [
        {
          "output_type": "execute_result",
          "data": {
            "text/html": [
              "<div>\n",
              "<style scoped>\n",
              "    .dataframe tbody tr th:only-of-type {\n",
              "        vertical-align: middle;\n",
              "    }\n",
              "\n",
              "    .dataframe tbody tr th {\n",
              "        vertical-align: top;\n",
              "    }\n",
              "\n",
              "    .dataframe thead th {\n",
              "        text-align: right;\n",
              "    }\n",
              "</style>\n",
              "<table border=\"1\" class=\"dataframe\">\n",
              "  <thead>\n",
              "    <tr style=\"text-align: right;\">\n",
              "      <th></th>\n",
              "      <th>CARD_SIDO_NM</th>\n",
              "      <th>CARD_CCG_NM</th>\n",
              "      <th>STD_CLSS_NM</th>\n",
              "      <th>HOM_SIDO_NM</th>\n",
              "      <th>HOM_CCG_NM</th>\n",
              "      <th>AGE</th>\n",
              "      <th>SEX_CTGO_CD</th>\n",
              "      <th>FLC</th>\n",
              "      <th>CSTMR_CNT</th>\n",
              "      <th>AMT</th>\n",
              "      <th>CNT</th>\n",
              "      <th>year</th>\n",
              "      <th>month</th>\n",
              "    </tr>\n",
              "  </thead>\n",
              "  <tbody>\n",
              "    <tr>\n",
              "      <th>0</th>\n",
              "      <td>경기</td>\n",
              "      <td>시흥시</td>\n",
              "      <td>한식 음식점업</td>\n",
              "      <td>강원</td>\n",
              "      <td>영월군</td>\n",
              "      <td>20s</td>\n",
              "      <td>1</td>\n",
              "      <td>1</td>\n",
              "      <td>5</td>\n",
              "      <td>360600</td>\n",
              "      <td>12</td>\n",
              "      <td>2020</td>\n",
              "      <td>3</td>\n",
              "    </tr>\n",
              "    <tr>\n",
              "      <th>1</th>\n",
              "      <td>경북</td>\n",
              "      <td>영주시</td>\n",
              "      <td>기타음식료품위주종합소매업</td>\n",
              "      <td>강원</td>\n",
              "      <td>강릉시</td>\n",
              "      <td>50s</td>\n",
              "      <td>1</td>\n",
              "      <td>4</td>\n",
              "      <td>3</td>\n",
              "      <td>116200</td>\n",
              "      <td>5</td>\n",
              "      <td>2019</td>\n",
              "      <td>3</td>\n",
              "    </tr>\n",
              "    <tr>\n",
              "      <th>2</th>\n",
              "      <td>경기</td>\n",
              "      <td>안성시</td>\n",
              "      <td>기타음식료품위주종합소매업</td>\n",
              "      <td>강원</td>\n",
              "      <td>춘천시</td>\n",
              "      <td>60s</td>\n",
              "      <td>1</td>\n",
              "      <td>5</td>\n",
              "      <td>3</td>\n",
              "      <td>492200</td>\n",
              "      <td>4</td>\n",
              "      <td>2019</td>\n",
              "      <td>5</td>\n",
              "    </tr>\n",
              "    <tr>\n",
              "      <th>3</th>\n",
              "      <td>강원</td>\n",
              "      <td>고성군</td>\n",
              "      <td>기타 외국식 음식점업</td>\n",
              "      <td>강원</td>\n",
              "      <td>고성군</td>\n",
              "      <td>60s</td>\n",
              "      <td>1</td>\n",
              "      <td>5</td>\n",
              "      <td>27</td>\n",
              "      <td>866000</td>\n",
              "      <td>29</td>\n",
              "      <td>2019</td>\n",
              "      <td>6</td>\n",
              "    </tr>\n",
              "    <tr>\n",
              "      <th>4</th>\n",
              "      <td>강원</td>\n",
              "      <td>인제군</td>\n",
              "      <td>슈퍼마켓</td>\n",
              "      <td>강원</td>\n",
              "      <td>양구군</td>\n",
              "      <td>60s</td>\n",
              "      <td>1</td>\n",
              "      <td>5</td>\n",
              "      <td>3</td>\n",
              "      <td>150950</td>\n",
              "      <td>3</td>\n",
              "      <td>2020</td>\n",
              "      <td>3</td>\n",
              "    </tr>\n",
              "  </tbody>\n",
              "</table>\n",
              "</div>"
            ],
            "text/plain": [
              "  CARD_SIDO_NM CARD_CCG_NM    STD_CLSS_NM HOM_SIDO_NM  ...     AMT CNT  year  month\n",
              "0           경기         시흥시        한식 음식점업          강원  ...  360600  12  2020      3\n",
              "1           경북         영주시  기타음식료품위주종합소매업          강원  ...  116200   5  2019      3\n",
              "2           경기         안성시  기타음식료품위주종합소매업          강원  ...  492200   4  2019      5\n",
              "3           강원         고성군    기타 외국식 음식점업          강원  ...  866000  29  2019      6\n",
              "4           강원         인제군           슈퍼마켓          강원  ...  150950   3  2020      3\n",
              "\n",
              "[5 rows x 13 columns]"
            ]
          },
          "metadata": {
            "tags": []
          },
          "execution_count": 42
        }
      ]
    },
    {
      "cell_type": "code",
      "metadata": {
        "id": "mOWuX1culT7w",
        "colab_type": "code",
        "colab": {}
      },
      "source": [
        "# 데이터 정제\n",
        "df = data.drop(['CARD_CCG_NM', 'HOM_CCG_NM'], axis=1)\n",
        "columns = ['CARD_SIDO_NM', 'STD_CLSS_NM', 'HOM_SIDO_NM', 'AGE', 'SEX_CTGO_CD', 'FLC', 'year', 'month']\n",
        "df = df.groupby(columns).sum().reset_index(drop=False)"
      ],
      "execution_count": null,
      "outputs": []
    },
    {
      "cell_type": "code",
      "metadata": {
        "id": "WEl_TDF8lVtN",
        "colab_type": "code",
        "colab": {}
      },
      "source": [
        "# 인코딩\n",
        "dtypes = df.dtypes\n",
        "encoders = {}\n",
        "for column in df.columns:\n",
        "    if str(dtypes[column]) == 'object':\n",
        "        encoder = LabelEncoder()\n",
        "        encoder.fit(df[column])\n",
        "        encoders[column] = encoder\n",
        "        \n",
        "df_num = df.copy()        \n",
        "for column in encoders.keys():\n",
        "    encoder = encoders[column]\n",
        "    df_num[column] = encoder.transform(df[column])"
      ],
      "execution_count": null,
      "outputs": []
    },
    {
      "cell_type": "code",
      "metadata": {
        "id": "YtelfSt-lW5f",
        "colab_type": "code",
        "colab": {
          "base_uri": "https://localhost:8080/",
          "height": 34
        },
        "outputId": "a3c010be-f9b1-49ee-cd63-b9dcf0efd6c8"
      },
      "source": [
        "from sklearn.model_selection import train_test_split\n",
        "\n",
        "X_data, y_data = df_num.loc[:, df_num.columns != 'AMT'], df.loc[:, df_num.columns == 'AMT']\n",
        "y_target = y_data['AMT']\n",
        "X_data = X_data.drop(['CSTMR_CNT', 'CNT'], axis=1)\n",
        "X_train, X_test, y_train, y_test = train_test_split(X_data, y_target, test_size=0.3, random_state=126, shuffle=True)\n",
        "X_train.shape, y_train.shape, X_test.shape, y_test.shape"
      ],
      "execution_count": null,
      "outputs": [
        {
          "output_type": "execute_result",
          "data": {
            "text/plain": [
              "((709, 8), (709,), (304, 8), (304,))"
            ]
          },
          "metadata": {
            "tags": []
          },
          "execution_count": 45
        }
      ]
    },
    {
      "cell_type": "code",
      "metadata": {
        "id": "gvH5XAuXlYa0",
        "colab_type": "code",
        "colab": {
          "base_uri": "https://localhost:8080/",
          "height": 626
        },
        "outputId": "440b5472-c2a0-4196-9c34-5aa25454d946"
      },
      "source": [
        "sns.distplot(y_train , fit=norm);\n",
        "(mu, sigma) = norm.fit(y_train)\n",
        "print( '\\n mu = {:.2f} and sigma = {:.2f}\\n'.format(mu, sigma))\n",
        "plt.legend(['Normal dist. ($\\mu=$ {:.2f} and $\\sigma=$ {:.2f} )'.format(mu, sigma)],\n",
        "            loc='best')\n",
        "plt.ylabel('Frequency')\n",
        "plt.title('AMT distribution')\n",
        "\n",
        "fig = plt.figure()\n",
        "res = stats.probplot(y_train, plot=plt)\n",
        "plt.show()"
      ],
      "execution_count": null,
      "outputs": [
        {
          "output_type": "stream",
          "text": [
            "\n",
            " mu = 1680247.74 and sigma = 6548093.42\n",
            "\n"
          ],
          "name": "stdout"
        },
        {
          "output_type": "display_data",
          "data": {
            "image/png": "[encoded data removed]",
            "text/plain": [
              "<Figure size 432x288 with 1 Axes>"
            ]
          },
          "metadata": {
            "tags": [],
            "needs_background": "light"
          }
        },
        {
          "output_type": "display_data",
          "data": {
            "image/png": "[encoded data removed]",
            "text/plain": [
              "<Figure size 432x288 with 1 Axes>"
            ]
          },
          "metadata": {
            "tags": [],
            "needs_background": "light"
          }
        }
      ]
    },
    {
      "cell_type": "code",
      "metadata": {
        "id": "QU-jvVwllaVt",
        "colab_type": "code",
        "colab": {
          "base_uri": "https://localhost:8080/",
          "height": 626
        },
        "outputId": "9fa896c7-b4d1-40d6-d3f2-9af68db82960"
      },
      "source": [
        "y_train = np.log1p(y_train)\n",
        "\n",
        "sns.distplot(y_train , fit=norm);\n",
        "(mu, sigma) = norm.fit(y_train)\n",
        "print( '\\n mu = {:.2f} and sigma = {:.2f}\\n'.format(mu, sigma))\n",
        "plt.legend(['Normal dist. ($\\mu=$ {:.2f} and $\\sigma=$ {:.2f} )'.format(mu, sigma)],\n",
        "            loc='best')\n",
        "plt.ylabel('Frequency')\n",
        "plt.title('AMT distribution')\n",
        "\n",
        "fig = plt.figure()\n",
        "res = stats.probplot(y_train, plot=plt)\n",
        "plt.show()"
      ],
      "execution_count": null,
      "outputs": [
        {
          "output_type": "stream",
          "text": [
            "\n",
            " mu = 12.57 and sigma = 1.67\n",
            "\n"
          ],
          "name": "stdout"
        },
        {
          "output_type": "display_data",
          "data": {
            "image/png": "[encoded data removed]",
            "text/plain": [
              "<Figure size 432x288 with 1 Axes>"
            ]
          },
          "metadata": {
            "tags": [],
            "needs_background": "light"
          }
        },
        {
          "output_type": "display_data",
          "data": {
            "image/png": "[encoded data removed]",
            "text/plain": [
              "<Figure size 432x288 with 1 Axes>"
            ]
          },
          "metadata": {
            "tags": [],
            "needs_background": "light"
          }
        }
      ]
    },
    {
      "cell_type": "code",
      "metadata": {
        "id": "gOJ_FfPplcag",
        "colab_type": "code",
        "colab": {
          "base_uri": "https://localhost:8080/",
          "height": 34
        },
        "outputId": "6b0bf6b8-33fe-4212-9408-b23589115a2c"
      },
      "source": [
        "from xgboost import XGBRegressor\n",
        "import xgboost\n",
        "print(xgboost.__version__)"
      ],
      "execution_count": null,
      "outputs": [
        {
          "output_type": "stream",
          "text": [
            "0.90\n"
          ],
          "name": "stdout"
        }
      ]
    },
    {
      "cell_type": "code",
      "metadata": {
        "id": "O1yfnEH4leMN",
        "colab_type": "code",
        "colab": {}
      },
      "source": [
        "# 데이터셋 분리\n",
        "from sklearn.model_selection import train_test_split\n",
        "\n",
        "# 데이터 수집\n",
        "from sklearn.datasets import load_boston\n",
        "\n",
        "# 평가 메트릭\n",
        "from sklearn.metrics import mean_squared_error, mean_absolute_error\n",
        "\n",
        "# 데이터 수집\n",
        "boston = load_boston()\n",
        "x, y = boston.data, boston.target\n",
        "\n",
        "# 데이터 분리\n",
        "X_train, X_test, y_train, y_test=train_test_split(x, y, test_size=0.15, random_state = 1)\n",
        "\n",
        "xgb_reg = XGBRegressor(verbosity=0) \n",
        "print(xgb_reg)\n",
        "\n",
        "xgb_reg.fit(X_train, y_train)\n",
        "score = xgb_reg.score(X_train, y_train)  \n",
        "print(\"Training score: \", score)\n",
        "\n",
        "y_pred = xgb_reg.predict(X_test)\n",
        "mse = mean_squared_error(y_test, y_pred)\n",
        "print(\"MSE: %.2f\" % mse)"
      ],
      "execution_count": null,
      "outputs": []
    },
    {
      "cell_type": "code",
      "metadata": {
        "id": "gvZdsn1Dlifi",
        "colab_type": "code",
        "colab": {
          "base_uri": "https://localhost:8080/",
          "height": 34
        },
        "outputId": "0b6d46f7-2695-4ccd-a4c3-41996691b2a4"
      },
      "source": [
        "import lightgbm\n",
        "from lightgbm import LGBMRegressor\n",
        "print(lightgbm.__version__)"
      ],
      "execution_count": null,
      "outputs": [
        {
          "output_type": "stream",
          "text": [
            "2.2.3\n"
          ],
          "name": "stdout"
        }
      ]
    },
    {
      "cell_type": "code",
      "metadata": {
        "id": "KzpzZa67l6k1",
        "colab_type": "code",
        "colab": {}
      },
      "source": [
        "# 데이터셋 분리\n",
        "from sklearn.model_selection import train_test_split\n",
        "\n",
        "# 데이터 수집\n",
        "from sklearn.datasets import load_boston\n",
        "\n",
        "# 평가 메트릭\n",
        "from sklearn.metrics import mean_squared_error, mean_absolute_error\n",
        "\n",
        "# 데이터 수집\n",
        "boston = load_boston()\n",
        "x, y = boston.data, boston.target\n",
        "\n",
        "# 데이터 분리\n",
        "X_training, X_testing, y_training, y_testing = train_test_split(x, y, test_size=0.15, random_state = 1)\n",
        "\n",
        "lgb_reg = LGBMRegressor(verbosity=0) \n",
        "print(lgb_reg)\n",
        "\n",
        "lgb_reg.fit(X_training, y_training)\n",
        "score = lgb_reg.score(X_training, y_training)  \n",
        "print(\"Training score: \", score)\n",
        "\n",
        "y_pred = lgb_reg.predict(X_testing)\n",
        "mse = mean_squared_error(y_testing, y_pred)\n",
        "print(\"MSE: %.2f\" % mse)"
      ],
      "execution_count": null,
      "outputs": []
    },
    {
      "cell_type": "code",
      "metadata": {
        "id": "UYB7rQs9l7zA",
        "colab_type": "code",
        "colab": {}
      },
      "source": [
        "import numpy as np\n",
        "\n",
        "from sklearn.neighbors import KNeighborsClassifier\n",
        "from sklearn.ensemble import RandomForestClassifier\n",
        "from sklearn.ensemble import AdaBoostClassifier\n",
        "from sklearn.tree import DecisionTreeClassifier\n",
        "from sklearn.linear_model import LogisticRegression\n",
        "\n",
        "from sklearn.datasets import load_breast_cancer\n",
        "from sklearn.model_selection import train_test_split\n",
        "from sklearn.metrics import accuracy_score\n",
        "\n",
        "cancer_data = load_breast_cancer()\n",
        "\n",
        "X_data = cancer_data.data\n",
        "y_label = cancer_data.target\n",
        "\n",
        "X_training , X_testing , y_training , y_testing = train_test_split(X_data , y_label , test_size=0.2 , random_state=0)\n",
        "\n",
        "# 개별 ML 모델을 위한 Classifier 생성.\n",
        "knn_clf  = KNeighborsClassifier(n_neighbors=4)\n",
        "rf_clf = RandomForestClassifier(n_estimators=100, random_state=0)\n",
        "dt_clf = DecisionTreeClassifier()\n",
        "ada_clf = AdaBoostClassifier(n_estimators=100)\n",
        "\n",
        "# 최종 Stacking 모델을 위한 Classifier생성. \n",
        "lr_final = LogisticRegression(C=10)\n",
        "\n",
        "# 개별 모델들을 학습. \n",
        "knn_clf.fit(X_training, y_training)\n",
        "rf_clf.fit(X_training , y_training)\n",
        "dt_clf.fit(X_training , y_training)\n",
        "ada_clf.fit(X_training, y_training)\n",
        "\n",
        "# 학습된 개별 모델들이 각자 반환하는 예측 데이터 셋을 생성하고 개별 모델의 정확도 측정. \n",
        "knn_pred = knn_clf.predict(X_testing)\n",
        "rf_pred = rf_clf.predict(X_testing)\n",
        "dt_pred = dt_clf.predict(X_testing)\n",
        "ada_pred = ada_clf.predict(X_testing)\n",
        "\n",
        "print('KNN 정확도: {0:.4f}'.format(accuracy_score(y_testing, knn_pred)))\n",
        "print('랜덤 포레스트 정확도: {0:.4f}'.format(accuracy_score(y_testing, rf_pred)))\n",
        "print('결정 트리 정확도: {0:.4f}'.format(accuracy_score(y_testing, dt_pred)))\n",
        "print('에이다부스트 정확도: {0:.4f} :'.format(accuracy_score(y_testing, ada_pred)))"
      ],
      "execution_count": null,
      "outputs": []
    },
    {
      "cell_type": "code",
      "metadata": {
        "id": "0bpOxPAZl-Hc",
        "colab_type": "code",
        "colab": {}
      },
      "source": [
        "pred = np.array([knn_pred, rf_pred, dt_pred, ada_pred])\n",
        "print(pred.shape)\n",
        "\n",
        "# transpose를 이용해 행과 열의 위치 교환. 컬럼 레벨로 각 알고리즘의 예측 결과를 피처로 만듦. \n",
        "pred = np.transpose(pred)\n",
        "print(pred.shape)\n",
        "\n",
        "lr_final.fit(pred, y_testing)\n",
        "final = lr_final.predict(pred)\n",
        "\n",
        "print('최종 메타 모델의 예측 정확도: {0:.4f}'.format(accuracy_score(y_testing , final)))"
      ],
      "execution_count": null,
      "outputs": []
    },
    {
      "cell_type": "code",
      "metadata": {
        "id": "qC-ZyBBLmFYl",
        "colab_type": "code",
        "colab": {}
      },
      "source": [
        "def rmsle(y, pred): \n",
        "  log_y = np.log1p(y)\n",
        "  log_pred = np.log1p(pred)\n",
        "  squared_error = (log_y - log_pred)**2\n",
        "  rmsle = np.sqrt(np.mean(squared_error))\n",
        "  return print('Test Data RMSLE: {0:.3f}'.format(rmsle))"
      ],
      "execution_count": null,
      "outputs": []
    },
    {
      "cell_type": "code",
      "metadata": {
        "id": "mgUmS0wlmHMc",
        "colab_type": "code",
        "colab": {}
      },
      "source": [
        "# 교차검증 수행\n",
        "def get_best_params_model(model, params):\n",
        "  cv_model = GridSearchCV(model, param_grid=params, scoring=\"neg_mean_squared_error\", cv = 5)\n",
        "  cv_model.fit(X_train, y_train)\n",
        "  print(\"----\", model.__class__.__name__, \"----\")\n",
        "  print(\"GridSearchCV 최적 하이퍼 파라미터 :\", cv_model.best_params_)\n",
        "\n",
        "  rmse = np.sqrt(-1*cv_model.best_score_)\n",
        "  print(\"GridSearchCV 최적 평균 RMSE값 :\", np.round(rmse, 3))\n",
        "\n",
        "  eval_pred = cv_model.predict(X_test)\n",
        "  eval_pred = np.expm1(eval_pred)\n",
        "  rmsle(y_test, eval_pred)\n",
        "  \n",
        "  return cv_model.best_estimator_"
      ],
      "execution_count": null,
      "outputs": []
    },
    {
      "cell_type": "code",
      "metadata": {
        "id": "SG2PEwo7mIiz",
        "colab_type": "code",
        "colab": {
          "base_uri": "https://localhost:8080/",
          "height": 442
        },
        "outputId": "ef8872ed-fb15-47cb-f729-b6c2ba11ebb3"
      },
      "source": [
        "from sklearn.linear_model import LinearRegression\n",
        "\n",
        "# 4개의 모델 선언\n",
        "xgb = XGBRegressor(random_state=0)\n",
        "gbm = GradientBoostingRegressor(random_state=0)\n",
        "lgb = LGBMRegressor(random_state=0)  \n",
        "\n",
        "params = {'n_estimators': [1000, 2000]}\n",
        "\n",
        "models = [xgb, gbm, lgb] # 모형 하나 추가 함\n",
        "best_models = []\n",
        "for model in models:\n",
        "  new_model = get_best_params_model(model=model, params=params)\n",
        "  best_models.append(new_model)"
      ],
      "execution_count": null,
      "outputs": [
        {
          "output_type": "stream",
          "text": [
            "[03:20:37] WARNING: /workspace/src/objective/regression_obj.cu:152: reg:linear is now deprecated in favor of reg:squarederror.\n",
            "[03:20:37] WARNING: /workspace/src/objective/regression_obj.cu:152: reg:linear is now deprecated in favor of reg:squarederror.\n",
            "[03:20:38] WARNING: /workspace/src/objective/regression_obj.cu:152: reg:linear is now deprecated in favor of reg:squarederror.\n",
            "[03:20:38] WARNING: /workspace/src/objective/regression_obj.cu:152: reg:linear is now deprecated in favor of reg:squarederror.\n",
            "[03:20:38] WARNING: /workspace/src/objective/regression_obj.cu:152: reg:linear is now deprecated in favor of reg:squarederror.\n",
            "[03:20:39] WARNING: /workspace/src/objective/regression_obj.cu:152: reg:linear is now deprecated in favor of reg:squarederror.\n",
            "[03:20:39] WARNING: /workspace/src/objective/regression_obj.cu:152: reg:linear is now deprecated in favor of reg:squarederror.\n",
            "[03:20:40] WARNING: /workspace/src/objective/regression_obj.cu:152: reg:linear is now deprecated in favor of reg:squarederror.\n",
            "[03:20:40] WARNING: /workspace/src/objective/regression_obj.cu:152: reg:linear is now deprecated in favor of reg:squarederror.\n",
            "[03:20:41] WARNING: /workspace/src/objective/regression_obj.cu:152: reg:linear is now deprecated in favor of reg:squarederror.\n",
            "[03:20:42] WARNING: /workspace/src/objective/regression_obj.cu:152: reg:linear is now deprecated in favor of reg:squarederror.\n",
            "---- XGBRegressor ----\n",
            "GridSearchCV 최적 하이퍼 파라미터 : {'n_estimators': 1000}\n",
            "GridSearchCV 최적 평균 RMSE값 : 1.802\n",
            "Test Data RMSLE: 1.738\n",
            "---- GradientBoostingRegressor ----\n",
            "GridSearchCV 최적 하이퍼 파라미터 : {'n_estimators': 1000}\n",
            "GridSearchCV 최적 평균 RMSE값 : 1.812\n",
            "Test Data RMSLE: 1.764\n",
            "---- LGBMRegressor ----\n",
            "GridSearchCV 최적 하이퍼 파라미터 : {'n_estimators': 1000}\n",
            "GridSearchCV 최적 평균 RMSE값 : 1.942\n",
            "Test Data RMSLE: 1.958\n"
          ],
          "name": "stdout"
        }
      ]
    },
    {
      "cell_type": "code",
      "metadata": {
        "id": "0vIOp93bmJ0k",
        "colab_type": "code",
        "colab": {}
      },
      "source": [
        "# 모형 불러오기\n",
        "xgb_reg = best_models[0]\n",
        "gbm_reg = best_models[1]\n",
        "lgb_reg = best_models[2]\n",
        "\n",
        "# 예측 데이터 세트\n",
        "xgb_pred = xgb_reg.predict(X_test)\n",
        "xgb_pred = np.expm1(xgb_pred)\n",
        "\n",
        "gbm_pred = gbm_reg.predict(X_test)\n",
        "gbm_pred = np.expm1(gbm_pred)\n",
        "\n",
        "lgb_pred = lgb_reg.predict(X_test)\n",
        "lgb_pred = np.expm1(lgb_pred)\n",
        "\n",
        "pred = np.array([xgb_pred, gbm_pred, lgb_pred])\n",
        "print(pred.shape)\n",
        "\n",
        "# transpose를 이용해 행과 열의 위치 교환\n",
        "pred = np.transpose(pred)\n",
        "print(pred.shape)"
      ],
      "execution_count": null,
      "outputs": []
    },
    {
      "cell_type": "code",
      "metadata": {
        "id": "hwkyvy-omiJA",
        "colab_type": "code",
        "colab": {}
      },
      "source": [
        "final = xgb_pred*0.40 + gbm_pred*0.40 + lgb_pred*0.20\n",
        "rmsle(y_test, final)"
      ],
      "execution_count": null,
      "outputs": []
    },
    {
      "cell_type": "code",
      "metadata": {
        "id": "QkdPfkAZmzTr",
        "colab_type": "code",
        "colab": {}
      },
      "source": [
        "from itertools import product\n",
        "\n",
        "# 예측 템플릿 만들기\n",
        "CARD_SIDO_NMs = df_num['CARD_SIDO_NM'].unique()\n",
        "STD_CLSS_NMs  = df_num['STD_CLSS_NM'].unique()\n",
        "HOM_SIDO_NMs  = df_num['HOM_SIDO_NM'].unique()\n",
        "AGEs          = df_num['AGE'].unique()\n",
        "SEX_CTGO_CDs  = df_num['SEX_CTGO_CD'].unique()\n",
        "FLCs          = df_num['FLC'].unique()\n",
        "years         = [2020]\n",
        "months        = [4, 7]\n",
        "\n",
        "comb_list = [CARD_SIDO_NMs, STD_CLSS_NMs,HOM_SIDO_NMs, AGEs, SEX_CTGO_CDs, FLCs, years, months]\n",
        "temp = np.array(list(product(*comb_list)))\n",
        "\n",
        "train_features = df_num.drop(['CSTMR_CNT', 'AMT', 'CNT'], axis=1)\n",
        "temp = pd.DataFrame(data=temp, columns=train_features.columns)"
      ],
      "execution_count": null,
      "outputs": []
    },
    {
      "cell_type": "code",
      "metadata": {
        "id": "ePj8c_Gzpbsr",
        "colab_type": "code",
        "colab": {}
      },
      "source": [
        "# 예측 데이터 세트\n",
        "xgb_pred = xgb_reg.predict(temp)\n",
        "xgb_pred = np.expm1(xgb_pred)\n",
        "\n",
        "gbm_pred = gbm_reg.predict(temp)\n",
        "gbm_pred = np.expm1(gbm_pred)\n",
        "\n",
        "lgb_pred = lgb_reg.predict(temp)\n",
        "lgb_pred = np.expm1(lgb_pred)"
      ],
      "execution_count": null,
      "outputs": []
    },
    {
      "cell_type": "code",
      "metadata": {
        "id": "GZJlrkI-phrS",
        "colab_type": "code",
        "colab": {}
      },
      "source": [
        "final = xgb_pred*0.40 + gbm_pred*0.40 + lgb_pred*0.20\n",
        "\n",
        "temp['AMT'] = np.round(final, 0)\n",
        "temp['REG_YYMM'] = temp['year']*100 + temp['month']\n",
        "temp = temp[['REG_YYMM', 'CARD_SIDO_NM', 'STD_CLSS_NM', 'AMT']]\n",
        "temp = temp.groupby(['REG_YYMM', 'CARD_SIDO_NM', 'STD_CLSS_NM']).sum().reset_index(drop=False)"
      ],
      "execution_count": null,
      "outputs": []
    },
    {
      "cell_type": "code",
      "metadata": {
        "id": "aY9TYrMBpkZU",
        "colab_type": "code",
        "colab": {}
      },
      "source": [
        "# 디코딩 \n",
        "temp['CARD_SIDO_NM'] = encoders['CARD_SIDO_NM'].inverse_transform(temp['CARD_SIDO_NM'])\n",
        "temp['STD_CLSS_NM'] = encoders['STD_CLSS_NM'].inverse_transform(temp['STD_CLSS_NM'])\n",
        "\n",
        "temp.head()"
      ],
      "execution_count": null,
      "outputs": []
    },
    {
      "cell_type": "code",
      "metadata": {
        "id": "D5wuHdO3poPJ",
        "colab_type": "code",
        "colab": {}
      },
      "source": [
        "# Submission 파일 작업 및 내보내기\n",
        "submission = client.query('''\n",
        "  SELECT \n",
        "    * \n",
        "  FROM `jeju-bigquery-282708.jeju_bigdata.submission` \n",
        "  ''').to_dataframe()"
      ],
      "execution_count": null,
      "outputs": []
    },
    {
      "cell_type": "code",
      "metadata": {
        "id": "-0PmyZ71pqk5",
        "colab_type": "code",
        "colab": {}
      },
      "source": [
        "submission = submission.drop(['AMT'], axis=1)\n",
        "submission = submission.merge(temp, left_on=['REG_YYMM', 'CARD_SIDO_NM', 'STD_CLSS_NM'], right_on=['REG_YYMM', 'CARD_SIDO_NM', 'STD_CLSS_NM'], how='left')\n",
        "submission['AMT'] = submission['AMT'].fillna(0)\n",
        "\n",
        "submission.head()"
      ],
      "execution_count": null,
      "outputs": []
    },
    {
      "cell_type": "code",
      "metadata": {
        "id": "de0adTq9ptj8",
        "colab_type": "code",
        "colab": {}
      },
      "source": [
        "submission.to_csv('/content/drive/My Drive/Colab Notebooks/jeju/submission.csv', encoding='utf-8-sig', index=False)"
      ],
      "execution_count": null,
      "outputs": []
    },
    {
      "cell_type": "code",
      "metadata": {
        "id": "Oki0dLYPq6tN",
        "colab_type": "code",
        "colab": {}
      },
      "source": [
        ""
      ],
      "execution_count": null,
      "outputs": []
    }
  ]
}