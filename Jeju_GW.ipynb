{
  "nbformat": 4,
  "nbformat_minor": 0,
  "metadata": {
    "colab": {
      "name": "Jeju_GW.ipynb",
      "provenance": [],
      "machine_shape": "hm",
      "mount_file_id": "1tHFUaCCiuBzrlIl31qNih7UGa1K6_xKl",
      "authorship_tag": "ABX9TyPdhlY2CQ/csUFeGaX4Fj9I",
      "include_colab_link": true
    },
    "kernelspec": {
      "name": "python3",
      "display_name": "Python 3"
    },
    "accelerator": "GPU"
  },
  "cells": [
    {
      "cell_type": "markdown",
      "metadata": {
        "id": "view-in-github",
        "colab_type": "text"
      },
      "source": [
        "<a href=\"https://colab.research.google.com/github/runnin123/Jeju_Bigdata/blob/master/Jeju_GW.ipynb\" target=\"_parent\"><img src=\"https://colab.research.google.com/assets/colab-badge.svg\" alt=\"Open In Colab\"/></a>"
      ]
    },
    {
      "cell_type": "code",
      "metadata": {
        "id": "LSOzARb-r3Gd",
        "colab_type": "code",
        "colab": {}
      },
      "source": [
        "from google.colab import auth\n",
        "auth.authenticate_user()"
      ],
      "execution_count": 1,
      "outputs": []
    },
    {
      "cell_type": "code",
      "metadata": {
        "id": "vRoOwMMosnEL",
        "colab_type": "code",
        "colab": {}
      },
      "source": [
        "from google.cloud import bigquery\n",
        "from tabulate import tabulate\n",
        "import pandas as pd\n",
        "import numpy as np\n",
        "import sklearn\n",
        "from sklearn.preprocessing import LabelEncoder\n",
        "from xgboost import XGBRegressor\n",
        "from lightgbm import LGBMRegressor\n",
        "from sklearn.ensemble import GradientBoostingRegressor\n",
        "from sklearn.linear_model import LinearRegression\n",
        "\n",
        "from itertools import product\n",
        "\n",
        "# 평가 메트릭\n",
        "from sklearn.metrics import mean_squared_error, mean_absolute_error\n",
        "\n",
        "# 통계\n",
        "from scipy import stats\n",
        "from scipy.stats import norm, skew #for some statistics\n",
        "\n",
        "from sklearn.base import BaseEstimator, TransformerMixin, RegressorMixin, clone\n",
        "from sklearn.model_selection import KFold, cross_val_score, train_test_split, GridSearchCV\n",
        "from sklearn.metrics import mean_squared_error"
      ],
      "execution_count": 2,
      "outputs": []
    },
    {
      "cell_type": "code",
      "metadata": {
        "id": "2omC-mzTsuzl",
        "colab_type": "code",
        "colab": {}
      },
      "source": [
        "class Model:\n",
        "    def __init__(self, data, num):\n",
        "        self.X_train = data[0]\n",
        "        self.X_test = data[1]\n",
        "        self.y_train = data[2]\n",
        "        self.y_test = data[3]\n",
        "        self.encoding_data = num\n",
        "\n",
        "    def rmsle(self, y, pred): \n",
        "        log_y = np.log1p(y)\n",
        "        log_pred = np.log1p(pred)\n",
        "        squared_error = (log_y - log_pred)**2\n",
        "        rmsle = np.sqrt(np.mean(squared_error))\n",
        "        print(round(rmsle, 3))\n",
        "\n",
        "        return round(rmsle, 3)\n",
        "\n",
        "    def best_params_model(self, model, params):\n",
        "        cv_model = GridSearchCV(model, param_grid=params, scoring=\"neg_mean_squared_error\", cv = 5)\n",
        "        cv_model.fit(self.X_train, self.y_train)\n",
        "        eval_pred = cv_model.predict(self.X_test)\n",
        "        eval_pred = np.expm1(eval_pred)\n",
        "        rmsle_ = self.rmsle(self.y_test, eval_pred)\n",
        "\n",
        "        return  cv_model.best_estimator_, rmsle_\n",
        "\n",
        "    def get_model(self):\n",
        "        xgb = XGBRegressor(random_state=0)\n",
        "        gbm = GradientBoostingRegressor(random_state=0)\n",
        "        lgb = LGBMRegressor(random_state=0)\n",
        "\n",
        "        params = {'n_estimators': [1000, 2000]}\n",
        "\n",
        "        models = [xgb, gbm, lgb]\n",
        "        best_models = []\n",
        "        rmsles = []\n",
        "        \n",
        "        for model in models:\n",
        "            new_model = self.best_params_model(model, params)[0]\n",
        "            new_rmsle = self.best_params_model(model, params)[1]\n",
        "            best_models.append(new_model)\n",
        "            rmsles.append(new_rmsle)\n",
        "\n",
        "        self.xgb_reg = best_models[0]\n",
        "        self.gbm_reg = best_models[1]\n",
        "        self.lgb_reg = best_models[2]\n",
        "\n",
        "        self.xgb_rmsle = rmsles[0]\n",
        "        self.gbm_rmsle = rmsles[1]\n",
        "        self.lgb_rmsle = rmsles[2]\n",
        "\n",
        "    def final(self):\n",
        "\n",
        "        xgb_pred = self.xgb_reg.predict(self.X_test)\n",
        "        xgb_pred = np.expm1(xgb_pred)\n",
        "\n",
        "        gbm_pred = self.gbm_reg.predict(self.X_test)\n",
        "        gbm_pred = np.expm1(gbm_pred)\n",
        "\n",
        "        lgb_pred = self.lgb_reg.predict(self.X_test)\n",
        "        lgb_pred = np.expm1(lgb_pred)\n",
        "\n",
        "        pred = np.array([xgb_pred, gbm_pred, lgb_pred])\n",
        "        pred = np.transpose(pred)\n",
        "\n",
        "        rmsle_sum = self.xgb_rmsle + self.gbm_rmsle + self.lgb_rmsle\n",
        "\n",
        "        self.xgb_per = self.xgb_rmsle / rmsle_sum\n",
        "        self.gbm_per = self.gbm_rmsle / rmsle_sum\n",
        "        self.lgb_per = self.lgb_rmsle / rmsle_sum\n",
        "        \n",
        "        final = xgb_pred*self.xgb_per + gbm_pred*self.gbm_per + lgb_pred*self.lgb_per\n",
        "        self.rmsle(self.y_test, final)\n",
        "\n",
        "    def make_temp(self):\n",
        "        CARD_SIDO_NMs = self.encoding_data['CARD_SIDO_NM'].unique()\n",
        "        CARD_CCG_NMs = self.encoding_data['CARD_CCG_NM'].unique()\n",
        "        STD_CLSS_NMs  = self.encoding_data['STD_CLSS_NM'].unique()\n",
        "        HOM_SIDO_NMs  = self.encoding_data['HOM_SIDO_NM'].unique()\n",
        "        AGEs          = self.encoding_data['AGE'].unique()\n",
        "        SEX_CTGO_CDs  = self.encoding_data['SEX_CTGO_CD'].unique()\n",
        "        FLCs          = self.encoding_data['FLC'].unique()\n",
        "        years         = [2020]\n",
        "        months        = [4, 7]\n",
        "\n",
        "        comb_list = [CARD_SIDO_NMs, CARD_CCG_NMs, STD_CLSS_NMs, HOM_SIDO_NMs, AGEs, SEX_CTGO_CDs, FLCs, years, months]\n",
        "        temp = np.array(list(product(*comb_list)))\n",
        "\n",
        "        train_features = self.encoding_data.drop(['CSTMR_CNT', 'AMT', 'CNT'], axis=1)\n",
        "        tmp = pd.DataFrame(data=temp, columns=train_features.columns)\n",
        "\n",
        "        return tmp\n",
        "\n",
        "    def make_sub(self, temp):\n",
        "        xgb_pred = self.xgb_reg.predict(temp)\n",
        "        xgb_pred = np.expm1(xgb_pred)\n",
        "\n",
        "        gbm_pred = self.gbm_reg.predict(temp)\n",
        "        gbm_pred = np.expm1(gbm_pred)\n",
        "\n",
        "        lgb_pred = self.lgb_reg.predict(temp)\n",
        "        lgb_pred = np.expm1(lgb_pred)\n",
        "\n",
        "        final_rmsle = xgb_pred*self.xgb_per + gbm_pred*self.gbm_per + lgb_pred*self.lgb_per\n",
        "\n",
        "        temp['AMT'] = np.round(final_rmsle, 0)\n",
        "        temp['REG_YYMM'] = temp['year']*100 + temp['month']\n",
        "        temp = temp[['REG_YYMM', 'CARD_SIDO_NM', 'STD_CLSS_NM', 'AMT']]\n",
        "        temp = temp.groupby(['REG_YYMM', 'CARD_SIDO_NM', 'STD_CLSS_NM']).sum().reset_index(drop = False)\n",
        "\n",
        "        temp['CARD_SIDO_NM'] = encoders['CARD_SIDO_NM'].inverse_transform(temp['CARD_SIDO_NM'])\n",
        "        temp['STD_CLSS_NM'] = encoders['STD_CLSS_NM'].inverse_transform(temp['STD_CLSS_NM'])\n",
        "\n",
        "        return temp"
      ],
      "execution_count": 3,
      "outputs": []
    },
    {
      "cell_type": "code",
      "metadata": {
        "id": "9VnwhEx2typQ",
        "colab_type": "code",
        "colab": {}
      },
      "source": [
        "def sampling():\n",
        "    project_id = 'jeju-bigquery-282708'\n",
        "    client = bigquery.Client(project=project_id)\n",
        "\n",
        "    train = client.query('''\n",
        "    SELECT \n",
        "        * \n",
        "    FROM `jeju-bigquery-282708.jeju_bigdata.201901_202003_train`\n",
        "    ''').to_dataframe()\n",
        "\n",
        "    return train"
      ],
      "execution_count": 4,
      "outputs": []
    },
    {
      "cell_type": "code",
      "metadata": {
        "id": "9a6_f9j-t8Qi",
        "colab_type": "code",
        "colab": {}
      },
      "source": [
        "def grap_year(data):\n",
        "    data = str(data)\n",
        "    return int(data[:4])\n",
        "\n",
        "def grap_month(data):\n",
        "    data = str(data)\n",
        "    return int(data[4:])"
      ],
      "execution_count": 5,
      "outputs": []
    },
    {
      "cell_type": "code",
      "metadata": {
        "id": "84eBrJvLt9go",
        "colab_type": "code",
        "colab": {}
      },
      "source": [
        "def data_pre(data):\n",
        "    data = data.fillna('')\n",
        "    data['year'] = data['REG_YYMM'].apply(lambda x: grap_year(x))\n",
        "    data['month'] = data['REG_YYMM'].apply(lambda x: grap_month(x))\n",
        "    data = data.drop(['REG_YYMM'], axis = 1)\n",
        "\n",
        "    return data"
      ],
      "execution_count": 6,
      "outputs": []
    },
    {
      "cell_type": "code",
      "metadata": {
        "id": "lIxdqJ9Wt-1R",
        "colab_type": "code",
        "colab": {}
      },
      "source": [
        "def cate(data):\n",
        "    local = data[data['CARD_CCG_NM'] == data['HOM_CCG_NM']].reset_index(drop = True)\n",
        "    tourist = data[data['CARD_CCG_NM'] != data['HOM_CCG_NM']].reset_index(drop = True)\n",
        "    columns = ['CARD_SIDO_NM', 'CARD_CCG_NM', 'STD_CLSS_NM', 'HOM_SIDO_NM', 'AGE', 'SEX_CTGO_CD', 'FLC', 'year', 'month']\n",
        "    local, tourist = local.groupby(columns).sum().reset_index(drop=False), tourist.groupby(columns).sum().reset_index(drop=False)\n",
        "\n",
        "    return local, tourist"
      ],
      "execution_count": 7,
      "outputs": []
    },
    {
      "cell_type": "code",
      "metadata": {
        "id": "9du4x7stuTyI",
        "colab_type": "code",
        "colab": {}
      },
      "source": [
        "def encoding(cate):\n",
        "\n",
        "    global encoders\n",
        "    dtypes_cate = cate.dtypes\n",
        "    encoders = {}\n",
        "    for column in cate.columns:\n",
        "        if str(dtypes_cate[column]) == 'object':\n",
        "            encoder = LabelEncoder()\n",
        "            encoder.fit(cate[column])\n",
        "            encoders[column] = encoder\n",
        "\n",
        "    cate_num = cate.copy()\n",
        "\n",
        "    for column in encoders.keys():\n",
        "        encoder = encoders[column]\n",
        "        cate_num[column] = encoder.transform(cate[column])\n",
        "\n",
        "    return cate_num"
      ],
      "execution_count": 8,
      "outputs": []
    },
    {
      "cell_type": "code",
      "metadata": {
        "id": "nFEUGjKIuU8t",
        "colab_type": "code",
        "colab": {}
      },
      "source": [
        "def split(cate_num):\n",
        "    split_data = []\n",
        "\n",
        "    X_data, y_data = cate_num.loc[:, cate_num.columns != 'AMT'], cate_num['AMT']\n",
        "    X_data = X_data.drop(['CSTMR_CNT', 'CNT'], axis=1)\n",
        "    X_train, X_test, y_train, y_test = train_test_split(X_data, y_data, test_size=0.3, random_state=126, shuffle=True)\n",
        "    y_train = np.log1p(y_train)\n",
        "    \n",
        "    return X_train, X_test, y_train, y_test"
      ],
      "execution_count": 9,
      "outputs": []
    },
    {
      "cell_type": "code",
      "metadata": {
        "id": "IkwxebgUug-G",
        "colab_type": "code",
        "colab": {}
      },
      "source": [
        "train = pd.read_csv('/content/drive/My Drive/Colab Notebooks/jeju/201901-202003.csv')"
      ],
      "execution_count": 10,
      "outputs": []
    },
    {
      "cell_type": "code",
      "metadata": {
        "id": "ZzEuWy8WrXre",
        "colab_type": "code",
        "colab": {}
      },
      "source": [
        "train = train[(train['REG_YYMM'] == 202002) | (train['REG_YYMM'] == 202003)]"
      ],
      "execution_count": 11,
      "outputs": []
    },
    {
      "cell_type": "code",
      "metadata": {
        "id": "lIPfClVEB95e",
        "colab_type": "code",
        "colab": {}
      },
      "source": [
        "GW = train[train['CARD_SIDO_NM'] == '강원'].reset_index(drop = True)"
      ],
      "execution_count": 12,
      "outputs": []
    },
    {
      "cell_type": "code",
      "metadata": {
        "id": "TdQg4otOGxpd",
        "colab_type": "code",
        "colab": {
          "base_uri": "https://localhost:8080/",
          "height": 590
        },
        "outputId": "e77c8a3b-0edd-4c02-9702-9f63d524e2a2"
      },
      "source": [
        "GW = GW.sample(n = 10000).reset_index(drop = True)\n",
        "GW"
      ],
      "execution_count": 13,
      "outputs": [
        {
          "output_type": "execute_result",
          "data": {
            "text/html": [
              "<div>\n",
              "<style scoped>\n",
              "    .dataframe tbody tr th:only-of-type {\n",
              "        vertical-align: middle;\n",
              "    }\n",
              "\n",
              "    .dataframe tbody tr th {\n",
              "        vertical-align: top;\n",
              "    }\n",
              "\n",
              "    .dataframe thead th {\n",
              "        text-align: right;\n",
              "    }\n",
              "</style>\n",
              "<table border=\"1\" class=\"dataframe\">\n",
              "  <thead>\n",
              "    <tr style=\"text-align: right;\">\n",
              "      <th></th>\n",
              "      <th>REG_YYMM</th>\n",
              "      <th>CARD_SIDO_NM</th>\n",
              "      <th>CARD_CCG_NM</th>\n",
              "      <th>STD_CLSS_NM</th>\n",
              "      <th>HOM_SIDO_NM</th>\n",
              "      <th>HOM_CCG_NM</th>\n",
              "      <th>AGE</th>\n",
              "      <th>SEX_CTGO_CD</th>\n",
              "      <th>FLC</th>\n",
              "      <th>CSTMR_CNT</th>\n",
              "      <th>AMT</th>\n",
              "      <th>CNT</th>\n",
              "    </tr>\n",
              "  </thead>\n",
              "  <tbody>\n",
              "    <tr>\n",
              "      <th>0</th>\n",
              "      <td>202003</td>\n",
              "      <td>강원</td>\n",
              "      <td>횡성군</td>\n",
              "      <td>차량용 주유소 운영업</td>\n",
              "      <td>충남</td>\n",
              "      <td>천안시 서북구</td>\n",
              "      <td>50s</td>\n",
              "      <td>1</td>\n",
              "      <td>4</td>\n",
              "      <td>3</td>\n",
              "      <td>174000</td>\n",
              "      <td>4</td>\n",
              "    </tr>\n",
              "    <tr>\n",
              "      <th>1</th>\n",
              "      <td>202003</td>\n",
              "      <td>강원</td>\n",
              "      <td>삼척시</td>\n",
              "      <td>기타 대형 종합 소매업</td>\n",
              "      <td>부산</td>\n",
              "      <td>동래구</td>\n",
              "      <td>50s</td>\n",
              "      <td>1</td>\n",
              "      <td>4</td>\n",
              "      <td>4</td>\n",
              "      <td>412510</td>\n",
              "      <td>6</td>\n",
              "    </tr>\n",
              "    <tr>\n",
              "      <th>2</th>\n",
              "      <td>202003</td>\n",
              "      <td>강원</td>\n",
              "      <td>원주시</td>\n",
              "      <td>골프장 운영업</td>\n",
              "      <td>서울</td>\n",
              "      <td>광진구</td>\n",
              "      <td>60s</td>\n",
              "      <td>1</td>\n",
              "      <td>5</td>\n",
              "      <td>26</td>\n",
              "      <td>4606670</td>\n",
              "      <td>34</td>\n",
              "    </tr>\n",
              "    <tr>\n",
              "      <th>3</th>\n",
              "      <td>202002</td>\n",
              "      <td>강원</td>\n",
              "      <td>인제군</td>\n",
              "      <td>비알콜 음료점업</td>\n",
              "      <td>경기</td>\n",
              "      <td>용인시 수지구</td>\n",
              "      <td>50s</td>\n",
              "      <td>1</td>\n",
              "      <td>4</td>\n",
              "      <td>3</td>\n",
              "      <td>35600</td>\n",
              "      <td>3</td>\n",
              "    </tr>\n",
              "    <tr>\n",
              "      <th>4</th>\n",
              "      <td>202002</td>\n",
              "      <td>강원</td>\n",
              "      <td>고성군</td>\n",
              "      <td>체인화 편의점</td>\n",
              "      <td>서울</td>\n",
              "      <td>양천구</td>\n",
              "      <td>20s</td>\n",
              "      <td>2</td>\n",
              "      <td>1</td>\n",
              "      <td>7</td>\n",
              "      <td>61470</td>\n",
              "      <td>10</td>\n",
              "    </tr>\n",
              "    <tr>\n",
              "      <th>...</th>\n",
              "      <td>...</td>\n",
              "      <td>...</td>\n",
              "      <td>...</td>\n",
              "      <td>...</td>\n",
              "      <td>...</td>\n",
              "      <td>...</td>\n",
              "      <td>...</td>\n",
              "      <td>...</td>\n",
              "      <td>...</td>\n",
              "      <td>...</td>\n",
              "      <td>...</td>\n",
              "      <td>...</td>\n",
              "    </tr>\n",
              "    <tr>\n",
              "      <th>9995</th>\n",
              "      <td>202002</td>\n",
              "      <td>강원</td>\n",
              "      <td>철원군</td>\n",
              "      <td>한식 음식점업</td>\n",
              "      <td>경기</td>\n",
              "      <td>성남시 중원구</td>\n",
              "      <td>20s</td>\n",
              "      <td>1</td>\n",
              "      <td>1</td>\n",
              "      <td>5</td>\n",
              "      <td>209000</td>\n",
              "      <td>8</td>\n",
              "    </tr>\n",
              "    <tr>\n",
              "      <th>9996</th>\n",
              "      <td>202003</td>\n",
              "      <td>강원</td>\n",
              "      <td>양양군</td>\n",
              "      <td>슈퍼마켓</td>\n",
              "      <td>서울</td>\n",
              "      <td>송파구</td>\n",
              "      <td>30s</td>\n",
              "      <td>2</td>\n",
              "      <td>2</td>\n",
              "      <td>3</td>\n",
              "      <td>44000</td>\n",
              "      <td>3</td>\n",
              "    </tr>\n",
              "    <tr>\n",
              "      <th>9997</th>\n",
              "      <td>202002</td>\n",
              "      <td>강원</td>\n",
              "      <td>속초시</td>\n",
              "      <td>과실 및 채소 소매업</td>\n",
              "      <td>서울</td>\n",
              "      <td>광진구</td>\n",
              "      <td>20s</td>\n",
              "      <td>2</td>\n",
              "      <td>1</td>\n",
              "      <td>4</td>\n",
              "      <td>228500</td>\n",
              "      <td>6</td>\n",
              "    </tr>\n",
              "    <tr>\n",
              "      <th>9998</th>\n",
              "      <td>202002</td>\n",
              "      <td>강원</td>\n",
              "      <td>평창군</td>\n",
              "      <td>기타음식료품위주종합소매업</td>\n",
              "      <td>서울</td>\n",
              "      <td>서초구</td>\n",
              "      <td>40s</td>\n",
              "      <td>1</td>\n",
              "      <td>3</td>\n",
              "      <td>17</td>\n",
              "      <td>568450</td>\n",
              "      <td>22</td>\n",
              "    </tr>\n",
              "    <tr>\n",
              "      <th>9999</th>\n",
              "      <td>202003</td>\n",
              "      <td>강원</td>\n",
              "      <td>춘천시</td>\n",
              "      <td>골프장 운영업</td>\n",
              "      <td>서울</td>\n",
              "      <td>성북구</td>\n",
              "      <td>40s</td>\n",
              "      <td>1</td>\n",
              "      <td>3</td>\n",
              "      <td>35</td>\n",
              "      <td>6503730</td>\n",
              "      <td>36</td>\n",
              "    </tr>\n",
              "  </tbody>\n",
              "</table>\n",
              "<p>10000 rows × 12 columns</p>\n",
              "</div>"
            ],
            "text/plain": [
              "      REG_YYMM CARD_SIDO_NM CARD_CCG_NM  ... CSTMR_CNT      AMT CNT\n",
              "0       202003           강원         횡성군  ...         3   174000   4\n",
              "1       202003           강원         삼척시  ...         4   412510   6\n",
              "2       202003           강원         원주시  ...        26  4606670  34\n",
              "3       202002           강원         인제군  ...         3    35600   3\n",
              "4       202002           강원         고성군  ...         7    61470  10\n",
              "...        ...          ...         ...  ...       ...      ...  ..\n",
              "9995    202002           강원         철원군  ...         5   209000   8\n",
              "9996    202003           강원         양양군  ...         3    44000   3\n",
              "9997    202002           강원         속초시  ...         4   228500   6\n",
              "9998    202002           강원         평창군  ...        17   568450  22\n",
              "9999    202003           강원         춘천시  ...        35  6503730  36\n",
              "\n",
              "[10000 rows x 12 columns]"
            ]
          },
          "metadata": {
            "tags": []
          },
          "execution_count": 13
        }
      ]
    },
    {
      "cell_type": "code",
      "metadata": {
        "id": "rTnk2OrGgmKM",
        "colab_type": "code",
        "colab": {}
      },
      "source": [
        "data = data_pre(GW)"
      ],
      "execution_count": 14,
      "outputs": []
    },
    {
      "cell_type": "code",
      "metadata": {
        "id": "59icebrvgtSe",
        "colab_type": "code",
        "colab": {}
      },
      "source": [
        "local, tourist = cate(data)"
      ],
      "execution_count": 15,
      "outputs": []
    },
    {
      "cell_type": "code",
      "metadata": {
        "id": "0BGxzxqHguxO",
        "colab_type": "code",
        "colab": {}
      },
      "source": [
        "lcl_num, trst_num = encoding(local), encoding(tourist)"
      ],
      "execution_count": 16,
      "outputs": []
    },
    {
      "cell_type": "code",
      "metadata": {
        "id": "1uo4957YgwJv",
        "colab_type": "code",
        "colab": {}
      },
      "source": [
        "lcl_data, trst_data = split(lcl_num), split(trst_num)"
      ],
      "execution_count": 17,
      "outputs": []
    },
    {
      "cell_type": "code",
      "metadata": {
        "id": "GiQhFPE5gxEe",
        "colab_type": "code",
        "colab": {}
      },
      "source": [
        "lcl = Model(lcl_data, lcl_num)\n",
        "trst = Model(trst_data, trst_num)"
      ],
      "execution_count": 18,
      "outputs": []
    },
    {
      "cell_type": "code",
      "metadata": {
        "id": "j9JCu-Jugx-x",
        "colab_type": "code",
        "colab": {
          "base_uri": "https://localhost:8080/",
          "height": 530
        },
        "outputId": "00044165-42a3-41d4-92c5-1ba5d794a4ca"
      },
      "source": [
        "lcl.get_model()"
      ],
      "execution_count": 19,
      "outputs": [
        {
          "output_type": "stream",
          "text": [
            "[09:23:11] WARNING: /workspace/src/objective/regression_obj.cu:152: reg:linear is now deprecated in favor of reg:squarederror.\n",
            "[09:23:12] WARNING: /workspace/src/objective/regression_obj.cu:152: reg:linear is now deprecated in favor of reg:squarederror.\n",
            "[09:23:12] WARNING: /workspace/src/objective/regression_obj.cu:152: reg:linear is now deprecated in favor of reg:squarederror.\n",
            "[09:23:13] WARNING: /workspace/src/objective/regression_obj.cu:152: reg:linear is now deprecated in favor of reg:squarederror.\n",
            "[09:23:13] WARNING: /workspace/src/objective/regression_obj.cu:152: reg:linear is now deprecated in favor of reg:squarederror.\n",
            "[09:23:13] WARNING: /workspace/src/objective/regression_obj.cu:152: reg:linear is now deprecated in favor of reg:squarederror.\n",
            "[09:23:14] WARNING: /workspace/src/objective/regression_obj.cu:152: reg:linear is now deprecated in favor of reg:squarederror.\n",
            "[09:23:15] WARNING: /workspace/src/objective/regression_obj.cu:152: reg:linear is now deprecated in favor of reg:squarederror.\n",
            "[09:23:16] WARNING: /workspace/src/objective/regression_obj.cu:152: reg:linear is now deprecated in favor of reg:squarederror.\n",
            "[09:23:16] WARNING: /workspace/src/objective/regression_obj.cu:152: reg:linear is now deprecated in favor of reg:squarederror.\n",
            "[09:23:17] WARNING: /workspace/src/objective/regression_obj.cu:152: reg:linear is now deprecated in favor of reg:squarederror.\n",
            "0.977\n",
            "[09:23:18] WARNING: /workspace/src/objective/regression_obj.cu:152: reg:linear is now deprecated in favor of reg:squarederror.\n",
            "[09:23:18] WARNING: /workspace/src/objective/regression_obj.cu:152: reg:linear is now deprecated in favor of reg:squarederror.\n",
            "[09:23:19] WARNING: /workspace/src/objective/regression_obj.cu:152: reg:linear is now deprecated in favor of reg:squarederror.\n",
            "[09:23:19] WARNING: /workspace/src/objective/regression_obj.cu:152: reg:linear is now deprecated in favor of reg:squarederror.\n",
            "[09:23:19] WARNING: /workspace/src/objective/regression_obj.cu:152: reg:linear is now deprecated in favor of reg:squarederror.\n",
            "[09:23:20] WARNING: /workspace/src/objective/regression_obj.cu:152: reg:linear is now deprecated in favor of reg:squarederror.\n",
            "[09:23:20] WARNING: /workspace/src/objective/regression_obj.cu:152: reg:linear is now deprecated in favor of reg:squarederror.\n",
            "[09:23:21] WARNING: /workspace/src/objective/regression_obj.cu:152: reg:linear is now deprecated in favor of reg:squarederror.\n",
            "[09:23:22] WARNING: /workspace/src/objective/regression_obj.cu:152: reg:linear is now deprecated in favor of reg:squarederror.\n",
            "[09:23:23] WARNING: /workspace/src/objective/regression_obj.cu:152: reg:linear is now deprecated in favor of reg:squarederror.\n",
            "[09:23:23] WARNING: /workspace/src/objective/regression_obj.cu:152: reg:linear is now deprecated in favor of reg:squarederror.\n",
            "0.977\n",
            "0.96\n",
            "0.96\n",
            "1.053\n",
            "1.053\n"
          ],
          "name": "stdout"
        }
      ]
    },
    {
      "cell_type": "code",
      "metadata": {
        "id": "DH-YHjw8g2Kz",
        "colab_type": "code",
        "colab": {
          "base_uri": "https://localhost:8080/",
          "height": 530
        },
        "outputId": "b6ecf307-f079-4e8f-c168-258af7b46062"
      },
      "source": [
        "trst.get_model()"
      ],
      "execution_count": 20,
      "outputs": [
        {
          "output_type": "stream",
          "text": [
            "[09:23:56] WARNING: /workspace/src/objective/regression_obj.cu:152: reg:linear is now deprecated in favor of reg:squarederror.\n",
            "[09:23:57] WARNING: /workspace/src/objective/regression_obj.cu:152: reg:linear is now deprecated in favor of reg:squarederror.\n",
            "[09:23:59] WARNING: /workspace/src/objective/regression_obj.cu:152: reg:linear is now deprecated in favor of reg:squarederror.\n",
            "[09:24:00] WARNING: /workspace/src/objective/regression_obj.cu:152: reg:linear is now deprecated in favor of reg:squarederror.\n",
            "[09:24:01] WARNING: /workspace/src/objective/regression_obj.cu:152: reg:linear is now deprecated in favor of reg:squarederror.\n",
            "[09:24:02] WARNING: /workspace/src/objective/regression_obj.cu:152: reg:linear is now deprecated in favor of reg:squarederror.\n",
            "[09:24:05] WARNING: /workspace/src/objective/regression_obj.cu:152: reg:linear is now deprecated in favor of reg:squarederror.\n",
            "[09:24:07] WARNING: /workspace/src/objective/regression_obj.cu:152: reg:linear is now deprecated in favor of reg:squarederror.\n",
            "[09:24:10] WARNING: /workspace/src/objective/regression_obj.cu:152: reg:linear is now deprecated in favor of reg:squarederror.\n",
            "[09:24:12] WARNING: /workspace/src/objective/regression_obj.cu:152: reg:linear is now deprecated in favor of reg:squarederror.\n",
            "[09:24:15] WARNING: /workspace/src/objective/regression_obj.cu:152: reg:linear is now deprecated in favor of reg:squarederror.\n",
            "1.002\n",
            "[09:24:18] WARNING: /workspace/src/objective/regression_obj.cu:152: reg:linear is now deprecated in favor of reg:squarederror.\n",
            "[09:24:19] WARNING: /workspace/src/objective/regression_obj.cu:152: reg:linear is now deprecated in favor of reg:squarederror.\n",
            "[09:24:20] WARNING: /workspace/src/objective/regression_obj.cu:152: reg:linear is now deprecated in favor of reg:squarederror.\n",
            "[09:24:21] WARNING: /workspace/src/objective/regression_obj.cu:152: reg:linear is now deprecated in favor of reg:squarederror.\n",
            "[09:24:23] WARNING: /workspace/src/objective/regression_obj.cu:152: reg:linear is now deprecated in favor of reg:squarederror.\n",
            "[09:24:24] WARNING: /workspace/src/objective/regression_obj.cu:152: reg:linear is now deprecated in favor of reg:squarederror.\n",
            "[09:24:26] WARNING: /workspace/src/objective/regression_obj.cu:152: reg:linear is now deprecated in favor of reg:squarederror.\n",
            "[09:24:29] WARNING: /workspace/src/objective/regression_obj.cu:152: reg:linear is now deprecated in favor of reg:squarederror.\n",
            "[09:24:31] WARNING: /workspace/src/objective/regression_obj.cu:152: reg:linear is now deprecated in favor of reg:squarederror.\n",
            "[09:24:34] WARNING: /workspace/src/objective/regression_obj.cu:152: reg:linear is now deprecated in favor of reg:squarederror.\n",
            "[09:24:36] WARNING: /workspace/src/objective/regression_obj.cu:152: reg:linear is now deprecated in favor of reg:squarederror.\n",
            "1.002\n",
            "1.01\n",
            "1.01\n",
            "1.059\n",
            "1.059\n"
          ],
          "name": "stdout"
        }
      ]
    },
    {
      "cell_type": "code",
      "metadata": {
        "id": "BRGNa1h4g3dA",
        "colab_type": "code",
        "colab": {
          "base_uri": "https://localhost:8080/",
          "height": 34
        },
        "outputId": "ca1fe2fc-5703-4761-cbea-e1623376ef8c"
      },
      "source": [
        "lcl.final()"
      ],
      "execution_count": 21,
      "outputs": [
        {
          "output_type": "stream",
          "text": [
            "0.959\n"
          ],
          "name": "stdout"
        }
      ]
    },
    {
      "cell_type": "code",
      "metadata": {
        "id": "YwQfsOrtg5SE",
        "colab_type": "code",
        "colab": {
          "base_uri": "https://localhost:8080/",
          "height": 34
        },
        "outputId": "f4023e87-4c73-429d-8bb5-0fa6ab27d607"
      },
      "source": [
        "trst.final()"
      ],
      "execution_count": 22,
      "outputs": [
        {
          "output_type": "stream",
          "text": [
            "1.0\n"
          ],
          "name": "stdout"
        }
      ]
    },
    {
      "cell_type": "code",
      "metadata": {
        "id": "Wy0-u5Bag5uk",
        "colab_type": "code",
        "colab": {}
      },
      "source": [
        "lcl_temp = lcl.make_temp()"
      ],
      "execution_count": 23,
      "outputs": []
    },
    {
      "cell_type": "code",
      "metadata": {
        "id": "SBinjcQLg66F",
        "colab_type": "code",
        "colab": {}
      },
      "source": [
        "trst_temp = trst.make_temp()"
      ],
      "execution_count": 24,
      "outputs": []
    },
    {
      "cell_type": "code",
      "metadata": {
        "id": "8xzZOlmsg8M8",
        "colab_type": "code",
        "colab": {}
      },
      "source": [
        "lcl_sub = lcl.make_sub(lcl_temp)"
      ],
      "execution_count": 25,
      "outputs": []
    },
    {
      "cell_type": "code",
      "metadata": {
        "id": "mUpVJD4Jg897",
        "colab_type": "code",
        "colab": {}
      },
      "source": [
        "trst_sub = trst.make_sub(trst_temp)"
      ],
      "execution_count": 26,
      "outputs": []
    },
    {
      "cell_type": "code",
      "metadata": {
        "id": "KXRz_iMZtRGD",
        "colab_type": "code",
        "colab": {
          "base_uri": "https://localhost:8080/",
          "height": 402
        },
        "outputId": "07bf1baf-82cc-4c01-d28b-e0901290d748"
      },
      "source": [
        "lcl_sub"
      ],
      "execution_count": 32,
      "outputs": [
        {
          "output_type": "execute_result",
          "data": {
            "text/html": [
              "<div>\n",
              "<style scoped>\n",
              "    .dataframe tbody tr th:only-of-type {\n",
              "        vertical-align: middle;\n",
              "    }\n",
              "\n",
              "    .dataframe tbody tr th {\n",
              "        vertical-align: top;\n",
              "    }\n",
              "\n",
              "    .dataframe thead th {\n",
              "        text-align: right;\n",
              "    }\n",
              "</style>\n",
              "<table border=\"1\" class=\"dataframe\">\n",
              "  <thead>\n",
              "    <tr style=\"text-align: right;\">\n",
              "      <th></th>\n",
              "      <th>REG_YYMM</th>\n",
              "      <th>CARD_SIDO_NM</th>\n",
              "      <th>STD_CLSS_NM</th>\n",
              "      <th>AMT</th>\n",
              "    </tr>\n",
              "  </thead>\n",
              "  <tbody>\n",
              "    <tr>\n",
              "      <th>0</th>\n",
              "      <td>202004</td>\n",
              "      <td>강원</td>\n",
              "      <td>골프장 운영업</td>\n",
              "      <td>1.118174e+09</td>\n",
              "    </tr>\n",
              "    <tr>\n",
              "      <th>1</th>\n",
              "      <td>202004</td>\n",
              "      <td>강원</td>\n",
              "      <td>과실 및 채소 소매업</td>\n",
              "      <td>1.438270e+09</td>\n",
              "    </tr>\n",
              "    <tr>\n",
              "      <th>2</th>\n",
              "      <td>202004</td>\n",
              "      <td>강원</td>\n",
              "      <td>관광 민예품 및 선물용품 소매업</td>\n",
              "      <td>1.510596e+09</td>\n",
              "    </tr>\n",
              "    <tr>\n",
              "      <th>3</th>\n",
              "      <td>202004</td>\n",
              "      <td>강원</td>\n",
              "      <td>그외 기타 종합 소매업</td>\n",
              "      <td>1.972877e+08</td>\n",
              "    </tr>\n",
              "    <tr>\n",
              "      <th>4</th>\n",
              "      <td>202004</td>\n",
              "      <td>강원</td>\n",
              "      <td>기타 대형 종합 소매업</td>\n",
              "      <td>4.278686e+08</td>\n",
              "    </tr>\n",
              "    <tr>\n",
              "      <th>...</th>\n",
              "      <td>...</td>\n",
              "      <td>...</td>\n",
              "      <td>...</td>\n",
              "      <td>...</td>\n",
              "    </tr>\n",
              "    <tr>\n",
              "      <th>59</th>\n",
              "      <td>202007</td>\n",
              "      <td>강원</td>\n",
              "      <td>피자 햄버거 샌드위치 및 유사 음식점업</td>\n",
              "      <td>1.764559e+09</td>\n",
              "    </tr>\n",
              "    <tr>\n",
              "      <th>60</th>\n",
              "      <td>202007</td>\n",
              "      <td>강원</td>\n",
              "      <td>한식 음식점업</td>\n",
              "      <td>2.963223e+10</td>\n",
              "    </tr>\n",
              "    <tr>\n",
              "      <th>61</th>\n",
              "      <td>202007</td>\n",
              "      <td>강원</td>\n",
              "      <td>호텔업</td>\n",
              "      <td>2.274622e+09</td>\n",
              "    </tr>\n",
              "    <tr>\n",
              "      <th>62</th>\n",
              "      <td>202007</td>\n",
              "      <td>강원</td>\n",
              "      <td>화장품 및 방향제 소매업</td>\n",
              "      <td>1.005212e+09</td>\n",
              "    </tr>\n",
              "    <tr>\n",
              "      <th>63</th>\n",
              "      <td>202007</td>\n",
              "      <td>강원</td>\n",
              "      <td>휴양콘도 운영업</td>\n",
              "      <td>5.087813e+08</td>\n",
              "    </tr>\n",
              "  </tbody>\n",
              "</table>\n",
              "<p>64 rows × 4 columns</p>\n",
              "</div>"
            ],
            "text/plain": [
              "    REG_YYMM CARD_SIDO_NM            STD_CLSS_NM           AMT\n",
              "0     202004           강원                골프장 운영업  1.118174e+09\n",
              "1     202004           강원            과실 및 채소 소매업  1.438270e+09\n",
              "2     202004           강원      관광 민예품 및 선물용품 소매업  1.510596e+09\n",
              "3     202004           강원           그외 기타 종합 소매업  1.972877e+08\n",
              "4     202004           강원           기타 대형 종합 소매업  4.278686e+08\n",
              "..       ...          ...                    ...           ...\n",
              "59    202007           강원  피자 햄버거 샌드위치 및 유사 음식점업  1.764559e+09\n",
              "60    202007           강원                한식 음식점업  2.963223e+10\n",
              "61    202007           강원                    호텔업  2.274622e+09\n",
              "62    202007           강원          화장품 및 방향제 소매업  1.005212e+09\n",
              "63    202007           강원               휴양콘도 운영업  5.087813e+08\n",
              "\n",
              "[64 rows x 4 columns]"
            ]
          },
          "metadata": {
            "tags": []
          },
          "execution_count": 32
        }
      ]
    },
    {
      "cell_type": "code",
      "metadata": {
        "id": "QWaExRJerQg4",
        "colab_type": "code",
        "colab": {
          "base_uri": "https://localhost:8080/",
          "height": 402
        },
        "outputId": "131bc716-162d-4880-c982-f70ff3be3235"
      },
      "source": [
        "trst_sub"
      ],
      "execution_count": 27,
      "outputs": [
        {
          "output_type": "execute_result",
          "data": {
            "text/html": [
              "<div>\n",
              "<style scoped>\n",
              "    .dataframe tbody tr th:only-of-type {\n",
              "        vertical-align: middle;\n",
              "    }\n",
              "\n",
              "    .dataframe tbody tr th {\n",
              "        vertical-align: top;\n",
              "    }\n",
              "\n",
              "    .dataframe thead th {\n",
              "        text-align: right;\n",
              "    }\n",
              "</style>\n",
              "<table border=\"1\" class=\"dataframe\">\n",
              "  <thead>\n",
              "    <tr style=\"text-align: right;\">\n",
              "      <th></th>\n",
              "      <th>REG_YYMM</th>\n",
              "      <th>CARD_SIDO_NM</th>\n",
              "      <th>STD_CLSS_NM</th>\n",
              "      <th>AMT</th>\n",
              "    </tr>\n",
              "  </thead>\n",
              "  <tbody>\n",
              "    <tr>\n",
              "      <th>0</th>\n",
              "      <td>202004</td>\n",
              "      <td>강원</td>\n",
              "      <td>골프장 운영업</td>\n",
              "      <td>7.922751e+09</td>\n",
              "    </tr>\n",
              "    <tr>\n",
              "      <th>1</th>\n",
              "      <td>202004</td>\n",
              "      <td>강원</td>\n",
              "      <td>과실 및 채소 소매업</td>\n",
              "      <td>1.723494e+09</td>\n",
              "    </tr>\n",
              "    <tr>\n",
              "      <th>2</th>\n",
              "      <td>202004</td>\n",
              "      <td>강원</td>\n",
              "      <td>관광 민예품 및 선물용품 소매업</td>\n",
              "      <td>9.806363e+08</td>\n",
              "    </tr>\n",
              "    <tr>\n",
              "      <th>3</th>\n",
              "      <td>202004</td>\n",
              "      <td>강원</td>\n",
              "      <td>그외 기타 종합 소매업</td>\n",
              "      <td>2.279472e+09</td>\n",
              "    </tr>\n",
              "    <tr>\n",
              "      <th>4</th>\n",
              "      <td>202004</td>\n",
              "      <td>강원</td>\n",
              "      <td>기타 대형 종합 소매업</td>\n",
              "      <td>2.886123e+09</td>\n",
              "    </tr>\n",
              "    <tr>\n",
              "      <th>...</th>\n",
              "      <td>...</td>\n",
              "      <td>...</td>\n",
              "      <td>...</td>\n",
              "      <td>...</td>\n",
              "    </tr>\n",
              "    <tr>\n",
              "      <th>59</th>\n",
              "      <td>202007</td>\n",
              "      <td>강원</td>\n",
              "      <td>피자 햄버거 샌드위치 및 유사 음식점업</td>\n",
              "      <td>2.573601e+08</td>\n",
              "    </tr>\n",
              "    <tr>\n",
              "      <th>60</th>\n",
              "      <td>202007</td>\n",
              "      <td>강원</td>\n",
              "      <td>한식 음식점업</td>\n",
              "      <td>1.939143e+09</td>\n",
              "    </tr>\n",
              "    <tr>\n",
              "      <th>61</th>\n",
              "      <td>202007</td>\n",
              "      <td>강원</td>\n",
              "      <td>호텔업</td>\n",
              "      <td>2.716570e+09</td>\n",
              "    </tr>\n",
              "    <tr>\n",
              "      <th>62</th>\n",
              "      <td>202007</td>\n",
              "      <td>강원</td>\n",
              "      <td>화장품 및 방향제 소매업</td>\n",
              "      <td>1.961601e+09</td>\n",
              "    </tr>\n",
              "    <tr>\n",
              "      <th>63</th>\n",
              "      <td>202007</td>\n",
              "      <td>강원</td>\n",
              "      <td>휴양콘도 운영업</td>\n",
              "      <td>1.805635e+09</td>\n",
              "    </tr>\n",
              "  </tbody>\n",
              "</table>\n",
              "<p>64 rows × 4 columns</p>\n",
              "</div>"
            ],
            "text/plain": [
              "    REG_YYMM CARD_SIDO_NM            STD_CLSS_NM           AMT\n",
              "0     202004           강원                골프장 운영업  7.922751e+09\n",
              "1     202004           강원            과실 및 채소 소매업  1.723494e+09\n",
              "2     202004           강원      관광 민예품 및 선물용품 소매업  9.806363e+08\n",
              "3     202004           강원           그외 기타 종합 소매업  2.279472e+09\n",
              "4     202004           강원           기타 대형 종합 소매업  2.886123e+09\n",
              "..       ...          ...                    ...           ...\n",
              "59    202007           강원  피자 햄버거 샌드위치 및 유사 음식점업  2.573601e+08\n",
              "60    202007           강원                한식 음식점업  1.939143e+09\n",
              "61    202007           강원                    호텔업  2.716570e+09\n",
              "62    202007           강원          화장품 및 방향제 소매업  1.961601e+09\n",
              "63    202007           강원               휴양콘도 운영업  1.805635e+09\n",
              "\n",
              "[64 rows x 4 columns]"
            ]
          },
          "metadata": {
            "tags": []
          },
          "execution_count": 27
        }
      ]
    },
    {
      "cell_type": "code",
      "metadata": {
        "id": "Gy3pMHf9dStn",
        "colab_type": "code",
        "colab": {}
      },
      "source": [
        "test = train[['REG_YYMM', 'CARD_SIDO_NM', 'STD_CLSS_NM', 'AMT']]"
      ],
      "execution_count": 28,
      "outputs": []
    },
    {
      "cell_type": "code",
      "metadata": {
        "id": "ZTiGuKSjb1KP",
        "colab_type": "code",
        "colab": {}
      },
      "source": [
        "test = test[test['REG_YYMM'] == 202003]"
      ],
      "execution_count": 29,
      "outputs": []
    },
    {
      "cell_type": "code",
      "metadata": {
        "id": "CLMc0vlfchFU",
        "colab_type": "code",
        "colab": {}
      },
      "source": [
        "test = test[test['CARD_SIDO_NM'] == '강원']"
      ],
      "execution_count": 30,
      "outputs": []
    },
    {
      "cell_type": "code",
      "metadata": {
        "id": "4tmB_cWUc9BS",
        "colab_type": "code",
        "colab": {
          "base_uri": "https://localhost:8080/",
          "height": 1000
        },
        "outputId": "610e2629-2e82-4a9e-eefa-d9cc681bf470"
      },
      "source": [
        "test.groupby(['REG_YYMM','STD_CLSS_NM']).sum()"
      ],
      "execution_count": 31,
      "outputs": [
        {
          "output_type": "execute_result",
          "data": {
            "text/html": [
              "<div>\n",
              "<style scoped>\n",
              "    .dataframe tbody tr th:only-of-type {\n",
              "        vertical-align: middle;\n",
              "    }\n",
              "\n",
              "    .dataframe tbody tr th {\n",
              "        vertical-align: top;\n",
              "    }\n",
              "\n",
              "    .dataframe thead th {\n",
              "        text-align: right;\n",
              "    }\n",
              "</style>\n",
              "<table border=\"1\" class=\"dataframe\">\n",
              "  <thead>\n",
              "    <tr style=\"text-align: right;\">\n",
              "      <th></th>\n",
              "      <th></th>\n",
              "      <th>AMT</th>\n",
              "    </tr>\n",
              "    <tr>\n",
              "      <th>REG_YYMM</th>\n",
              "      <th>STD_CLSS_NM</th>\n",
              "      <th></th>\n",
              "    </tr>\n",
              "  </thead>\n",
              "  <tbody>\n",
              "    <tr>\n",
              "      <th rowspan=\"36\" valign=\"top\">202003</th>\n",
              "      <th>건강보조식품 소매업</th>\n",
              "      <td>96059012</td>\n",
              "    </tr>\n",
              "    <tr>\n",
              "      <th>골프장 운영업</th>\n",
              "      <td>2915797995</td>\n",
              "    </tr>\n",
              "    <tr>\n",
              "      <th>과실 및 채소 소매업</th>\n",
              "      <td>994816943</td>\n",
              "    </tr>\n",
              "    <tr>\n",
              "      <th>관광 민예품 및 선물용품 소매업</th>\n",
              "      <td>13317300</td>\n",
              "    </tr>\n",
              "    <tr>\n",
              "      <th>그외 기타 스포츠시설 운영업</th>\n",
              "      <td>2075000</td>\n",
              "    </tr>\n",
              "    <tr>\n",
              "      <th>그외 기타 종합 소매업</th>\n",
              "      <td>470200240</td>\n",
              "    </tr>\n",
              "    <tr>\n",
              "      <th>기타 대형 종합 소매업</th>\n",
              "      <td>6384110710</td>\n",
              "    </tr>\n",
              "    <tr>\n",
              "      <th>기타 수상오락 서비스업</th>\n",
              "      <td>261000</td>\n",
              "    </tr>\n",
              "    <tr>\n",
              "      <th>기타 외국식 음식점업</th>\n",
              "      <td>887636153</td>\n",
              "    </tr>\n",
              "    <tr>\n",
              "      <th>기타 주점업</th>\n",
              "      <td>250737400</td>\n",
              "    </tr>\n",
              "    <tr>\n",
              "      <th>기타음식료품위주종합소매업</th>\n",
              "      <td>8543165454</td>\n",
              "    </tr>\n",
              "    <tr>\n",
              "      <th>내항 여객 운송업</th>\n",
              "      <td>458000</td>\n",
              "    </tr>\n",
              "    <tr>\n",
              "      <th>마사지업</th>\n",
              "      <td>14461000</td>\n",
              "    </tr>\n",
              "    <tr>\n",
              "      <th>비알콜 음료점업</th>\n",
              "      <td>902984583</td>\n",
              "    </tr>\n",
              "    <tr>\n",
              "      <th>빵 및 과자류 소매업</th>\n",
              "      <td>1143257530</td>\n",
              "    </tr>\n",
              "    <tr>\n",
              "      <th>서양식 음식점업</th>\n",
              "      <td>1728089290</td>\n",
              "    </tr>\n",
              "    <tr>\n",
              "      <th>수산물 소매업</th>\n",
              "      <td>517573130</td>\n",
              "    </tr>\n",
              "    <tr>\n",
              "      <th>슈퍼마켓</th>\n",
              "      <td>10697999602</td>\n",
              "    </tr>\n",
              "    <tr>\n",
              "      <th>스포츠 및 레크레이션 용품 임대업</th>\n",
              "      <td>2192114606</td>\n",
              "    </tr>\n",
              "    <tr>\n",
              "      <th>여관업</th>\n",
              "      <td>348418711</td>\n",
              "    </tr>\n",
              "    <tr>\n",
              "      <th>여행사업</th>\n",
              "      <td>77745150</td>\n",
              "    </tr>\n",
              "    <tr>\n",
              "      <th>욕탕업</th>\n",
              "      <td>150125300</td>\n",
              "    </tr>\n",
              "    <tr>\n",
              "      <th>육류 소매업</th>\n",
              "      <td>1791210193</td>\n",
              "    </tr>\n",
              "    <tr>\n",
              "      <th>일반유흥 주점업</th>\n",
              "      <td>966787830</td>\n",
              "    </tr>\n",
              "    <tr>\n",
              "      <th>일식 음식점업</th>\n",
              "      <td>1229888938</td>\n",
              "    </tr>\n",
              "    <tr>\n",
              "      <th>자동차 임대업</th>\n",
              "      <td>4607000</td>\n",
              "    </tr>\n",
              "    <tr>\n",
              "      <th>전시 및 행사 대행업</th>\n",
              "      <td>46249060</td>\n",
              "    </tr>\n",
              "    <tr>\n",
              "      <th>중식 음식점업</th>\n",
              "      <td>1317951278</td>\n",
              "    </tr>\n",
              "    <tr>\n",
              "      <th>차량용 가스 충전업</th>\n",
              "      <td>506599405</td>\n",
              "    </tr>\n",
              "    <tr>\n",
              "      <th>차량용 주유소 운영업</th>\n",
              "      <td>14951456819</td>\n",
              "    </tr>\n",
              "    <tr>\n",
              "      <th>체인화 편의점</th>\n",
              "      <td>8169183294</td>\n",
              "    </tr>\n",
              "    <tr>\n",
              "      <th>피자 햄버거 샌드위치 및 유사 음식점업</th>\n",
              "      <td>1275528331</td>\n",
              "    </tr>\n",
              "    <tr>\n",
              "      <th>한식 음식점업</th>\n",
              "      <td>18063288995</td>\n",
              "    </tr>\n",
              "    <tr>\n",
              "      <th>호텔업</th>\n",
              "      <td>367560828</td>\n",
              "    </tr>\n",
              "    <tr>\n",
              "      <th>화장품 및 방향제 소매업</th>\n",
              "      <td>452924705</td>\n",
              "    </tr>\n",
              "    <tr>\n",
              "      <th>휴양콘도 운영업</th>\n",
              "      <td>559876015</td>\n",
              "    </tr>\n",
              "  </tbody>\n",
              "</table>\n",
              "</div>"
            ],
            "text/plain": [
              "                                        AMT\n",
              "REG_YYMM STD_CLSS_NM                       \n",
              "202003   건강보조식품 소매업                96059012\n",
              "         골프장 운영업                 2915797995\n",
              "         과실 및 채소 소매업              994816943\n",
              "         관광 민예품 및 선물용품 소매업         13317300\n",
              "         그외 기타 스포츠시설 운영업            2075000\n",
              "         그외 기타 종합 소매업             470200240\n",
              "         기타 대형 종합 소매업            6384110710\n",
              "         기타 수상오락 서비스업                261000\n",
              "         기타 외국식 음식점업              887636153\n",
              "         기타 주점업                   250737400\n",
              "         기타음식료품위주종합소매업           8543165454\n",
              "         내항 여객 운송업                   458000\n",
              "         마사지업                      14461000\n",
              "         비알콜 음료점업                 902984583\n",
              "         빵 및 과자류 소매업             1143257530\n",
              "         서양식 음식점업                1728089290\n",
              "         수산물 소매업                  517573130\n",
              "         슈퍼마켓                   10697999602\n",
              "         스포츠 및 레크레이션 용품 임대업      2192114606\n",
              "         여관업                      348418711\n",
              "         여행사업                      77745150\n",
              "         욕탕업                      150125300\n",
              "         육류 소매업                  1791210193\n",
              "         일반유흥 주점업                 966787830\n",
              "         일식 음식점업                 1229888938\n",
              "         자동차 임대업                    4607000\n",
              "         전시 및 행사 대행업               46249060\n",
              "         중식 음식점업                 1317951278\n",
              "         차량용 가스 충전업               506599405\n",
              "         차량용 주유소 운영업            14951456819\n",
              "         체인화 편의점                 8169183294\n",
              "         피자 햄버거 샌드위치 및 유사 음식점업   1275528331\n",
              "         한식 음식점업                18063288995\n",
              "         호텔업                      367560828\n",
              "         화장품 및 방향제 소매업            452924705\n",
              "         휴양콘도 운영업                 559876015"
            ]
          },
          "metadata": {
            "tags": []
          },
          "execution_count": 31
        }
      ]
    },
    {
      "cell_type": "code",
      "metadata": {
        "id": "J_VsTnRPdgHh",
        "colab_type": "code",
        "colab": {}
      },
      "source": [
        ""
      ],
      "execution_count": 31,
      "outputs": []
    }
  ]
}