{
  "nbformat": 4,
  "nbformat_minor": 0,
  "metadata": {
    "colab": {
      "name": "Jeju_GW.ipynb",
      "provenance": [],
      "machine_shape": "hm",
      "mount_file_id": "1tHFUaCCiuBzrlIl31qNih7UGa1K6_xKl",
      "authorship_tag": "ABX9TyO+kCxty/WeFC9/RcFLnbUR",
      "include_colab_link": true
    },
    "kernelspec": {
      "name": "python3",
      "display_name": "Python 3"
    },
    "accelerator": "GPU"
  },
  "cells": [
    {
      "cell_type": "markdown",
      "metadata": {
        "id": "view-in-github",
        "colab_type": "text"
      },
      "source": [
        "<a href=\"https://colab.research.google.com/github/runnin123/Jeju_Bigdata/blob/master/Jeju_GW.ipynb\" target=\"_parent\"><img src=\"https://colab.research.google.com/assets/colab-badge.svg\" alt=\"Open In Colab\"/></a>"
      ]
    },
    {
      "cell_type": "code",
      "metadata": {
        "id": "LSOzARb-r3Gd",
        "colab_type": "code",
        "colab": {}
      },
      "source": [
        "from google.colab import auth\n",
        "auth.authenticate_user()"
      ],
      "execution_count": 26,
      "outputs": []
    },
    {
      "cell_type": "code",
      "metadata": {
        "id": "vRoOwMMosnEL",
        "colab_type": "code",
        "colab": {}
      },
      "source": [
        "from google.cloud import bigquery\n",
        "from tabulate import tabulate\n",
        "import pandas as pd\n",
        "import numpy as np\n",
        "import sklearn\n",
        "from sklearn.preprocessing import LabelEncoder\n",
        "from xgboost import XGBRegressor\n",
        "from lightgbm import LGBMRegressor\n",
        "from sklearn.ensemble import GradientBoostingRegressor\n",
        "from sklearn.linear_model import LinearRegression\n",
        "\n",
        "from itertools import product\n",
        "\n",
        "# 평가 메트릭\n",
        "from sklearn.metrics import mean_squared_error, mean_absolute_error\n",
        "\n",
        "# 통계\n",
        "from scipy import stats\n",
        "from scipy.stats import norm, skew #for some statistics\n",
        "\n",
        "from sklearn.base import BaseEstimator, TransformerMixin, RegressorMixin, clone\n",
        "from sklearn.model_selection import KFold, cross_val_score, train_test_split, GridSearchCV\n",
        "from sklearn.metrics import mean_squared_error"
      ],
      "execution_count": 27,
      "outputs": []
    },
    {
      "cell_type": "code",
      "metadata": {
        "id": "2omC-mzTsuzl",
        "colab_type": "code",
        "colab": {}
      },
      "source": [
        "class Model:\n",
        "    def __init__(self, data, num):\n",
        "        self.X_train = data[0]\n",
        "        self.X_test = data[1]\n",
        "        self.y_train = data[2]\n",
        "        self.y_test = data[3]\n",
        "        self.encoding_data = num\n",
        "\n",
        "    def rmsle(self, y, pred): \n",
        "        log_y = np.log1p(y)\n",
        "        log_pred = np.log1p(pred)\n",
        "        squared_error = (log_y - log_pred)**2\n",
        "        rmsle = np.sqrt(np.mean(squared_error))\n",
        "        print(round(rmsle, 3))\n",
        "\n",
        "        return round(rmsle, 3)\n",
        "\n",
        "    def best_params_model(self, model, params):\n",
        "        cv_model = GridSearchCV(model, param_grid=params, scoring=\"neg_mean_squared_error\", cv = 5)\n",
        "        cv_model.fit(self.X_train, self.y_train)\n",
        "        eval_pred = cv_model.predict(self.X_test)\n",
        "        eval_pred = np.expm1(eval_pred)\n",
        "        rmsle_ = self.rmsle(self.y_test, eval_pred)\n",
        "\n",
        "        return  cv_model.best_estimator_, rmsle_\n",
        "\n",
        "    def get_model(self):\n",
        "        xgb = XGBRegressor(random_state=0)\n",
        "        gbm = GradientBoostingRegressor(random_state=0)\n",
        "        lgb = LGBMRegressor(random_state=0)\n",
        "\n",
        "        params = {'n_estimators': [1000, 2000]}\n",
        "\n",
        "        models = [xgb, gbm, lgb]\n",
        "        best_models = []\n",
        "        rmsles = []\n",
        "        \n",
        "        for model in models:\n",
        "            new_model = self.best_params_model(model, params)[0]\n",
        "            new_rmsle = self.best_params_model(model, params)[1]\n",
        "            best_models.append(new_model)\n",
        "            rmsles.append(new_rmsle)\n",
        "\n",
        "        self.xgb_reg = best_models[0]\n",
        "        self.gbm_reg = best_models[1]\n",
        "        self.lgb_reg = best_models[2]\n",
        "\n",
        "        self.xgb_rmsle = rmsles[0]\n",
        "        self.gbm_rmsle = rmsles[1]\n",
        "        self.lgb_rmsle = rmsles[2]\n",
        "\n",
        "    def final(self):\n",
        "\n",
        "        xgb_pred = self.xgb_reg.predict(self.X_test)\n",
        "        xgb_pred = np.expm1(xgb_pred)\n",
        "\n",
        "        gbm_pred = self.gbm_reg.predict(self.X_test)\n",
        "        gbm_pred = np.expm1(gbm_pred)\n",
        "\n",
        "        lgb_pred = self.lgb_reg.predict(self.X_test)\n",
        "        lgb_pred = np.expm1(lgb_pred)\n",
        "\n",
        "        pred = np.array([xgb_pred, gbm_pred, lgb_pred])\n",
        "        pred = np.transpose(pred)\n",
        "\n",
        "        rmsle_sum = self.xgb_rmsle + self.gbm_rmsle + self.lgb_rmsle\n",
        "\n",
        "        self.xgb_per = self.xgb_rmsle / rmsle_sum\n",
        "        self.gbm_per = self.gbm_rmsle / rmsle_sum\n",
        "        self.lgb_per = self.lgb_rmsle / rmsle_sum\n",
        "        \n",
        "        final = xgb_pred*self.xgb_per + gbm_pred*self.gbm_per + lgb_pred*self.lgb_per\n",
        "        self.rmsle(self.y_test, final)\n",
        "\n",
        "    def make_temp(self):\n",
        "        CARD_SIDO_NMs = self.encoding_data['CARD_SIDO_NM'].unique()\n",
        "        STD_CLSS_NMs  = self.encoding_data['STD_CLSS_NM'].unique()\n",
        "        HOM_SIDO_NMs  = self.encoding_data['HOM_SIDO_NM'].unique()\n",
        "        AGEs          = self.encoding_data['AGE'].unique()\n",
        "        SEX_CTGO_CDs  = self.encoding_data['SEX_CTGO_CD'].unique()\n",
        "        FLCs          = self.encoding_data['FLC'].unique()\n",
        "        years         = [2020]\n",
        "        months        = [4, 7]\n",
        "\n",
        "        comb_list = [CARD_SIDO_NMs, STD_CLSS_NMs, HOM_SIDO_NMs, AGEs, SEX_CTGO_CDs, FLCs, years, months]\n",
        "        temp = np.array(list(product(*comb_list)))\n",
        "\n",
        "        train_features = self.encoding_data.drop(['CSTMR_CNT', 'AMT', 'CNT'], axis=1)\n",
        "        tmp = pd.DataFrame(data=temp, columns=train_features.columns)\n",
        "\n",
        "        return tmp\n",
        "\n",
        "    def make_sub(self, temp):\n",
        "        xgb_pred = self.xgb_reg.predict(temp)\n",
        "        xgb_pred = np.expm1(xgb_pred)\n",
        "\n",
        "        gbm_pred = self.gbm_reg.predict(temp)\n",
        "        gbm_pred = np.expm1(gbm_pred)\n",
        "\n",
        "        lgb_pred = self.lgb_reg.predict(temp)\n",
        "        lgb_pred = np.expm1(lgb_pred)\n",
        "\n",
        "        final_rmsle = xgb_pred*self.xgb_per + gbm_pred*self.gbm_per + lgb_pred*self.lgb_per\n",
        "\n",
        "        temp['AMT'] = np.round(final_rmsle, 0)\n",
        "        temp['REG_YYMM'] = temp['year']*100 + temp['month']\n",
        "        temp = temp[['REG_YYMM', 'CARD_SIDO_NM', 'STD_CLSS_NM', 'AMT']]\n",
        "        temp = temp.groupby(['REG_YYMM', 'CARD_SIDO_NM', 'STD_CLSS_NM']).sum().reset_index(drop = False)\n",
        "\n",
        "        temp['CARD_SIDO_NM'] = encoders['CARD_SIDO_NM'].inverse_transform(temp['CARD_SIDO_NM'])\n",
        "        temp['STD_CLSS_NM'] = encoders['STD_CLSS_NM'].inverse_transform(temp['STD_CLSS_NM'])\n",
        "\n",
        "        return temp"
      ],
      "execution_count": 28,
      "outputs": []
    },
    {
      "cell_type": "code",
      "metadata": {
        "id": "9VnwhEx2typQ",
        "colab_type": "code",
        "colab": {}
      },
      "source": [
        "def sampling():\n",
        "    project_id = 'jeju-bigquery-282708'\n",
        "    client = bigquery.Client(project=project_id)\n",
        "\n",
        "    train = client.query('''\n",
        "    SELECT \n",
        "        * \n",
        "    FROM `jeju-bigquery-282708.jeju_bigdata.201901_202003_train`\n",
        "    ''').to_dataframe()\n",
        "\n",
        "    return train"
      ],
      "execution_count": 29,
      "outputs": []
    },
    {
      "cell_type": "code",
      "metadata": {
        "id": "9a6_f9j-t8Qi",
        "colab_type": "code",
        "colab": {}
      },
      "source": [
        "def grap_year(data):\n",
        "    data = str(data)\n",
        "    return int(data[:4])\n",
        "\n",
        "def grap_month(data):\n",
        "    data = str(data)\n",
        "    return int(data[4:])"
      ],
      "execution_count": 30,
      "outputs": []
    },
    {
      "cell_type": "code",
      "metadata": {
        "id": "84eBrJvLt9go",
        "colab_type": "code",
        "colab": {}
      },
      "source": [
        "def data_pre(data):\n",
        "    data = data.fillna('')\n",
        "    data['year'] = data['REG_YYMM'].apply(lambda x: grap_year(x))\n",
        "    data['month'] = data['REG_YYMM'].apply(lambda x: grap_month(x))\n",
        "    data = data.drop(['REG_YYMM'], axis = 1)\n",
        "\n",
        "    return data"
      ],
      "execution_count": 31,
      "outputs": []
    },
    {
      "cell_type": "code",
      "metadata": {
        "id": "lIxdqJ9Wt-1R",
        "colab_type": "code",
        "colab": {}
      },
      "source": [
        "def cate(data):\n",
        "    local = data[(data['CARD_SIDO_NM'] == data['HOM_SIDO_NM']) & (data['CARD_CCG_NM'] == data['HOM_CCG_NM'])].reset_index(drop = True)\n",
        "    tourist = data[(data['CARD_SIDO_NM'] != data['HOM_SIDO_NM']) | (data['CARD_CCG_NM'] != data['HOM_CCG_NM'])].reset_index(drop = True)\n",
        "    \n",
        "    local, tourist = local.drop(['CARD_CCG_NM', 'HOM_CCG_NM'], axis=1), tourist.drop(['CARD_CCG_NM', 'HOM_CCG_NM'], axis=1)\n",
        "    columns = ['CARD_SIDO_NM', 'STD_CLSS_NM', 'HOM_SIDO_NM', 'AGE', 'SEX_CTGO_CD', 'FLC', 'year', 'month']\n",
        "    local, tourist = local.groupby(columns).sum().reset_index(drop=False), tourist.groupby(columns).sum().reset_index(drop=False)\n",
        "\n",
        "    return local, tourist"
      ],
      "execution_count": 32,
      "outputs": []
    },
    {
      "cell_type": "code",
      "metadata": {
        "id": "9du4x7stuTyI",
        "colab_type": "code",
        "colab": {}
      },
      "source": [
        "def encoding(cate):\n",
        "\n",
        "    global encoders\n",
        "    dtypes_cate = cate.dtypes\n",
        "    encoders = {}\n",
        "    for column in cate.columns:\n",
        "        if str(dtypes_cate[column]) == 'object':\n",
        "            encoder = LabelEncoder()\n",
        "            encoder.fit(cate[column])\n",
        "            encoders[column] = encoder\n",
        "\n",
        "    cate_num = cate.copy()\n",
        "\n",
        "    for column in encoders.keys():\n",
        "        encoder = encoders[column]\n",
        "        cate_num[column] = encoder.transform(cate[column])\n",
        "\n",
        "    return cate_num"
      ],
      "execution_count": 33,
      "outputs": []
    },
    {
      "cell_type": "code",
      "metadata": {
        "id": "nFEUGjKIuU8t",
        "colab_type": "code",
        "colab": {}
      },
      "source": [
        "def split(cate_num):\n",
        "    split_data = []\n",
        "\n",
        "    X_data, y_data = cate_num.loc[:, cate_num.columns != 'AMT'], cate_num['AMT']\n",
        "    X_data = X_data.drop(['CSTMR_CNT', 'CNT'], axis=1)\n",
        "    X_train, X_test, y_train, y_test = train_test_split(X_data, y_data, test_size=0.3, random_state=126, shuffle=True)\n",
        "    y_train = np.log1p(y_train)\n",
        "    \n",
        "    return X_train, X_test, y_train, y_test"
      ],
      "execution_count": 34,
      "outputs": []
    },
    {
      "cell_type": "code",
      "metadata": {
        "id": "IkwxebgUug-G",
        "colab_type": "code",
        "colab": {}
      },
      "source": [
        "train = pd.read_csv('/content/drive/My Drive/Colab Notebooks/jeju/201901-202003.csv')"
      ],
      "execution_count": 35,
      "outputs": []
    },
    {
      "cell_type": "code",
      "metadata": {
        "id": "ZzEuWy8WrXre",
        "colab_type": "code",
        "colab": {}
      },
      "source": [
        "# train = train[(train['REG_YYMM'] == 202002) | (train['REG_YYMM'] == 202003)]"
      ],
      "execution_count": 36,
      "outputs": []
    },
    {
      "cell_type": "code",
      "metadata": {
        "id": "lIPfClVEB95e",
        "colab_type": "code",
        "colab": {}
      },
      "source": [
        "GW = train[train['CARD_SIDO_NM'] == '강원'].reset_index(drop = True)"
      ],
      "execution_count": 37,
      "outputs": []
    },
    {
      "cell_type": "code",
      "metadata": {
        "id": "TdQg4otOGxpd",
        "colab_type": "code",
        "colab": {
          "base_uri": "https://localhost:8080/",
          "height": 402
        },
        "outputId": "00049004-ec47-4bd9-b026-327467739036"
      },
      "source": [
        "GW = GW.sample(n = 10000).reset_index(drop = True)\n",
        "GW"
      ],
      "execution_count": 38,
      "outputs": [
        {
          "output_type": "execute_result",
          "data": {
            "text/html": [
              "<div>\n",
              "<style scoped>\n",
              "    .dataframe tbody tr th:only-of-type {\n",
              "        vertical-align: middle;\n",
              "    }\n",
              "\n",
              "    .dataframe tbody tr th {\n",
              "        vertical-align: top;\n",
              "    }\n",
              "\n",
              "    .dataframe thead th {\n",
              "        text-align: right;\n",
              "    }\n",
              "</style>\n",
              "<table border=\"1\" class=\"dataframe\">\n",
              "  <thead>\n",
              "    <tr style=\"text-align: right;\">\n",
              "      <th></th>\n",
              "      <th>REG_YYMM</th>\n",
              "      <th>CARD_SIDO_NM</th>\n",
              "      <th>CARD_CCG_NM</th>\n",
              "      <th>STD_CLSS_NM</th>\n",
              "      <th>HOM_SIDO_NM</th>\n",
              "      <th>HOM_CCG_NM</th>\n",
              "      <th>AGE</th>\n",
              "      <th>SEX_CTGO_CD</th>\n",
              "      <th>FLC</th>\n",
              "      <th>CSTMR_CNT</th>\n",
              "      <th>AMT</th>\n",
              "      <th>CNT</th>\n",
              "    </tr>\n",
              "  </thead>\n",
              "  <tbody>\n",
              "    <tr>\n",
              "      <th>0</th>\n",
              "      <td>201909</td>\n",
              "      <td>강원</td>\n",
              "      <td>정선군</td>\n",
              "      <td>한식 음식점업</td>\n",
              "      <td>경북</td>\n",
              "      <td>포항시 북구</td>\n",
              "      <td>60s</td>\n",
              "      <td>1</td>\n",
              "      <td>5</td>\n",
              "      <td>3</td>\n",
              "      <td>90000</td>\n",
              "      <td>3</td>\n",
              "    </tr>\n",
              "    <tr>\n",
              "      <th>1</th>\n",
              "      <td>201905</td>\n",
              "      <td>강원</td>\n",
              "      <td>춘천시</td>\n",
              "      <td>차량용 주유소 운영업</td>\n",
              "      <td>경기</td>\n",
              "      <td>가평군</td>\n",
              "      <td>60s</td>\n",
              "      <td>1</td>\n",
              "      <td>5</td>\n",
              "      <td>87</td>\n",
              "      <td>6309532</td>\n",
              "      <td>117</td>\n",
              "    </tr>\n",
              "    <tr>\n",
              "      <th>2</th>\n",
              "      <td>201911</td>\n",
              "      <td>강원</td>\n",
              "      <td>강릉시</td>\n",
              "      <td>한식 음식점업</td>\n",
              "      <td>서울</td>\n",
              "      <td>종로구</td>\n",
              "      <td>30s</td>\n",
              "      <td>2</td>\n",
              "      <td>2</td>\n",
              "      <td>4</td>\n",
              "      <td>165000</td>\n",
              "      <td>4</td>\n",
              "    </tr>\n",
              "    <tr>\n",
              "      <th>3</th>\n",
              "      <td>201904</td>\n",
              "      <td>강원</td>\n",
              "      <td>원주시</td>\n",
              "      <td>체인화 편의점</td>\n",
              "      <td>강원</td>\n",
              "      <td>원주시</td>\n",
              "      <td>20s</td>\n",
              "      <td>2</td>\n",
              "      <td>1</td>\n",
              "      <td>5529</td>\n",
              "      <td>101630410</td>\n",
              "      <td>19372</td>\n",
              "    </tr>\n",
              "    <tr>\n",
              "      <th>4</th>\n",
              "      <td>201903</td>\n",
              "      <td>강원</td>\n",
              "      <td>강릉시</td>\n",
              "      <td>차량용 주유소 운영업</td>\n",
              "      <td>충북</td>\n",
              "      <td>충주시</td>\n",
              "      <td>40s</td>\n",
              "      <td>1</td>\n",
              "      <td>4</td>\n",
              "      <td>3</td>\n",
              "      <td>311009</td>\n",
              "      <td>3</td>\n",
              "    </tr>\n",
              "    <tr>\n",
              "      <th>...</th>\n",
              "      <td>...</td>\n",
              "      <td>...</td>\n",
              "      <td>...</td>\n",
              "      <td>...</td>\n",
              "      <td>...</td>\n",
              "      <td>...</td>\n",
              "      <td>...</td>\n",
              "      <td>...</td>\n",
              "      <td>...</td>\n",
              "      <td>...</td>\n",
              "      <td>...</td>\n",
              "      <td>...</td>\n",
              "    </tr>\n",
              "    <tr>\n",
              "      <th>9995</th>\n",
              "      <td>201905</td>\n",
              "      <td>강원</td>\n",
              "      <td>원주시</td>\n",
              "      <td>서양식 음식점업</td>\n",
              "      <td>강원</td>\n",
              "      <td>원주시</td>\n",
              "      <td>30s</td>\n",
              "      <td>2</td>\n",
              "      <td>1</td>\n",
              "      <td>214</td>\n",
              "      <td>5065765</td>\n",
              "      <td>343</td>\n",
              "    </tr>\n",
              "    <tr>\n",
              "      <th>9996</th>\n",
              "      <td>202002</td>\n",
              "      <td>강원</td>\n",
              "      <td>횡성군</td>\n",
              "      <td>체인화 편의점</td>\n",
              "      <td>경기</td>\n",
              "      <td>성남시 중원구</td>\n",
              "      <td>40s</td>\n",
              "      <td>1</td>\n",
              "      <td>3</td>\n",
              "      <td>8</td>\n",
              "      <td>58800</td>\n",
              "      <td>12</td>\n",
              "    </tr>\n",
              "    <tr>\n",
              "      <th>9997</th>\n",
              "      <td>201907</td>\n",
              "      <td>강원</td>\n",
              "      <td>양양군</td>\n",
              "      <td>체인화 편의점</td>\n",
              "      <td>경기</td>\n",
              "      <td>수원시 장안구</td>\n",
              "      <td>50s</td>\n",
              "      <td>1</td>\n",
              "      <td>4</td>\n",
              "      <td>11</td>\n",
              "      <td>99370</td>\n",
              "      <td>11</td>\n",
              "    </tr>\n",
              "    <tr>\n",
              "      <th>9998</th>\n",
              "      <td>201901</td>\n",
              "      <td>강원</td>\n",
              "      <td>정선군</td>\n",
              "      <td>체인화 편의점</td>\n",
              "      <td>대구</td>\n",
              "      <td>달서구</td>\n",
              "      <td>30s</td>\n",
              "      <td>2</td>\n",
              "      <td>3</td>\n",
              "      <td>3</td>\n",
              "      <td>26200</td>\n",
              "      <td>4</td>\n",
              "    </tr>\n",
              "    <tr>\n",
              "      <th>9999</th>\n",
              "      <td>201906</td>\n",
              "      <td>강원</td>\n",
              "      <td>원주시</td>\n",
              "      <td>기타 대형 종합 소매업</td>\n",
              "      <td>충북</td>\n",
              "      <td>제천시</td>\n",
              "      <td>60s</td>\n",
              "      <td>1</td>\n",
              "      <td>5</td>\n",
              "      <td>27</td>\n",
              "      <td>1331770</td>\n",
              "      <td>33</td>\n",
              "    </tr>\n",
              "  </tbody>\n",
              "</table>\n",
              "<p>10000 rows × 12 columns</p>\n",
              "</div>"
            ],
            "text/plain": [
              "      REG_YYMM CARD_SIDO_NM CARD_CCG_NM  ... CSTMR_CNT        AMT    CNT\n",
              "0       201909           강원         정선군  ...         3      90000      3\n",
              "1       201905           강원         춘천시  ...        87    6309532    117\n",
              "2       201911           강원         강릉시  ...         4     165000      4\n",
              "3       201904           강원         원주시  ...      5529  101630410  19372\n",
              "4       201903           강원         강릉시  ...         3     311009      3\n",
              "...        ...          ...         ...  ...       ...        ...    ...\n",
              "9995    201905           강원         원주시  ...       214    5065765    343\n",
              "9996    202002           강원         횡성군  ...         8      58800     12\n",
              "9997    201907           강원         양양군  ...        11      99370     11\n",
              "9998    201901           강원         정선군  ...         3      26200      4\n",
              "9999    201906           강원         원주시  ...        27    1331770     33\n",
              "\n",
              "[10000 rows x 12 columns]"
            ]
          },
          "metadata": {
            "tags": []
          },
          "execution_count": 38
        }
      ]
    },
    {
      "cell_type": "code",
      "metadata": {
        "id": "rTnk2OrGgmKM",
        "colab_type": "code",
        "colab": {}
      },
      "source": [
        "data = data_pre(GW)"
      ],
      "execution_count": 39,
      "outputs": []
    },
    {
      "cell_type": "code",
      "metadata": {
        "id": "59icebrvgtSe",
        "colab_type": "code",
        "colab": {}
      },
      "source": [
        "local, tourist = cate(data)"
      ],
      "execution_count": 40,
      "outputs": []
    },
    {
      "cell_type": "code",
      "metadata": {
        "id": "0BGxzxqHguxO",
        "colab_type": "code",
        "colab": {}
      },
      "source": [
        "lcl_num, trst_num = encoding(local), encoding(tourist)"
      ],
      "execution_count": 41,
      "outputs": []
    },
    {
      "cell_type": "code",
      "metadata": {
        "id": "1uo4957YgwJv",
        "colab_type": "code",
        "colab": {}
      },
      "source": [
        "lcl_data, trst_data = split(lcl_num), split(trst_num)"
      ],
      "execution_count": 42,
      "outputs": []
    },
    {
      "cell_type": "code",
      "metadata": {
        "id": "GiQhFPE5gxEe",
        "colab_type": "code",
        "colab": {}
      },
      "source": [
        "lcl = Model(lcl_data, lcl_num)\n",
        "trst = Model(trst_data, trst_num)"
      ],
      "execution_count": 43,
      "outputs": []
    },
    {
      "cell_type": "code",
      "metadata": {
        "id": "j9JCu-Jugx-x",
        "colab_type": "code",
        "colab": {
          "base_uri": "https://localhost:8080/",
          "height": 510
        },
        "outputId": "2873e6f9-1bc8-45e8-c417-2b284d6621bd"
      },
      "source": [
        "lcl.get_model()"
      ],
      "execution_count": 44,
      "outputs": [
        {
          "output_type": "stream",
          "text": [
            "[12:26:52] WARNING: /workspace/src/objective/regression_obj.cu:152: reg:linear is now deprecated in favor of reg:squarederror.\n",
            "[12:26:53] WARNING: /workspace/src/objective/regression_obj.cu:152: reg:linear is now deprecated in favor of reg:squarederror.\n",
            "[12:26:53] WARNING: /workspace/src/objective/regression_obj.cu:152: reg:linear is now deprecated in favor of reg:squarederror.\n",
            "[12:26:53] WARNING: /workspace/src/objective/regression_obj.cu:152: reg:linear is now deprecated in favor of reg:squarederror.\n",
            "[12:26:53] WARNING: /workspace/src/objective/regression_obj.cu:152: reg:linear is now deprecated in favor of reg:squarederror.\n",
            "[12:26:54] WARNING: /workspace/src/objective/regression_obj.cu:152: reg:linear is now deprecated in favor of reg:squarederror.\n",
            "[12:26:54] WARNING: /workspace/src/objective/regression_obj.cu:152: reg:linear is now deprecated in favor of reg:squarederror.\n",
            "[12:26:55] WARNING: /workspace/src/objective/regression_obj.cu:152: reg:linear is now deprecated in favor of reg:squarederror.\n",
            "[12:26:55] WARNING: /workspace/src/objective/regression_obj.cu:152: reg:linear is now deprecated in favor of reg:squarederror.\n",
            "[12:26:56] WARNING: /workspace/src/objective/regression_obj.cu:152: reg:linear is now deprecated in favor of reg:squarederror.\n",
            "[12:26:56] WARNING: /workspace/src/objective/regression_obj.cu:152: reg:linear is now deprecated in favor of reg:squarederror.\n",
            "1.577\n",
            "[12:26:57] WARNING: /workspace/src/objective/regression_obj.cu:152: reg:linear is now deprecated in favor of reg:squarederror.\n",
            "[12:26:57] WARNING: /workspace/src/objective/regression_obj.cu:152: reg:linear is now deprecated in favor of reg:squarederror.\n",
            "[12:26:57] WARNING: /workspace/src/objective/regression_obj.cu:152: reg:linear is now deprecated in favor of reg:squarederror.\n",
            "[12:26:57] WARNING: /workspace/src/objective/regression_obj.cu:152: reg:linear is now deprecated in favor of reg:squarederror.\n",
            "[12:26:58] WARNING: /workspace/src/objective/regression_obj.cu:152: reg:linear is now deprecated in favor of reg:squarederror.\n",
            "[12:26:58] WARNING: /workspace/src/objective/regression_obj.cu:152: reg:linear is now deprecated in favor of reg:squarederror.\n",
            "[12:26:58] WARNING: /workspace/src/objective/regression_obj.cu:152: reg:linear is now deprecated in favor of reg:squarederror.\n",
            "[12:26:59] WARNING: /workspace/src/objective/regression_obj.cu:152: reg:linear is now deprecated in favor of reg:squarederror.\n",
            "[12:26:59] WARNING: /workspace/src/objective/regression_obj.cu:152: reg:linear is now deprecated in favor of reg:squarederror.\n",
            "[12:27:00] WARNING: /workspace/src/objective/regression_obj.cu:152: reg:linear is now deprecated in favor of reg:squarederror.\n",
            "[12:27:00] WARNING: /workspace/src/objective/regression_obj.cu:152: reg:linear is now deprecated in favor of reg:squarederror.\n",
            "1.577\n",
            "1.604\n",
            "1.604\n",
            "1.757\n",
            "1.757\n"
          ],
          "name": "stdout"
        }
      ]
    },
    {
      "cell_type": "code",
      "metadata": {
        "id": "DH-YHjw8g2Kz",
        "colab_type": "code",
        "colab": {
          "base_uri": "https://localhost:8080/",
          "height": 510
        },
        "outputId": "37d3d733-9795-4aca-d117-1cfe33a8f4d5"
      },
      "source": [
        "trst.get_model()"
      ],
      "execution_count": 45,
      "outputs": [
        {
          "output_type": "stream",
          "text": [
            "[12:27:24] WARNING: /workspace/src/objective/regression_obj.cu:152: reg:linear is now deprecated in favor of reg:squarederror.\n",
            "[12:27:25] WARNING: /workspace/src/objective/regression_obj.cu:152: reg:linear is now deprecated in favor of reg:squarederror.\n",
            "[12:27:27] WARNING: /workspace/src/objective/regression_obj.cu:152: reg:linear is now deprecated in favor of reg:squarederror.\n",
            "[12:27:28] WARNING: /workspace/src/objective/regression_obj.cu:152: reg:linear is now deprecated in favor of reg:squarederror.\n",
            "[12:27:29] WARNING: /workspace/src/objective/regression_obj.cu:152: reg:linear is now deprecated in favor of reg:squarederror.\n",
            "[12:27:30] WARNING: /workspace/src/objective/regression_obj.cu:152: reg:linear is now deprecated in favor of reg:squarederror.\n",
            "[12:27:33] WARNING: /workspace/src/objective/regression_obj.cu:152: reg:linear is now deprecated in favor of reg:squarederror.\n",
            "[12:27:35] WARNING: /workspace/src/objective/regression_obj.cu:152: reg:linear is now deprecated in favor of reg:squarederror.\n",
            "[12:27:38] WARNING: /workspace/src/objective/regression_obj.cu:152: reg:linear is now deprecated in favor of reg:squarederror.\n",
            "[12:27:40] WARNING: /workspace/src/objective/regression_obj.cu:152: reg:linear is now deprecated in favor of reg:squarederror.\n",
            "[12:27:43] WARNING: /workspace/src/objective/regression_obj.cu:152: reg:linear is now deprecated in favor of reg:squarederror.\n",
            "1.077\n",
            "[12:27:44] WARNING: /workspace/src/objective/regression_obj.cu:152: reg:linear is now deprecated in favor of reg:squarederror.\n",
            "[12:27:45] WARNING: /workspace/src/objective/regression_obj.cu:152: reg:linear is now deprecated in favor of reg:squarederror.\n",
            "[12:27:47] WARNING: /workspace/src/objective/regression_obj.cu:152: reg:linear is now deprecated in favor of reg:squarederror.\n",
            "[12:27:48] WARNING: /workspace/src/objective/regression_obj.cu:152: reg:linear is now deprecated in favor of reg:squarederror.\n",
            "[12:27:49] WARNING: /workspace/src/objective/regression_obj.cu:152: reg:linear is now deprecated in favor of reg:squarederror.\n",
            "[12:27:50] WARNING: /workspace/src/objective/regression_obj.cu:152: reg:linear is now deprecated in favor of reg:squarederror.\n",
            "[12:27:53] WARNING: /workspace/src/objective/regression_obj.cu:152: reg:linear is now deprecated in favor of reg:squarederror.\n",
            "[12:27:55] WARNING: /workspace/src/objective/regression_obj.cu:152: reg:linear is now deprecated in favor of reg:squarederror.\n",
            "[12:27:57] WARNING: /workspace/src/objective/regression_obj.cu:152: reg:linear is now deprecated in favor of reg:squarederror.\n",
            "[12:28:00] WARNING: /workspace/src/objective/regression_obj.cu:152: reg:linear is now deprecated in favor of reg:squarederror.\n",
            "[12:28:02] WARNING: /workspace/src/objective/regression_obj.cu:152: reg:linear is now deprecated in favor of reg:squarederror.\n",
            "1.077\n",
            "1.072\n",
            "1.072\n",
            "1.163\n",
            "1.163\n"
          ],
          "name": "stdout"
        }
      ]
    },
    {
      "cell_type": "code",
      "metadata": {
        "id": "BRGNa1h4g3dA",
        "colab_type": "code",
        "colab": {
          "base_uri": "https://localhost:8080/",
          "height": 34
        },
        "outputId": "502a2060-7456-4e11-a2ab-52a3a9c8b0a4"
      },
      "source": [
        "lcl.final()"
      ],
      "execution_count": 46,
      "outputs": [
        {
          "output_type": "stream",
          "text": [
            "1.595\n"
          ],
          "name": "stdout"
        }
      ]
    },
    {
      "cell_type": "code",
      "metadata": {
        "id": "YwQfsOrtg5SE",
        "colab_type": "code",
        "colab": {
          "base_uri": "https://localhost:8080/",
          "height": 34
        },
        "outputId": "149f9413-4bae-46ab-dbb7-54f6dbc5cb1e"
      },
      "source": [
        "trst.final()"
      ],
      "execution_count": 47,
      "outputs": [
        {
          "output_type": "stream",
          "text": [
            "1.085\n"
          ],
          "name": "stdout"
        }
      ]
    },
    {
      "cell_type": "code",
      "metadata": {
        "id": "Wy0-u5Bag5uk",
        "colab_type": "code",
        "colab": {}
      },
      "source": [
        "lcl_temp = lcl.make_temp()"
      ],
      "execution_count": 48,
      "outputs": []
    },
    {
      "cell_type": "code",
      "metadata": {
        "id": "SBinjcQLg66F",
        "colab_type": "code",
        "colab": {}
      },
      "source": [
        "trst_temp = trst.make_temp()"
      ],
      "execution_count": 49,
      "outputs": []
    },
    {
      "cell_type": "code",
      "metadata": {
        "id": "8xzZOlmsg8M8",
        "colab_type": "code",
        "colab": {}
      },
      "source": [
        "lcl_sub = lcl.make_sub(lcl_temp)"
      ],
      "execution_count": 50,
      "outputs": []
    },
    {
      "cell_type": "code",
      "metadata": {
        "id": "mUpVJD4Jg897",
        "colab_type": "code",
        "colab": {}
      },
      "source": [
        "trst_sub = trst.make_sub(trst_temp)"
      ],
      "execution_count": 51,
      "outputs": []
    },
    {
      "cell_type": "code",
      "metadata": {
        "id": "KXRz_iMZtRGD",
        "colab_type": "code",
        "colab": {
          "base_uri": "https://localhost:8080/",
          "height": 402
        },
        "outputId": "31d4a63e-e819-4184-b0fb-d7ff312a546a"
      },
      "source": [
        "lcl_sub"
      ],
      "execution_count": 52,
      "outputs": [
        {
          "output_type": "execute_result",
          "data": {
            "text/html": [
              "<div>\n",
              "<style scoped>\n",
              "    .dataframe tbody tr th:only-of-type {\n",
              "        vertical-align: middle;\n",
              "    }\n",
              "\n",
              "    .dataframe tbody tr th {\n",
              "        vertical-align: top;\n",
              "    }\n",
              "\n",
              "    .dataframe thead th {\n",
              "        text-align: right;\n",
              "    }\n",
              "</style>\n",
              "<table border=\"1\" class=\"dataframe\">\n",
              "  <thead>\n",
              "    <tr style=\"text-align: right;\">\n",
              "      <th></th>\n",
              "      <th>REG_YYMM</th>\n",
              "      <th>CARD_SIDO_NM</th>\n",
              "      <th>STD_CLSS_NM</th>\n",
              "      <th>AMT</th>\n",
              "    </tr>\n",
              "  </thead>\n",
              "  <tbody>\n",
              "    <tr>\n",
              "      <th>0</th>\n",
              "      <td>202004</td>\n",
              "      <td>강원</td>\n",
              "      <td>건강보조식품 소매업</td>\n",
              "      <td>92617967.0</td>\n",
              "    </tr>\n",
              "    <tr>\n",
              "      <th>1</th>\n",
              "      <td>202004</td>\n",
              "      <td>강원</td>\n",
              "      <td>골프장 운영업</td>\n",
              "      <td>100509557.0</td>\n",
              "    </tr>\n",
              "    <tr>\n",
              "      <th>2</th>\n",
              "      <td>202004</td>\n",
              "      <td>강원</td>\n",
              "      <td>과실 및 채소 소매업</td>\n",
              "      <td>129906810.0</td>\n",
              "    </tr>\n",
              "    <tr>\n",
              "      <th>3</th>\n",
              "      <td>202004</td>\n",
              "      <td>강원</td>\n",
              "      <td>관광 민예품 및 선물용품 소매업</td>\n",
              "      <td>78382095.0</td>\n",
              "    </tr>\n",
              "    <tr>\n",
              "      <th>4</th>\n",
              "      <td>202004</td>\n",
              "      <td>강원</td>\n",
              "      <td>그외 기타 종합 소매업</td>\n",
              "      <td>340677247.0</td>\n",
              "    </tr>\n",
              "    <tr>\n",
              "      <th>...</th>\n",
              "      <td>...</td>\n",
              "      <td>...</td>\n",
              "      <td>...</td>\n",
              "      <td>...</td>\n",
              "    </tr>\n",
              "    <tr>\n",
              "      <th>61</th>\n",
              "      <td>202007</td>\n",
              "      <td>강원</td>\n",
              "      <td>피자 햄버거 샌드위치 및 유사 음식점업</td>\n",
              "      <td>57998678.0</td>\n",
              "    </tr>\n",
              "    <tr>\n",
              "      <th>62</th>\n",
              "      <td>202007</td>\n",
              "      <td>강원</td>\n",
              "      <td>한식 음식점업</td>\n",
              "      <td>671391679.0</td>\n",
              "    </tr>\n",
              "    <tr>\n",
              "      <th>63</th>\n",
              "      <td>202007</td>\n",
              "      <td>강원</td>\n",
              "      <td>호텔업</td>\n",
              "      <td>11702247.0</td>\n",
              "    </tr>\n",
              "    <tr>\n",
              "      <th>64</th>\n",
              "      <td>202007</td>\n",
              "      <td>강원</td>\n",
              "      <td>화장품 및 방향제 소매업</td>\n",
              "      <td>33615930.0</td>\n",
              "    </tr>\n",
              "    <tr>\n",
              "      <th>65</th>\n",
              "      <td>202007</td>\n",
              "      <td>강원</td>\n",
              "      <td>휴양콘도 운영업</td>\n",
              "      <td>26602491.0</td>\n",
              "    </tr>\n",
              "  </tbody>\n",
              "</table>\n",
              "<p>66 rows × 4 columns</p>\n",
              "</div>"
            ],
            "text/plain": [
              "    REG_YYMM CARD_SIDO_NM            STD_CLSS_NM          AMT\n",
              "0     202004           강원             건강보조식품 소매업   92617967.0\n",
              "1     202004           강원                골프장 운영업  100509557.0\n",
              "2     202004           강원            과실 및 채소 소매업  129906810.0\n",
              "3     202004           강원      관광 민예품 및 선물용품 소매업   78382095.0\n",
              "4     202004           강원           그외 기타 종합 소매업  340677247.0\n",
              "..       ...          ...                    ...          ...\n",
              "61    202007           강원  피자 햄버거 샌드위치 및 유사 음식점업   57998678.0\n",
              "62    202007           강원                한식 음식점업  671391679.0\n",
              "63    202007           강원                    호텔업   11702247.0\n",
              "64    202007           강원          화장품 및 방향제 소매업   33615930.0\n",
              "65    202007           강원               휴양콘도 운영업   26602491.0\n",
              "\n",
              "[66 rows x 4 columns]"
            ]
          },
          "metadata": {
            "tags": []
          },
          "execution_count": 52
        }
      ]
    },
    {
      "cell_type": "code",
      "metadata": {
        "id": "QWaExRJerQg4",
        "colab_type": "code",
        "colab": {
          "base_uri": "https://localhost:8080/",
          "height": 402
        },
        "outputId": "71479b47-2d9d-4eba-f31a-b261f21c10fa"
      },
      "source": [
        "trst_sub"
      ],
      "execution_count": 53,
      "outputs": [
        {
          "output_type": "execute_result",
          "data": {
            "text/html": [
              "<div>\n",
              "<style scoped>\n",
              "    .dataframe tbody tr th:only-of-type {\n",
              "        vertical-align: middle;\n",
              "    }\n",
              "\n",
              "    .dataframe tbody tr th {\n",
              "        vertical-align: top;\n",
              "    }\n",
              "\n",
              "    .dataframe thead th {\n",
              "        text-align: right;\n",
              "    }\n",
              "</style>\n",
              "<table border=\"1\" class=\"dataframe\">\n",
              "  <thead>\n",
              "    <tr style=\"text-align: right;\">\n",
              "      <th></th>\n",
              "      <th>REG_YYMM</th>\n",
              "      <th>CARD_SIDO_NM</th>\n",
              "      <th>STD_CLSS_NM</th>\n",
              "      <th>AMT</th>\n",
              "    </tr>\n",
              "  </thead>\n",
              "  <tbody>\n",
              "    <tr>\n",
              "      <th>0</th>\n",
              "      <td>202004</td>\n",
              "      <td>강원</td>\n",
              "      <td>건강보조식품 소매업</td>\n",
              "      <td>283614194.0</td>\n",
              "    </tr>\n",
              "    <tr>\n",
              "      <th>1</th>\n",
              "      <td>202004</td>\n",
              "      <td>강원</td>\n",
              "      <td>골프장 운영업</td>\n",
              "      <td>561722926.0</td>\n",
              "    </tr>\n",
              "    <tr>\n",
              "      <th>2</th>\n",
              "      <td>202004</td>\n",
              "      <td>강원</td>\n",
              "      <td>과실 및 채소 소매업</td>\n",
              "      <td>87997604.0</td>\n",
              "    </tr>\n",
              "    <tr>\n",
              "      <th>3</th>\n",
              "      <td>202004</td>\n",
              "      <td>강원</td>\n",
              "      <td>관광 민예품 및 선물용품 소매업</td>\n",
              "      <td>32543010.0</td>\n",
              "    </tr>\n",
              "    <tr>\n",
              "      <th>4</th>\n",
              "      <td>202004</td>\n",
              "      <td>강원</td>\n",
              "      <td>그외 기타 종합 소매업</td>\n",
              "      <td>80525673.0</td>\n",
              "    </tr>\n",
              "    <tr>\n",
              "      <th>...</th>\n",
              "      <td>...</td>\n",
              "      <td>...</td>\n",
              "      <td>...</td>\n",
              "      <td>...</td>\n",
              "    </tr>\n",
              "    <tr>\n",
              "      <th>61</th>\n",
              "      <td>202007</td>\n",
              "      <td>강원</td>\n",
              "      <td>피자 햄버거 샌드위치 및 유사 음식점업</td>\n",
              "      <td>16715798.0</td>\n",
              "    </tr>\n",
              "    <tr>\n",
              "      <th>62</th>\n",
              "      <td>202007</td>\n",
              "      <td>강원</td>\n",
              "      <td>한식 음식점업</td>\n",
              "      <td>166471435.0</td>\n",
              "    </tr>\n",
              "    <tr>\n",
              "      <th>63</th>\n",
              "      <td>202007</td>\n",
              "      <td>강원</td>\n",
              "      <td>호텔업</td>\n",
              "      <td>154537336.0</td>\n",
              "    </tr>\n",
              "    <tr>\n",
              "      <th>64</th>\n",
              "      <td>202007</td>\n",
              "      <td>강원</td>\n",
              "      <td>화장품 및 방향제 소매업</td>\n",
              "      <td>86385641.0</td>\n",
              "    </tr>\n",
              "    <tr>\n",
              "      <th>65</th>\n",
              "      <td>202007</td>\n",
              "      <td>강원</td>\n",
              "      <td>휴양콘도 운영업</td>\n",
              "      <td>174352936.0</td>\n",
              "    </tr>\n",
              "  </tbody>\n",
              "</table>\n",
              "<p>66 rows × 4 columns</p>\n",
              "</div>"
            ],
            "text/plain": [
              "    REG_YYMM CARD_SIDO_NM            STD_CLSS_NM          AMT\n",
              "0     202004           강원             건강보조식품 소매업  283614194.0\n",
              "1     202004           강원                골프장 운영업  561722926.0\n",
              "2     202004           강원            과실 및 채소 소매업   87997604.0\n",
              "3     202004           강원      관광 민예품 및 선물용품 소매업   32543010.0\n",
              "4     202004           강원           그외 기타 종합 소매업   80525673.0\n",
              "..       ...          ...                    ...          ...\n",
              "61    202007           강원  피자 햄버거 샌드위치 및 유사 음식점업   16715798.0\n",
              "62    202007           강원                한식 음식점업  166471435.0\n",
              "63    202007           강원                    호텔업  154537336.0\n",
              "64    202007           강원          화장품 및 방향제 소매업   86385641.0\n",
              "65    202007           강원               휴양콘도 운영업  174352936.0\n",
              "\n",
              "[66 rows x 4 columns]"
            ]
          },
          "metadata": {
            "tags": []
          },
          "execution_count": 53
        }
      ]
    },
    {
      "cell_type": "code",
      "metadata": {
        "id": "Gy3pMHf9dStn",
        "colab_type": "code",
        "colab": {}
      },
      "source": [
        "test = train[['REG_YYMM', 'CARD_SIDO_NM', 'STD_CLSS_NM', 'AMT']]"
      ],
      "execution_count": 54,
      "outputs": []
    },
    {
      "cell_type": "code",
      "metadata": {
        "id": "ZTiGuKSjb1KP",
        "colab_type": "code",
        "colab": {}
      },
      "source": [
        "test = test[test['REG_YYMM'] == 202003]"
      ],
      "execution_count": 55,
      "outputs": []
    },
    {
      "cell_type": "code",
      "metadata": {
        "id": "CLMc0vlfchFU",
        "colab_type": "code",
        "colab": {}
      },
      "source": [
        "test = test[test['CARD_SIDO_NM'] == '강원']"
      ],
      "execution_count": 56,
      "outputs": []
    },
    {
      "cell_type": "code",
      "metadata": {
        "id": "4tmB_cWUc9BS",
        "colab_type": "code",
        "colab": {
          "base_uri": "https://localhost:8080/",
          "height": 1000
        },
        "outputId": "0d02cd54-3efc-4e06-df6f-e149fc5eac01"
      },
      "source": [
        "test.groupby(['REG_YYMM','STD_CLSS_NM']).sum()"
      ],
      "execution_count": 57,
      "outputs": [
        {
          "output_type": "execute_result",
          "data": {
            "text/html": [
              "<div>\n",
              "<style scoped>\n",
              "    .dataframe tbody tr th:only-of-type {\n",
              "        vertical-align: middle;\n",
              "    }\n",
              "\n",
              "    .dataframe tbody tr th {\n",
              "        vertical-align: top;\n",
              "    }\n",
              "\n",
              "    .dataframe thead th {\n",
              "        text-align: right;\n",
              "    }\n",
              "</style>\n",
              "<table border=\"1\" class=\"dataframe\">\n",
              "  <thead>\n",
              "    <tr style=\"text-align: right;\">\n",
              "      <th></th>\n",
              "      <th></th>\n",
              "      <th>AMT</th>\n",
              "    </tr>\n",
              "    <tr>\n",
              "      <th>REG_YYMM</th>\n",
              "      <th>STD_CLSS_NM</th>\n",
              "      <th></th>\n",
              "    </tr>\n",
              "  </thead>\n",
              "  <tbody>\n",
              "    <tr>\n",
              "      <th rowspan=\"36\" valign=\"top\">202003</th>\n",
              "      <th>건강보조식품 소매업</th>\n",
              "      <td>96059012</td>\n",
              "    </tr>\n",
              "    <tr>\n",
              "      <th>골프장 운영업</th>\n",
              "      <td>2915797995</td>\n",
              "    </tr>\n",
              "    <tr>\n",
              "      <th>과실 및 채소 소매업</th>\n",
              "      <td>994816943</td>\n",
              "    </tr>\n",
              "    <tr>\n",
              "      <th>관광 민예품 및 선물용품 소매업</th>\n",
              "      <td>13317300</td>\n",
              "    </tr>\n",
              "    <tr>\n",
              "      <th>그외 기타 스포츠시설 운영업</th>\n",
              "      <td>2075000</td>\n",
              "    </tr>\n",
              "    <tr>\n",
              "      <th>그외 기타 종합 소매업</th>\n",
              "      <td>470200240</td>\n",
              "    </tr>\n",
              "    <tr>\n",
              "      <th>기타 대형 종합 소매업</th>\n",
              "      <td>6384110710</td>\n",
              "    </tr>\n",
              "    <tr>\n",
              "      <th>기타 수상오락 서비스업</th>\n",
              "      <td>261000</td>\n",
              "    </tr>\n",
              "    <tr>\n",
              "      <th>기타 외국식 음식점업</th>\n",
              "      <td>887636153</td>\n",
              "    </tr>\n",
              "    <tr>\n",
              "      <th>기타 주점업</th>\n",
              "      <td>250737400</td>\n",
              "    </tr>\n",
              "    <tr>\n",
              "      <th>기타음식료품위주종합소매업</th>\n",
              "      <td>8543165454</td>\n",
              "    </tr>\n",
              "    <tr>\n",
              "      <th>내항 여객 운송업</th>\n",
              "      <td>458000</td>\n",
              "    </tr>\n",
              "    <tr>\n",
              "      <th>마사지업</th>\n",
              "      <td>14461000</td>\n",
              "    </tr>\n",
              "    <tr>\n",
              "      <th>비알콜 음료점업</th>\n",
              "      <td>902984583</td>\n",
              "    </tr>\n",
              "    <tr>\n",
              "      <th>빵 및 과자류 소매업</th>\n",
              "      <td>1143257530</td>\n",
              "    </tr>\n",
              "    <tr>\n",
              "      <th>서양식 음식점업</th>\n",
              "      <td>1728089290</td>\n",
              "    </tr>\n",
              "    <tr>\n",
              "      <th>수산물 소매업</th>\n",
              "      <td>517573130</td>\n",
              "    </tr>\n",
              "    <tr>\n",
              "      <th>슈퍼마켓</th>\n",
              "      <td>10697999602</td>\n",
              "    </tr>\n",
              "    <tr>\n",
              "      <th>스포츠 및 레크레이션 용품 임대업</th>\n",
              "      <td>2192114606</td>\n",
              "    </tr>\n",
              "    <tr>\n",
              "      <th>여관업</th>\n",
              "      <td>348418711</td>\n",
              "    </tr>\n",
              "    <tr>\n",
              "      <th>여행사업</th>\n",
              "      <td>77745150</td>\n",
              "    </tr>\n",
              "    <tr>\n",
              "      <th>욕탕업</th>\n",
              "      <td>150125300</td>\n",
              "    </tr>\n",
              "    <tr>\n",
              "      <th>육류 소매업</th>\n",
              "      <td>1791210193</td>\n",
              "    </tr>\n",
              "    <tr>\n",
              "      <th>일반유흥 주점업</th>\n",
              "      <td>966787830</td>\n",
              "    </tr>\n",
              "    <tr>\n",
              "      <th>일식 음식점업</th>\n",
              "      <td>1229888938</td>\n",
              "    </tr>\n",
              "    <tr>\n",
              "      <th>자동차 임대업</th>\n",
              "      <td>4607000</td>\n",
              "    </tr>\n",
              "    <tr>\n",
              "      <th>전시 및 행사 대행업</th>\n",
              "      <td>46249060</td>\n",
              "    </tr>\n",
              "    <tr>\n",
              "      <th>중식 음식점업</th>\n",
              "      <td>1317951278</td>\n",
              "    </tr>\n",
              "    <tr>\n",
              "      <th>차량용 가스 충전업</th>\n",
              "      <td>506599405</td>\n",
              "    </tr>\n",
              "    <tr>\n",
              "      <th>차량용 주유소 운영업</th>\n",
              "      <td>14951456819</td>\n",
              "    </tr>\n",
              "    <tr>\n",
              "      <th>체인화 편의점</th>\n",
              "      <td>8169183294</td>\n",
              "    </tr>\n",
              "    <tr>\n",
              "      <th>피자 햄버거 샌드위치 및 유사 음식점업</th>\n",
              "      <td>1275528331</td>\n",
              "    </tr>\n",
              "    <tr>\n",
              "      <th>한식 음식점업</th>\n",
              "      <td>18063288995</td>\n",
              "    </tr>\n",
              "    <tr>\n",
              "      <th>호텔업</th>\n",
              "      <td>367560828</td>\n",
              "    </tr>\n",
              "    <tr>\n",
              "      <th>화장품 및 방향제 소매업</th>\n",
              "      <td>452924705</td>\n",
              "    </tr>\n",
              "    <tr>\n",
              "      <th>휴양콘도 운영업</th>\n",
              "      <td>559876015</td>\n",
              "    </tr>\n",
              "  </tbody>\n",
              "</table>\n",
              "</div>"
            ],
            "text/plain": [
              "                                        AMT\n",
              "REG_YYMM STD_CLSS_NM                       \n",
              "202003   건강보조식품 소매업                96059012\n",
              "         골프장 운영업                 2915797995\n",
              "         과실 및 채소 소매업              994816943\n",
              "         관광 민예품 및 선물용품 소매업         13317300\n",
              "         그외 기타 스포츠시설 운영업            2075000\n",
              "         그외 기타 종합 소매업             470200240\n",
              "         기타 대형 종합 소매업            6384110710\n",
              "         기타 수상오락 서비스업                261000\n",
              "         기타 외국식 음식점업              887636153\n",
              "         기타 주점업                   250737400\n",
              "         기타음식료품위주종합소매업           8543165454\n",
              "         내항 여객 운송업                   458000\n",
              "         마사지업                      14461000\n",
              "         비알콜 음료점업                 902984583\n",
              "         빵 및 과자류 소매업             1143257530\n",
              "         서양식 음식점업                1728089290\n",
              "         수산물 소매업                  517573130\n",
              "         슈퍼마켓                   10697999602\n",
              "         스포츠 및 레크레이션 용품 임대업      2192114606\n",
              "         여관업                      348418711\n",
              "         여행사업                      77745150\n",
              "         욕탕업                      150125300\n",
              "         육류 소매업                  1791210193\n",
              "         일반유흥 주점업                 966787830\n",
              "         일식 음식점업                 1229888938\n",
              "         자동차 임대업                    4607000\n",
              "         전시 및 행사 대행업               46249060\n",
              "         중식 음식점업                 1317951278\n",
              "         차량용 가스 충전업               506599405\n",
              "         차량용 주유소 운영업            14951456819\n",
              "         체인화 편의점                 8169183294\n",
              "         피자 햄버거 샌드위치 및 유사 음식점업   1275528331\n",
              "         한식 음식점업                18063288995\n",
              "         호텔업                      367560828\n",
              "         화장품 및 방향제 소매업            452924705\n",
              "         휴양콘도 운영업                 559876015"
            ]
          },
          "metadata": {
            "tags": []
          },
          "execution_count": 57
        }
      ]
    },
    {
      "cell_type": "code",
      "metadata": {
        "id": "J_VsTnRPdgHh",
        "colab_type": "code",
        "colab": {}
      },
      "source": [
        ""
      ],
      "execution_count": 57,
      "outputs": []
    }
  ]
}