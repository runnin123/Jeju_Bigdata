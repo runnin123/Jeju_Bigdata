{
  "nbformat": 4,
  "nbformat_minor": 0,
  "metadata": {
    "colab": {
      "name": "Jeju_GW.ipynb",
      "provenance": [],
      "machine_shape": "hm",
      "mount_file_id": "1tHFUaCCiuBzrlIl31qNih7UGa1K6_xKl",
      "authorship_tag": "ABX9TyO2P3ukP6OdzyKVF5HaRuJp",
      "include_colab_link": true
    },
    "kernelspec": {
      "name": "python3",
      "display_name": "Python 3"
    },
    "accelerator": "GPU"
  },
  "cells": [
    {
      "cell_type": "markdown",
      "metadata": {
        "id": "view-in-github",
        "colab_type": "text"
      },
      "source": [
        "<a href=\"https://colab.research.google.com/github/runnin123/Jeju_Bigdata/blob/master/Jeju_GW.ipynb\" target=\"_parent\"><img src=\"https://colab.research.google.com/assets/colab-badge.svg\" alt=\"Open In Colab\"/></a>"
      ]
    },
    {
      "cell_type": "code",
      "metadata": {
        "id": "LSOzARb-r3Gd",
        "colab_type": "code",
        "colab": {}
      },
      "source": [
        "from google.colab import auth\n",
        "auth.authenticate_user()"
      ],
      "execution_count": 1,
      "outputs": []
    },
    {
      "cell_type": "code",
      "metadata": {
        "id": "vRoOwMMosnEL",
        "colab_type": "code",
        "colab": {}
      },
      "source": [
        "from google.cloud import bigquery\n",
        "from tabulate import tabulate\n",
        "import pandas as pd\n",
        "import numpy as np\n",
        "import sklearn\n",
        "from sklearn.preprocessing import LabelEncoder\n",
        "from xgboost import XGBRegressor\n",
        "from lightgbm import LGBMRegressor\n",
        "from sklearn.ensemble import GradientBoostingRegressor\n",
        "from sklearn.linear_model import LinearRegression\n",
        "\n",
        "from itertools import product\n",
        "\n",
        "# 평가 메트릭\n",
        "from sklearn.metrics import mean_squared_error, mean_absolute_error\n",
        "\n",
        "# 통계\n",
        "from scipy import stats\n",
        "from scipy.stats import norm, skew #for some statistics\n",
        "\n",
        "from sklearn.base import BaseEstimator, TransformerMixin, RegressorMixin, clone\n",
        "from sklearn.model_selection import KFold, cross_val_score, train_test_split, GridSearchCV\n",
        "from sklearn.metrics import mean_squared_error"
      ],
      "execution_count": 2,
      "outputs": []
    },
    {
      "cell_type": "code",
      "metadata": {
        "id": "2omC-mzTsuzl",
        "colab_type": "code",
        "colab": {}
      },
      "source": [
        "class Model:\n",
        "    def __init__(self, data, num):\n",
        "        self.X_train = data[0]\n",
        "        self.X_test = data[1]\n",
        "        self.y_train = data[2]\n",
        "        self.y_test = data[3]\n",
        "        self.encoding_data = num\n",
        "\n",
        "    def rmsle(self, y, pred): \n",
        "        log_y = np.log1p(y)\n",
        "        log_pred = np.log1p(pred)\n",
        "        squared_error = (log_y - log_pred)**2\n",
        "        rmsle = np.sqrt(np.mean(squared_error))\n",
        "        print(round(rmsle, 3))\n",
        "\n",
        "        return round(rmsle, 3)\n",
        "\n",
        "    def best_params_model(self, model, params):\n",
        "        cv_model = GridSearchCV(model, param_grid=params, scoring=\"neg_mean_squared_error\", cv = 5)\n",
        "        cv_model.fit(self.X_train, self.y_train)\n",
        "        eval_pred = cv_model.predict(self.X_test)\n",
        "        eval_pred = np.expm1(eval_pred)\n",
        "        rmsle_ = self.rmsle(self.y_test, eval_pred)\n",
        "\n",
        "        return  cv_model.best_estimator_, rmsle_\n",
        "\n",
        "    def get_model(self):\n",
        "        xgb = XGBRegressor(random_state=0)\n",
        "        gbm = GradientBoostingRegressor(random_state=0)\n",
        "        lgb = LGBMRegressor(random_state=0)\n",
        "\n",
        "        params = {'n_estimators': [1000, 2000]}\n",
        "\n",
        "        models = [xgb, gbm, lgb]\n",
        "        best_models = []\n",
        "        rmsles = []\n",
        "        \n",
        "        for model in models:\n",
        "            new_model = self.best_params_model(model, params)[0]\n",
        "            new_rmsle = self.best_params_model(model, params)[1]\n",
        "            best_models.append(new_model)\n",
        "            rmsles.append(new_rmsle)\n",
        "\n",
        "        self.xgb_reg = best_models[0]\n",
        "        self.gbm_reg = best_models[1]\n",
        "        self.lgb_reg = best_models[2]\n",
        "\n",
        "        self.xgb_rmsle = rmsles[0]\n",
        "        self.gbm_rmsle = rmsles[1]\n",
        "        self.lgb_rmsle = rmsles[2]\n",
        "\n",
        "    def final(self):\n",
        "\n",
        "        xgb_pred = self.xgb_reg.predict(self.X_test)\n",
        "        xgb_pred = np.expm1(xgb_pred)\n",
        "\n",
        "        gbm_pred = self.gbm_reg.predict(self.X_test)\n",
        "        gbm_pred = np.expm1(gbm_pred)\n",
        "\n",
        "        lgb_pred = self.lgb_reg.predict(self.X_test)\n",
        "        lgb_pred = np.expm1(lgb_pred)\n",
        "\n",
        "        pred = np.array([xgb_pred, gbm_pred, lgb_pred])\n",
        "        pred = np.transpose(pred)\n",
        "\n",
        "        rmsle_sum = self.xgb_rmsle + self.gbm_rmsle + self.lgb_rmsle\n",
        "\n",
        "        self.xgb_per = self.xgb_rmsle / rmsle_sum\n",
        "        self.gbm_per = self.gbm_rmsle / rmsle_sum\n",
        "        self.lgb_per = self.lgb_rmsle / rmsle_sum\n",
        "        \n",
        "        final = xgb_pred*self.xgb_per + gbm_pred*self.gbm_per + lgb_pred*self.lgb_per\n",
        "        self.rmsle(self.y_test, final)\n",
        "\n",
        "    def make_temp(self):\n",
        "        CARD_SIDO_NMs = self.encoding_data['CARD_SIDO_NM'].unique()\n",
        "        CARD_CCG_NMs = self.encoding_data['CARD_CCG_NM'].unique()\n",
        "        STD_CLSS_NMs  = self.encoding_data['STD_CLSS_NM'].unique()\n",
        "        HOM_SIDO_NMs  = self.encoding_data['HOM_SIDO_NM'].unique()\n",
        "        AGEs          = self.encoding_data['AGE'].unique()\n",
        "        SEX_CTGO_CDs  = self.encoding_data['SEX_CTGO_CD'].unique()\n",
        "        FLCs          = self.encoding_data['FLC'].unique()\n",
        "        years         = [2020]\n",
        "        months        = [4, 7]\n",
        "\n",
        "        comb_list = [CARD_SIDO_NMs, CARD_CCG_NMs, STD_CLSS_NMs, HOM_SIDO_NMs, AGEs, SEX_CTGO_CDs, FLCs, years, months]\n",
        "        temp = np.array(list(product(*comb_list)))\n",
        "\n",
        "        train_features = self.encoding_data.drop(['CSTMR_CNT', 'AMT', 'CNT'], axis=1)\n",
        "        tmp = pd.DataFrame(data=temp, columns=train_features.columns)\n",
        "\n",
        "        return tmp\n",
        "\n",
        "    def make_sub(self, temp):\n",
        "        xgb_pred = self.xgb_reg.predict(temp)\n",
        "        xgb_pred = np.expm1(xgb_pred)\n",
        "\n",
        "        gbm_pred = self.gbm_reg.predict(temp)\n",
        "        gbm_pred = np.expm1(gbm_pred)\n",
        "\n",
        "        lgb_pred = self.lgb_reg.predict(temp)\n",
        "        lgb_pred = np.expm1(lgb_pred)\n",
        "\n",
        "        final_rmsle = xgb_pred*self.xgb_per + gbm_pred*self.gbm_per + lgb_pred*self.lgb_per\n",
        "\n",
        "        temp['AMT'] = np.round(final_rmsle, 0)\n",
        "        temp['REG_YYMM'] = temp['year']*100 + temp['month']\n",
        "        temp = temp[['REG_YYMM', 'CARD_SIDO_NM', 'STD_CLSS_NM', 'AMT']]\n",
        "        temp = temp.groupby(['REG_YYMM', 'CARD_SIDO_NM', 'STD_CLSS_NM']).sum().reset_index(drop = False)\n",
        "\n",
        "        temp['CARD_SIDO_NM'] = encoders['CARD_SIDO_NM'].inverse_transform(temp['CARD_SIDO_NM'])\n",
        "        temp['STD_CLSS_NM'] = encoders['STD_CLSS_NM'].inverse_transform(temp['STD_CLSS_NM'])\n",
        "\n",
        "        return temp"
      ],
      "execution_count": 3,
      "outputs": []
    },
    {
      "cell_type": "code",
      "metadata": {
        "id": "9VnwhEx2typQ",
        "colab_type": "code",
        "colab": {}
      },
      "source": [
        "def sampling():\n",
        "    project_id = 'jeju-bigquery-282708'\n",
        "    client = bigquery.Client(project=project_id)\n",
        "\n",
        "    train = client.query('''\n",
        "    SELECT \n",
        "        * \n",
        "    FROM `jeju-bigquery-282708.jeju_bigdata.201901_202003_train`\n",
        "    ''').to_dataframe()\n",
        "\n",
        "    return train"
      ],
      "execution_count": 4,
      "outputs": []
    },
    {
      "cell_type": "code",
      "metadata": {
        "id": "9a6_f9j-t8Qi",
        "colab_type": "code",
        "colab": {}
      },
      "source": [
        "def grap_year(data):\n",
        "    data = str(data)\n",
        "    return int(data[:4])\n",
        "\n",
        "def grap_month(data):\n",
        "    data = str(data)\n",
        "    return int(data[4:])"
      ],
      "execution_count": 5,
      "outputs": []
    },
    {
      "cell_type": "code",
      "metadata": {
        "id": "84eBrJvLt9go",
        "colab_type": "code",
        "colab": {}
      },
      "source": [
        "def data_pre(data):\n",
        "    data = data.fillna('')\n",
        "    data['year'] = data['REG_YYMM'].apply(lambda x: grap_year(x))\n",
        "    data['month'] = data['REG_YYMM'].apply(lambda x: grap_month(x))\n",
        "    data = data.drop(['REG_YYMM'], axis = 1)\n",
        "\n",
        "    return data"
      ],
      "execution_count": 6,
      "outputs": []
    },
    {
      "cell_type": "code",
      "metadata": {
        "id": "lIxdqJ9Wt-1R",
        "colab_type": "code",
        "colab": {}
      },
      "source": [
        "def cate(data):\n",
        "    local = data[data['CARD_CCG_NM'] == data['HOM_CCG_NM']].reset_index(drop = True)\n",
        "    tourist = data[data['CARD_CCG_NM'] != data['HOM_CCG_NM']].reset_index(drop = True)\n",
        "    columns = ['CARD_SIDO_NM', 'CARD_CCG_NM', 'STD_CLSS_NM', 'HOM_SIDO_NM', 'AGE', 'SEX_CTGO_CD', 'FLC', 'year', 'month']\n",
        "    local, tourist = local.groupby(columns).sum().reset_index(drop=False), tourist.groupby(columns).sum().reset_index(drop=False)\n",
        "\n",
        "    return local, tourist"
      ],
      "execution_count": 7,
      "outputs": []
    },
    {
      "cell_type": "code",
      "metadata": {
        "id": "9du4x7stuTyI",
        "colab_type": "code",
        "colab": {}
      },
      "source": [
        "def encoding(cate):\n",
        "\n",
        "    global encoders\n",
        "    dtypes_cate = cate.dtypes\n",
        "    encoders = {}\n",
        "    for column in cate.columns:\n",
        "        if str(dtypes_cate[column]) == 'object':\n",
        "            encoder = LabelEncoder()\n",
        "            encoder.fit(cate[column])\n",
        "            encoders[column] = encoder\n",
        "\n",
        "    cate_num = cate.copy()\n",
        "\n",
        "    for column in encoders.keys():\n",
        "        encoder = encoders[column]\n",
        "        cate_num[column] = encoder.transform(cate[column])\n",
        "\n",
        "    return cate_num"
      ],
      "execution_count": 8,
      "outputs": []
    },
    {
      "cell_type": "code",
      "metadata": {
        "id": "nFEUGjKIuU8t",
        "colab_type": "code",
        "colab": {}
      },
      "source": [
        "def split(cate_num):\n",
        "    split_data = []\n",
        "\n",
        "    X_data, y_data = cate_num.loc[:, cate_num.columns != 'AMT'], cate_num['AMT']\n",
        "    X_data = X_data.drop(['CSTMR_CNT', 'CNT'], axis=1)\n",
        "    X_train, X_test, y_train, y_test = train_test_split(X_data, y_data, test_size=0.3, random_state=126, shuffle=True)\n",
        "    y_train = np.log1p(y_train)\n",
        "    \n",
        "    return X_train, X_test, y_train, y_test"
      ],
      "execution_count": 9,
      "outputs": []
    },
    {
      "cell_type": "code",
      "metadata": {
        "id": "IkwxebgUug-G",
        "colab_type": "code",
        "colab": {}
      },
      "source": [
        "train = pd.read_csv('/content/drive/My Drive/Colab Notebooks/jeju/201901-202003.csv')"
      ],
      "execution_count": 10,
      "outputs": []
    },
    {
      "cell_type": "code",
      "metadata": {
        "id": "ZzEuWy8WrXre",
        "colab_type": "code",
        "colab": {}
      },
      "source": [
        "# train = train[(train['REG_YYMM'] == 202002) | (train['REG_YYMM'] == 202003)]"
      ],
      "execution_count": 11,
      "outputs": []
    },
    {
      "cell_type": "code",
      "metadata": {
        "id": "lIPfClVEB95e",
        "colab_type": "code",
        "colab": {}
      },
      "source": [
        "GW = train[train['CARD_SIDO_NM'] == '강원'].reset_index(drop = True)"
      ],
      "execution_count": 12,
      "outputs": []
    },
    {
      "cell_type": "code",
      "metadata": {
        "id": "TdQg4otOGxpd",
        "colab_type": "code",
        "colab": {
          "base_uri": "https://localhost:8080/",
          "height": 402
        },
        "outputId": "142b8cde-389f-4202-9af5-96543de21b3b"
      },
      "source": [
        "GW = GW.sample(n = 10000).reset_index(drop = True)\n",
        "GW"
      ],
      "execution_count": 13,
      "outputs": [
        {
          "output_type": "execute_result",
          "data": {
            "text/html": [
              "<div>\n",
              "<style scoped>\n",
              "    .dataframe tbody tr th:only-of-type {\n",
              "        vertical-align: middle;\n",
              "    }\n",
              "\n",
              "    .dataframe tbody tr th {\n",
              "        vertical-align: top;\n",
              "    }\n",
              "\n",
              "    .dataframe thead th {\n",
              "        text-align: right;\n",
              "    }\n",
              "</style>\n",
              "<table border=\"1\" class=\"dataframe\">\n",
              "  <thead>\n",
              "    <tr style=\"text-align: right;\">\n",
              "      <th></th>\n",
              "      <th>REG_YYMM</th>\n",
              "      <th>CARD_SIDO_NM</th>\n",
              "      <th>CARD_CCG_NM</th>\n",
              "      <th>STD_CLSS_NM</th>\n",
              "      <th>HOM_SIDO_NM</th>\n",
              "      <th>HOM_CCG_NM</th>\n",
              "      <th>AGE</th>\n",
              "      <th>SEX_CTGO_CD</th>\n",
              "      <th>FLC</th>\n",
              "      <th>CSTMR_CNT</th>\n",
              "      <th>AMT</th>\n",
              "      <th>CNT</th>\n",
              "    </tr>\n",
              "  </thead>\n",
              "  <tbody>\n",
              "    <tr>\n",
              "      <th>0</th>\n",
              "      <td>201905</td>\n",
              "      <td>강원</td>\n",
              "      <td>정선군</td>\n",
              "      <td>한식 음식점업</td>\n",
              "      <td>전북</td>\n",
              "      <td>전주시 덕진구</td>\n",
              "      <td>40s</td>\n",
              "      <td>1</td>\n",
              "      <td>3</td>\n",
              "      <td>3</td>\n",
              "      <td>92000</td>\n",
              "      <td>3</td>\n",
              "    </tr>\n",
              "    <tr>\n",
              "      <th>1</th>\n",
              "      <td>202002</td>\n",
              "      <td>강원</td>\n",
              "      <td>동해시</td>\n",
              "      <td>골프장 운영업</td>\n",
              "      <td>강원</td>\n",
              "      <td>강릉시</td>\n",
              "      <td>50s</td>\n",
              "      <td>1</td>\n",
              "      <td>4</td>\n",
              "      <td>12</td>\n",
              "      <td>967000</td>\n",
              "      <td>23</td>\n",
              "    </tr>\n",
              "    <tr>\n",
              "      <th>2</th>\n",
              "      <td>202001</td>\n",
              "      <td>강원</td>\n",
              "      <td>춘천시</td>\n",
              "      <td>기타음식료품위주종합소매업</td>\n",
              "      <td>경기</td>\n",
              "      <td>화성시</td>\n",
              "      <td>40s</td>\n",
              "      <td>1</td>\n",
              "      <td>3</td>\n",
              "      <td>11</td>\n",
              "      <td>703360</td>\n",
              "      <td>14</td>\n",
              "    </tr>\n",
              "    <tr>\n",
              "      <th>3</th>\n",
              "      <td>201904</td>\n",
              "      <td>강원</td>\n",
              "      <td>정선군</td>\n",
              "      <td>체인화 편의점</td>\n",
              "      <td>울산</td>\n",
              "      <td>남구</td>\n",
              "      <td>50s</td>\n",
              "      <td>1</td>\n",
              "      <td>4</td>\n",
              "      <td>5</td>\n",
              "      <td>268100</td>\n",
              "      <td>48</td>\n",
              "    </tr>\n",
              "    <tr>\n",
              "      <th>4</th>\n",
              "      <td>201902</td>\n",
              "      <td>강원</td>\n",
              "      <td>고성군</td>\n",
              "      <td>비알콜 음료점업</td>\n",
              "      <td>강원</td>\n",
              "      <td>고성군</td>\n",
              "      <td>40s</td>\n",
              "      <td>2</td>\n",
              "      <td>3</td>\n",
              "      <td>19</td>\n",
              "      <td>289990</td>\n",
              "      <td>30</td>\n",
              "    </tr>\n",
              "    <tr>\n",
              "      <th>...</th>\n",
              "      <td>...</td>\n",
              "      <td>...</td>\n",
              "      <td>...</td>\n",
              "      <td>...</td>\n",
              "      <td>...</td>\n",
              "      <td>...</td>\n",
              "      <td>...</td>\n",
              "      <td>...</td>\n",
              "      <td>...</td>\n",
              "      <td>...</td>\n",
              "      <td>...</td>\n",
              "      <td>...</td>\n",
              "    </tr>\n",
              "    <tr>\n",
              "      <th>9995</th>\n",
              "      <td>201910</td>\n",
              "      <td>강원</td>\n",
              "      <td>홍천군</td>\n",
              "      <td>일식 음식점업</td>\n",
              "      <td>강원</td>\n",
              "      <td>홍천군</td>\n",
              "      <td>20s</td>\n",
              "      <td>2</td>\n",
              "      <td>1</td>\n",
              "      <td>3</td>\n",
              "      <td>26000</td>\n",
              "      <td>3</td>\n",
              "    </tr>\n",
              "    <tr>\n",
              "      <th>9996</th>\n",
              "      <td>201902</td>\n",
              "      <td>강원</td>\n",
              "      <td>원주시</td>\n",
              "      <td>기타 대형 종합 소매업</td>\n",
              "      <td>서울</td>\n",
              "      <td>강남구</td>\n",
              "      <td>60s</td>\n",
              "      <td>1</td>\n",
              "      <td>5</td>\n",
              "      <td>3</td>\n",
              "      <td>159430</td>\n",
              "      <td>3</td>\n",
              "    </tr>\n",
              "    <tr>\n",
              "      <th>9997</th>\n",
              "      <td>201912</td>\n",
              "      <td>강원</td>\n",
              "      <td>속초시</td>\n",
              "      <td>한식 음식점업</td>\n",
              "      <td>대구</td>\n",
              "      <td>달성군</td>\n",
              "      <td>40s</td>\n",
              "      <td>2</td>\n",
              "      <td>3</td>\n",
              "      <td>3</td>\n",
              "      <td>55000</td>\n",
              "      <td>3</td>\n",
              "    </tr>\n",
              "    <tr>\n",
              "      <th>9998</th>\n",
              "      <td>201908</td>\n",
              "      <td>강원</td>\n",
              "      <td>강릉시</td>\n",
              "      <td>한식 음식점업</td>\n",
              "      <td>경기</td>\n",
              "      <td>포천시</td>\n",
              "      <td>20s</td>\n",
              "      <td>2</td>\n",
              "      <td>2</td>\n",
              "      <td>10</td>\n",
              "      <td>238500</td>\n",
              "      <td>12</td>\n",
              "    </tr>\n",
              "    <tr>\n",
              "      <th>9999</th>\n",
              "      <td>201903</td>\n",
              "      <td>강원</td>\n",
              "      <td>원주시</td>\n",
              "      <td>기타 대형 종합 소매업</td>\n",
              "      <td>인천</td>\n",
              "      <td>부평구</td>\n",
              "      <td>40s</td>\n",
              "      <td>2</td>\n",
              "      <td>3</td>\n",
              "      <td>4</td>\n",
              "      <td>148570</td>\n",
              "      <td>5</td>\n",
              "    </tr>\n",
              "  </tbody>\n",
              "</table>\n",
              "<p>10000 rows × 12 columns</p>\n",
              "</div>"
            ],
            "text/plain": [
              "      REG_YYMM CARD_SIDO_NM CARD_CCG_NM  ... CSTMR_CNT     AMT CNT\n",
              "0       201905           강원         정선군  ...         3   92000   3\n",
              "1       202002           강원         동해시  ...        12  967000  23\n",
              "2       202001           강원         춘천시  ...        11  703360  14\n",
              "3       201904           강원         정선군  ...         5  268100  48\n",
              "4       201902           강원         고성군  ...        19  289990  30\n",
              "...        ...          ...         ...  ...       ...     ...  ..\n",
              "9995    201910           강원         홍천군  ...         3   26000   3\n",
              "9996    201902           강원         원주시  ...         3  159430   3\n",
              "9997    201912           강원         속초시  ...         3   55000   3\n",
              "9998    201908           강원         강릉시  ...        10  238500  12\n",
              "9999    201903           강원         원주시  ...         4  148570   5\n",
              "\n",
              "[10000 rows x 12 columns]"
            ]
          },
          "metadata": {
            "tags": []
          },
          "execution_count": 13
        }
      ]
    },
    {
      "cell_type": "code",
      "metadata": {
        "id": "rTnk2OrGgmKM",
        "colab_type": "code",
        "colab": {}
      },
      "source": [
        "data = data_pre(GW)"
      ],
      "execution_count": 14,
      "outputs": []
    },
    {
      "cell_type": "code",
      "metadata": {
        "id": "59icebrvgtSe",
        "colab_type": "code",
        "colab": {}
      },
      "source": [
        "local, tourist = cate(data)"
      ],
      "execution_count": 15,
      "outputs": []
    },
    {
      "cell_type": "code",
      "metadata": {
        "id": "0BGxzxqHguxO",
        "colab_type": "code",
        "colab": {}
      },
      "source": [
        "lcl_num, trst_num = encoding(local), encoding(tourist)"
      ],
      "execution_count": 16,
      "outputs": []
    },
    {
      "cell_type": "code",
      "metadata": {
        "id": "1uo4957YgwJv",
        "colab_type": "code",
        "colab": {}
      },
      "source": [
        "lcl_data, trst_data = split(lcl_num), split(trst_num)"
      ],
      "execution_count": 17,
      "outputs": []
    },
    {
      "cell_type": "code",
      "metadata": {
        "id": "GiQhFPE5gxEe",
        "colab_type": "code",
        "colab": {}
      },
      "source": [
        "lcl = Model(lcl_data, lcl_num)\n",
        "trst = Model(trst_data, trst_num)"
      ],
      "execution_count": 18,
      "outputs": []
    },
    {
      "cell_type": "code",
      "metadata": {
        "id": "j9JCu-Jugx-x",
        "colab_type": "code",
        "colab": {
          "base_uri": "https://localhost:8080/",
          "height": 510
        },
        "outputId": "1bfcc426-79e8-4e44-a7f1-201566c21acf"
      },
      "source": [
        "lcl.get_model()"
      ],
      "execution_count": 19,
      "outputs": [
        {
          "output_type": "stream",
          "text": [
            "[11:44:51] WARNING: /workspace/src/objective/regression_obj.cu:152: reg:linear is now deprecated in favor of reg:squarederror.\n",
            "[11:44:52] WARNING: /workspace/src/objective/regression_obj.cu:152: reg:linear is now deprecated in favor of reg:squarederror.\n",
            "[11:44:52] WARNING: /workspace/src/objective/regression_obj.cu:152: reg:linear is now deprecated in favor of reg:squarederror.\n",
            "[11:44:53] WARNING: /workspace/src/objective/regression_obj.cu:152: reg:linear is now deprecated in favor of reg:squarederror.\n",
            "[11:44:53] WARNING: /workspace/src/objective/regression_obj.cu:152: reg:linear is now deprecated in favor of reg:squarederror.\n",
            "[11:44:53] WARNING: /workspace/src/objective/regression_obj.cu:152: reg:linear is now deprecated in favor of reg:squarederror.\n",
            "[11:44:54] WARNING: /workspace/src/objective/regression_obj.cu:152: reg:linear is now deprecated in favor of reg:squarederror.\n",
            "[11:44:54] WARNING: /workspace/src/objective/regression_obj.cu:152: reg:linear is now deprecated in favor of reg:squarederror.\n",
            "[11:44:55] WARNING: /workspace/src/objective/regression_obj.cu:152: reg:linear is now deprecated in favor of reg:squarederror.\n",
            "[11:44:55] WARNING: /workspace/src/objective/regression_obj.cu:152: reg:linear is now deprecated in favor of reg:squarederror.\n",
            "[11:44:56] WARNING: /workspace/src/objective/regression_obj.cu:152: reg:linear is now deprecated in favor of reg:squarederror.\n",
            "1.122\n",
            "[11:44:56] WARNING: /workspace/src/objective/regression_obj.cu:152: reg:linear is now deprecated in favor of reg:squarederror.\n",
            "[11:44:56] WARNING: /workspace/src/objective/regression_obj.cu:152: reg:linear is now deprecated in favor of reg:squarederror.\n",
            "[11:44:57] WARNING: /workspace/src/objective/regression_obj.cu:152: reg:linear is now deprecated in favor of reg:squarederror.\n",
            "[11:44:57] WARNING: /workspace/src/objective/regression_obj.cu:152: reg:linear is now deprecated in favor of reg:squarederror.\n",
            "[11:44:57] WARNING: /workspace/src/objective/regression_obj.cu:152: reg:linear is now deprecated in favor of reg:squarederror.\n",
            "[11:44:57] WARNING: /workspace/src/objective/regression_obj.cu:152: reg:linear is now deprecated in favor of reg:squarederror.\n",
            "[11:44:58] WARNING: /workspace/src/objective/regression_obj.cu:152: reg:linear is now deprecated in favor of reg:squarederror.\n",
            "[11:44:58] WARNING: /workspace/src/objective/regression_obj.cu:152: reg:linear is now deprecated in favor of reg:squarederror.\n",
            "[11:44:59] WARNING: /workspace/src/objective/regression_obj.cu:152: reg:linear is now deprecated in favor of reg:squarederror.\n",
            "[11:44:59] WARNING: /workspace/src/objective/regression_obj.cu:152: reg:linear is now deprecated in favor of reg:squarederror.\n",
            "[11:45:00] WARNING: /workspace/src/objective/regression_obj.cu:152: reg:linear is now deprecated in favor of reg:squarederror.\n",
            "1.122\n",
            "1.156\n",
            "1.156\n",
            "1.308\n",
            "1.308\n"
          ],
          "name": "stdout"
        }
      ]
    },
    {
      "cell_type": "code",
      "metadata": {
        "id": "DH-YHjw8g2Kz",
        "colab_type": "code",
        "colab": {
          "base_uri": "https://localhost:8080/",
          "height": 510
        },
        "outputId": "59c7c516-362e-4e32-d999-23b17316cd06"
      },
      "source": [
        "trst.get_model()"
      ],
      "execution_count": 20,
      "outputs": [
        {
          "output_type": "stream",
          "text": [
            "[11:45:24] WARNING: /workspace/src/objective/regression_obj.cu:152: reg:linear is now deprecated in favor of reg:squarederror.\n",
            "[11:45:25] WARNING: /workspace/src/objective/regression_obj.cu:152: reg:linear is now deprecated in favor of reg:squarederror.\n",
            "[11:45:27] WARNING: /workspace/src/objective/regression_obj.cu:152: reg:linear is now deprecated in favor of reg:squarederror.\n",
            "[11:45:28] WARNING: /workspace/src/objective/regression_obj.cu:152: reg:linear is now deprecated in favor of reg:squarederror.\n",
            "[11:45:30] WARNING: /workspace/src/objective/regression_obj.cu:152: reg:linear is now deprecated in favor of reg:squarederror.\n",
            "[11:45:31] WARNING: /workspace/src/objective/regression_obj.cu:152: reg:linear is now deprecated in favor of reg:squarederror.\n",
            "[11:45:34] WARNING: /workspace/src/objective/regression_obj.cu:152: reg:linear is now deprecated in favor of reg:squarederror.\n",
            "[11:45:37] WARNING: /workspace/src/objective/regression_obj.cu:152: reg:linear is now deprecated in favor of reg:squarederror.\n",
            "[11:45:40] WARNING: /workspace/src/objective/regression_obj.cu:152: reg:linear is now deprecated in favor of reg:squarederror.\n",
            "[11:45:43] WARNING: /workspace/src/objective/regression_obj.cu:152: reg:linear is now deprecated in favor of reg:squarederror.\n",
            "[11:45:46] WARNING: /workspace/src/objective/regression_obj.cu:152: reg:linear is now deprecated in favor of reg:squarederror.\n",
            "0.948\n",
            "[11:45:50] WARNING: /workspace/src/objective/regression_obj.cu:152: reg:linear is now deprecated in favor of reg:squarederror.\n",
            "[11:45:51] WARNING: /workspace/src/objective/regression_obj.cu:152: reg:linear is now deprecated in favor of reg:squarederror.\n",
            "[11:45:53] WARNING: /workspace/src/objective/regression_obj.cu:152: reg:linear is now deprecated in favor of reg:squarederror.\n",
            "[11:45:54] WARNING: /workspace/src/objective/regression_obj.cu:152: reg:linear is now deprecated in favor of reg:squarederror.\n",
            "[11:45:56] WARNING: /workspace/src/objective/regression_obj.cu:152: reg:linear is now deprecated in favor of reg:squarederror.\n",
            "[11:45:58] WARNING: /workspace/src/objective/regression_obj.cu:152: reg:linear is now deprecated in favor of reg:squarederror.\n",
            "[11:46:01] WARNING: /workspace/src/objective/regression_obj.cu:152: reg:linear is now deprecated in favor of reg:squarederror.\n",
            "[11:46:04] WARNING: /workspace/src/objective/regression_obj.cu:152: reg:linear is now deprecated in favor of reg:squarederror.\n",
            "[11:46:07] WARNING: /workspace/src/objective/regression_obj.cu:152: reg:linear is now deprecated in favor of reg:squarederror.\n",
            "[11:46:09] WARNING: /workspace/src/objective/regression_obj.cu:152: reg:linear is now deprecated in favor of reg:squarederror.\n",
            "[11:46:12] WARNING: /workspace/src/objective/regression_obj.cu:152: reg:linear is now deprecated in favor of reg:squarederror.\n",
            "0.948\n",
            "0.946\n",
            "0.946\n",
            "0.995\n",
            "0.995\n"
          ],
          "name": "stdout"
        }
      ]
    },
    {
      "cell_type": "code",
      "metadata": {
        "id": "BRGNa1h4g3dA",
        "colab_type": "code",
        "colab": {
          "base_uri": "https://localhost:8080/",
          "height": 34
        },
        "outputId": "7313d6c3-da7e-4285-fdf1-4a8075a57f57"
      },
      "source": [
        "lcl.final()"
      ],
      "execution_count": 21,
      "outputs": [
        {
          "output_type": "stream",
          "text": [
            "1.152\n"
          ],
          "name": "stdout"
        }
      ]
    },
    {
      "cell_type": "code",
      "metadata": {
        "id": "YwQfsOrtg5SE",
        "colab_type": "code",
        "colab": {
          "base_uri": "https://localhost:8080/",
          "height": 34
        },
        "outputId": "353dfedd-cb19-4ca6-a1e2-6a056feaa188"
      },
      "source": [
        "trst.final()"
      ],
      "execution_count": 22,
      "outputs": [
        {
          "output_type": "stream",
          "text": [
            "0.945\n"
          ],
          "name": "stdout"
        }
      ]
    },
    {
      "cell_type": "code",
      "metadata": {
        "id": "Wy0-u5Bag5uk",
        "colab_type": "code",
        "colab": {}
      },
      "source": [
        "lcl_temp = lcl.make_temp()"
      ],
      "execution_count": 23,
      "outputs": []
    },
    {
      "cell_type": "code",
      "metadata": {
        "id": "SBinjcQLg66F",
        "colab_type": "code",
        "colab": {}
      },
      "source": [
        "trst_temp = trst.make_temp()"
      ],
      "execution_count": 24,
      "outputs": []
    },
    {
      "cell_type": "code",
      "metadata": {
        "id": "8xzZOlmsg8M8",
        "colab_type": "code",
        "colab": {}
      },
      "source": [
        "lcl_sub = lcl.make_sub(lcl_temp)"
      ],
      "execution_count": 25,
      "outputs": []
    },
    {
      "cell_type": "code",
      "metadata": {
        "id": "mUpVJD4Jg897",
        "colab_type": "code",
        "colab": {}
      },
      "source": [
        "trst_sub = trst.make_sub(trst_temp)"
      ],
      "execution_count": null,
      "outputs": []
    },
    {
      "cell_type": "code",
      "metadata": {
        "id": "KXRz_iMZtRGD",
        "colab_type": "code",
        "colab": {}
      },
      "source": [
        "lcl_sub"
      ],
      "execution_count": null,
      "outputs": []
    },
    {
      "cell_type": "code",
      "metadata": {
        "id": "QWaExRJerQg4",
        "colab_type": "code",
        "colab": {}
      },
      "source": [
        "trst_sub"
      ],
      "execution_count": null,
      "outputs": []
    },
    {
      "cell_type": "code",
      "metadata": {
        "id": "Gy3pMHf9dStn",
        "colab_type": "code",
        "colab": {}
      },
      "source": [
        "test = train[['REG_YYMM', 'CARD_SIDO_NM', 'STD_CLSS_NM', 'AMT']]"
      ],
      "execution_count": null,
      "outputs": []
    },
    {
      "cell_type": "code",
      "metadata": {
        "id": "ZTiGuKSjb1KP",
        "colab_type": "code",
        "colab": {}
      },
      "source": [
        "test = test[test['REG_YYMM'] == 202003]"
      ],
      "execution_count": null,
      "outputs": []
    },
    {
      "cell_type": "code",
      "metadata": {
        "id": "CLMc0vlfchFU",
        "colab_type": "code",
        "colab": {}
      },
      "source": [
        "test = test[test['CARD_SIDO_NM'] == '강원']"
      ],
      "execution_count": null,
      "outputs": []
    },
    {
      "cell_type": "code",
      "metadata": {
        "id": "4tmB_cWUc9BS",
        "colab_type": "code",
        "colab": {}
      },
      "source": [
        "test.groupby(['REG_YYMM','STD_CLSS_NM']).sum()"
      ],
      "execution_count": null,
      "outputs": []
    },
    {
      "cell_type": "code",
      "metadata": {
        "id": "J_VsTnRPdgHh",
        "colab_type": "code",
        "colab": {}
      },
      "source": [
        ""
      ],
      "execution_count": null,
      "outputs": []
    }
  ]
}